{
 "cells": [
  {
   "cell_type": "markdown",
   "metadata": {},
   "source": [
    "# Modelo de predicción de cancelación de clientes para la empresa de telecomunicaciones Interconnect"
   ]
  },
  {
   "cell_type": "markdown",
   "metadata": {},
   "source": [
    "**Problema:**\n",
    "Al operador de telecomunicaciones Interconnect le gustaría poder pronosticar su tasa de cancelación de clientes. Si se descubre que un usuario o usuaria planea irse, se le ofrecerán códigos promocionales y opciones de planes especiales. El equipo de marketing de Interconnect ha recopilado algunos de los datos personales de sus clientes, incluyendo información sobre sus planes y contratos.\n",
    "\n"
   ]
  },
  {
   "cell_type": "markdown",
   "metadata": {},
   "source": [
    "## Análisis Exploratorio"
   ]
  },
  {
   "cell_type": "code",
   "execution_count": 2,
   "metadata": {},
   "outputs": [],
   "source": [
    "# Library are imported\n",
    "\n",
    "import numpy as np\n",
    "import pandas as pd\n",
    "import math\n",
    "\n",
    "import seaborn as sns\n",
    " \n",
    "import sklearn.preprocessing\n",
    "\n",
    "import matplotlib.pyplot as plt\n",
    "\n",
    "from sklearn.model_selection import train_test_split\n",
    "\n",
    "from sklearn.compose import ColumnTransformer\n",
    "\n",
    "from sklearn.preprocessing import StandardScaler, OneHotEncoder\n",
    "\n",
    "from sklearn.ensemble import RandomForestClassifier, GradientBoostingClassifier\n",
    "from sklearn.linear_model import LogisticRegression\n",
    "from sklearn.pipeline import Pipeline\n",
    "from sklearn.metrics import roc_auc_score"
   ]
  },
  {
   "cell_type": "code",
   "execution_count": 6,
   "metadata": {},
   "outputs": [
    {
     "name": "stdout",
     "output_type": "stream",
     "text": [
      "1.21.2\n",
      "1.2.4\n",
      "0.11.1\n"
     ]
    }
   ],
   "source": [
    "print(np.__version__) \n",
    "print(pd.__version__)\n",
    "print(sns.__version__)"
   ]
  },
  {
   "cell_type": "code",
   "execution_count": 873,
   "metadata": {},
   "outputs": [
    {
     "data": {
      "text/html": [
       "<div>\n",
       "<style scoped>\n",
       "    .dataframe tbody tr th:only-of-type {\n",
       "        vertical-align: middle;\n",
       "    }\n",
       "\n",
       "    .dataframe tbody tr th {\n",
       "        vertical-align: top;\n",
       "    }\n",
       "\n",
       "    .dataframe thead th {\n",
       "        text-align: right;\n",
       "    }\n",
       "</style>\n",
       "<table border=\"1\" class=\"dataframe\">\n",
       "  <thead>\n",
       "    <tr style=\"text-align: right;\">\n",
       "      <th></th>\n",
       "      <th>customerID</th>\n",
       "      <th>BeginDate</th>\n",
       "      <th>EndDate</th>\n",
       "      <th>Type</th>\n",
       "      <th>PaperlessBilling</th>\n",
       "      <th>PaymentMethod</th>\n",
       "      <th>MonthlyCharges</th>\n",
       "      <th>TotalCharges</th>\n",
       "    </tr>\n",
       "  </thead>\n",
       "  <tbody>\n",
       "    <tr>\n",
       "      <th>0</th>\n",
       "      <td>7590-VHVEG</td>\n",
       "      <td>2020-01-01</td>\n",
       "      <td>No</td>\n",
       "      <td>Month-to-month</td>\n",
       "      <td>Yes</td>\n",
       "      <td>Electronic check</td>\n",
       "      <td>29.85</td>\n",
       "      <td>29.85</td>\n",
       "    </tr>\n",
       "    <tr>\n",
       "      <th>1</th>\n",
       "      <td>5575-GNVDE</td>\n",
       "      <td>2017-04-01</td>\n",
       "      <td>No</td>\n",
       "      <td>One year</td>\n",
       "      <td>No</td>\n",
       "      <td>Mailed check</td>\n",
       "      <td>56.95</td>\n",
       "      <td>1889.5</td>\n",
       "    </tr>\n",
       "    <tr>\n",
       "      <th>2</th>\n",
       "      <td>3668-QPYBK</td>\n",
       "      <td>2019-10-01</td>\n",
       "      <td>2019-12-01 00:00:00</td>\n",
       "      <td>Month-to-month</td>\n",
       "      <td>Yes</td>\n",
       "      <td>Mailed check</td>\n",
       "      <td>53.85</td>\n",
       "      <td>108.15</td>\n",
       "    </tr>\n",
       "    <tr>\n",
       "      <th>3</th>\n",
       "      <td>7795-CFOCW</td>\n",
       "      <td>2016-05-01</td>\n",
       "      <td>No</td>\n",
       "      <td>One year</td>\n",
       "      <td>No</td>\n",
       "      <td>Bank transfer (automatic)</td>\n",
       "      <td>42.30</td>\n",
       "      <td>1840.75</td>\n",
       "    </tr>\n",
       "    <tr>\n",
       "      <th>4</th>\n",
       "      <td>9237-HQITU</td>\n",
       "      <td>2019-09-01</td>\n",
       "      <td>2019-11-01 00:00:00</td>\n",
       "      <td>Month-to-month</td>\n",
       "      <td>Yes</td>\n",
       "      <td>Electronic check</td>\n",
       "      <td>70.70</td>\n",
       "      <td>151.65</td>\n",
       "    </tr>\n",
       "    <tr>\n",
       "      <th>...</th>\n",
       "      <td>...</td>\n",
       "      <td>...</td>\n",
       "      <td>...</td>\n",
       "      <td>...</td>\n",
       "      <td>...</td>\n",
       "      <td>...</td>\n",
       "      <td>...</td>\n",
       "      <td>...</td>\n",
       "    </tr>\n",
       "    <tr>\n",
       "      <th>7038</th>\n",
       "      <td>6840-RESVB</td>\n",
       "      <td>2018-02-01</td>\n",
       "      <td>No</td>\n",
       "      <td>One year</td>\n",
       "      <td>Yes</td>\n",
       "      <td>Mailed check</td>\n",
       "      <td>84.80</td>\n",
       "      <td>1990.5</td>\n",
       "    </tr>\n",
       "    <tr>\n",
       "      <th>7039</th>\n",
       "      <td>2234-XADUH</td>\n",
       "      <td>2014-02-01</td>\n",
       "      <td>No</td>\n",
       "      <td>One year</td>\n",
       "      <td>Yes</td>\n",
       "      <td>Credit card (automatic)</td>\n",
       "      <td>103.20</td>\n",
       "      <td>7362.9</td>\n",
       "    </tr>\n",
       "    <tr>\n",
       "      <th>7040</th>\n",
       "      <td>4801-JZAZL</td>\n",
       "      <td>2019-03-01</td>\n",
       "      <td>No</td>\n",
       "      <td>Month-to-month</td>\n",
       "      <td>Yes</td>\n",
       "      <td>Electronic check</td>\n",
       "      <td>29.60</td>\n",
       "      <td>346.45</td>\n",
       "    </tr>\n",
       "    <tr>\n",
       "      <th>7041</th>\n",
       "      <td>8361-LTMKD</td>\n",
       "      <td>2019-07-01</td>\n",
       "      <td>2019-11-01 00:00:00</td>\n",
       "      <td>Month-to-month</td>\n",
       "      <td>Yes</td>\n",
       "      <td>Mailed check</td>\n",
       "      <td>74.40</td>\n",
       "      <td>306.6</td>\n",
       "    </tr>\n",
       "    <tr>\n",
       "      <th>7042</th>\n",
       "      <td>3186-AJIEK</td>\n",
       "      <td>2014-08-01</td>\n",
       "      <td>No</td>\n",
       "      <td>Two year</td>\n",
       "      <td>Yes</td>\n",
       "      <td>Bank transfer (automatic)</td>\n",
       "      <td>105.65</td>\n",
       "      <td>6844.5</td>\n",
       "    </tr>\n",
       "  </tbody>\n",
       "</table>\n",
       "<p>7043 rows × 8 columns</p>\n",
       "</div>"
      ],
      "text/plain": [
       "      customerID   BeginDate              EndDate            Type  \\\n",
       "0     7590-VHVEG  2020-01-01                   No  Month-to-month   \n",
       "1     5575-GNVDE  2017-04-01                   No        One year   \n",
       "2     3668-QPYBK  2019-10-01  2019-12-01 00:00:00  Month-to-month   \n",
       "3     7795-CFOCW  2016-05-01                   No        One year   \n",
       "4     9237-HQITU  2019-09-01  2019-11-01 00:00:00  Month-to-month   \n",
       "...          ...         ...                  ...             ...   \n",
       "7038  6840-RESVB  2018-02-01                   No        One year   \n",
       "7039  2234-XADUH  2014-02-01                   No        One year   \n",
       "7040  4801-JZAZL  2019-03-01                   No  Month-to-month   \n",
       "7041  8361-LTMKD  2019-07-01  2019-11-01 00:00:00  Month-to-month   \n",
       "7042  3186-AJIEK  2014-08-01                   No        Two year   \n",
       "\n",
       "     PaperlessBilling              PaymentMethod  MonthlyCharges TotalCharges  \n",
       "0                 Yes           Electronic check           29.85        29.85  \n",
       "1                  No               Mailed check           56.95       1889.5  \n",
       "2                 Yes               Mailed check           53.85       108.15  \n",
       "3                  No  Bank transfer (automatic)           42.30      1840.75  \n",
       "4                 Yes           Electronic check           70.70       151.65  \n",
       "...               ...                        ...             ...          ...  \n",
       "7038              Yes               Mailed check           84.80       1990.5  \n",
       "7039              Yes    Credit card (automatic)          103.20       7362.9  \n",
       "7040              Yes           Electronic check           29.60       346.45  \n",
       "7041              Yes               Mailed check           74.40        306.6  \n",
       "7042              Yes  Bank transfer (automatic)          105.65       6844.5  \n",
       "\n",
       "[7043 rows x 8 columns]"
      ]
     },
     "metadata": {},
     "output_type": "display_data"
    },
    {
     "name": "stdout",
     "output_type": "stream",
     "text": [
      "<class 'pandas.core.frame.DataFrame'>\n",
      "RangeIndex: 7043 entries, 0 to 7042\n",
      "Data columns (total 8 columns):\n",
      " #   Column            Non-Null Count  Dtype  \n",
      "---  ------            --------------  -----  \n",
      " 0   customerID        7043 non-null   object \n",
      " 1   BeginDate         7043 non-null   object \n",
      " 2   EndDate           7043 non-null   object \n",
      " 3   Type              7043 non-null   object \n",
      " 4   PaperlessBilling  7043 non-null   object \n",
      " 5   PaymentMethod     7043 non-null   object \n",
      " 6   MonthlyCharges    7043 non-null   float64\n",
      " 7   TotalCharges      7043 non-null   object \n",
      "dtypes: float64(1), object(7)\n",
      "memory usage: 440.3+ KB\n"
     ]
    }
   ],
   "source": [
    "# Cargamos el primer dataframe y obtenemos sus cacarcterísticas\n",
    "df_contract = pd.read_csv('final_provider/contract.csv')\n",
    "display(df_contract)\n",
    "df_contract.info()"
   ]
  },
  {
   "cell_type": "code",
   "execution_count": 874,
   "metadata": {},
   "outputs": [
    {
     "name": "stdout",
     "output_type": "stream",
     "text": [
      "0\n"
     ]
    },
    {
     "data": {
      "text/html": [
       "<div>\n",
       "<style scoped>\n",
       "    .dataframe tbody tr th:only-of-type {\n",
       "        vertical-align: middle;\n",
       "    }\n",
       "\n",
       "    .dataframe tbody tr th {\n",
       "        vertical-align: top;\n",
       "    }\n",
       "\n",
       "    .dataframe thead th {\n",
       "        text-align: right;\n",
       "    }\n",
       "</style>\n",
       "<table border=\"1\" class=\"dataframe\">\n",
       "  <thead>\n",
       "    <tr style=\"text-align: right;\">\n",
       "      <th></th>\n",
       "      <th>MonthlyCharges</th>\n",
       "    </tr>\n",
       "  </thead>\n",
       "  <tbody>\n",
       "    <tr>\n",
       "      <th>count</th>\n",
       "      <td>7043.000000</td>\n",
       "    </tr>\n",
       "    <tr>\n",
       "      <th>mean</th>\n",
       "      <td>64.761692</td>\n",
       "    </tr>\n",
       "    <tr>\n",
       "      <th>std</th>\n",
       "      <td>30.090047</td>\n",
       "    </tr>\n",
       "    <tr>\n",
       "      <th>min</th>\n",
       "      <td>18.250000</td>\n",
       "    </tr>\n",
       "    <tr>\n",
       "      <th>25%</th>\n",
       "      <td>35.500000</td>\n",
       "    </tr>\n",
       "    <tr>\n",
       "      <th>50%</th>\n",
       "      <td>70.350000</td>\n",
       "    </tr>\n",
       "    <tr>\n",
       "      <th>75%</th>\n",
       "      <td>89.850000</td>\n",
       "    </tr>\n",
       "    <tr>\n",
       "      <th>max</th>\n",
       "      <td>118.750000</td>\n",
       "    </tr>\n",
       "  </tbody>\n",
       "</table>\n",
       "</div>"
      ],
      "text/plain": [
       "       MonthlyCharges\n",
       "count     7043.000000\n",
       "mean        64.761692\n",
       "std         30.090047\n",
       "min         18.250000\n",
       "25%         35.500000\n",
       "50%         70.350000\n",
       "75%         89.850000\n",
       "max        118.750000"
      ]
     },
     "execution_count": 874,
     "metadata": {},
     "output_type": "execute_result"
    }
   ],
   "source": [
    "# Se imprime el número de duplicados y sus propiedades\n",
    "print(df_contract.duplicated().sum())\n",
    "df_contract.describe()"
   ]
  },
  {
   "cell_type": "code",
   "execution_count": 875,
   "metadata": {},
   "outputs": [
    {
     "data": {
      "image/png": "[encoded data removed]",
      "text/plain": [
       "<Figure size 1000x600 with 1 Axes>"
      ]
     },
     "metadata": {},
     "output_type": "display_data"
    }
   ],
   "source": [
    "# Análizamos la distribución por tipo de contrato y cancelaciones\n",
    "plt.figure(figsize=(10, 6))\n",
    "sns.countplot(data=df_contract, x='Type', hue='EndDate')\n",
    "plt.title('Distribución por Tipo de Contrato y Cancelaciones')\n",
    "plt.show()"
   ]
  },
  {
   "cell_type": "code",
   "execution_count": 876,
   "metadata": {},
   "outputs": [
    {
     "data": {
      "image/png": "[encoded data removed]",
      "text/plain": [
       "<Figure size 1200x600 with 1 Axes>"
      ]
     },
     "metadata": {},
     "output_type": "display_data"
    }
   ],
   "source": [
    "# Se analiza la distribución por método de pago contra cancelación\n",
    "pd.crosstab(df_contract['PaymentMethod'], df_contract['EndDate']).plot(kind='bar', figsize=(12, 6))\n",
    "plt.title('Métodos de Pago vs Cancelación')\n",
    "plt.show()"
   ]
  },
  {
   "cell_type": "code",
   "execution_count": 877,
   "metadata": {},
   "outputs": [],
   "source": [
    "df_contract.to_csv('df_contract.csv', index=False)  "
   ]
  },
  {
   "cell_type": "code",
   "execution_count": 878,
   "metadata": {},
   "outputs": [
    {
     "data": {
      "text/html": [
       "<div>\n",
       "<style scoped>\n",
       "    .dataframe tbody tr th:only-of-type {\n",
       "        vertical-align: middle;\n",
       "    }\n",
       "\n",
       "    .dataframe tbody tr th {\n",
       "        vertical-align: top;\n",
       "    }\n",
       "\n",
       "    .dataframe thead th {\n",
       "        text-align: right;\n",
       "    }\n",
       "</style>\n",
       "<table border=\"1\" class=\"dataframe\">\n",
       "  <thead>\n",
       "    <tr style=\"text-align: right;\">\n",
       "      <th></th>\n",
       "      <th>customerID</th>\n",
       "      <th>InternetService</th>\n",
       "      <th>OnlineSecurity</th>\n",
       "      <th>OnlineBackup</th>\n",
       "      <th>DeviceProtection</th>\n",
       "      <th>TechSupport</th>\n",
       "      <th>StreamingTV</th>\n",
       "      <th>StreamingMovies</th>\n",
       "    </tr>\n",
       "  </thead>\n",
       "  <tbody>\n",
       "    <tr>\n",
       "      <th>0</th>\n",
       "      <td>7590-VHVEG</td>\n",
       "      <td>DSL</td>\n",
       "      <td>No</td>\n",
       "      <td>Yes</td>\n",
       "      <td>No</td>\n",
       "      <td>No</td>\n",
       "      <td>No</td>\n",
       "      <td>No</td>\n",
       "    </tr>\n",
       "    <tr>\n",
       "      <th>1</th>\n",
       "      <td>5575-GNVDE</td>\n",
       "      <td>DSL</td>\n",
       "      <td>Yes</td>\n",
       "      <td>No</td>\n",
       "      <td>Yes</td>\n",
       "      <td>No</td>\n",
       "      <td>No</td>\n",
       "      <td>No</td>\n",
       "    </tr>\n",
       "    <tr>\n",
       "      <th>2</th>\n",
       "      <td>3668-QPYBK</td>\n",
       "      <td>DSL</td>\n",
       "      <td>Yes</td>\n",
       "      <td>Yes</td>\n",
       "      <td>No</td>\n",
       "      <td>No</td>\n",
       "      <td>No</td>\n",
       "      <td>No</td>\n",
       "    </tr>\n",
       "    <tr>\n",
       "      <th>3</th>\n",
       "      <td>7795-CFOCW</td>\n",
       "      <td>DSL</td>\n",
       "      <td>Yes</td>\n",
       "      <td>No</td>\n",
       "      <td>Yes</td>\n",
       "      <td>Yes</td>\n",
       "      <td>No</td>\n",
       "      <td>No</td>\n",
       "    </tr>\n",
       "    <tr>\n",
       "      <th>4</th>\n",
       "      <td>9237-HQITU</td>\n",
       "      <td>Fiber optic</td>\n",
       "      <td>No</td>\n",
       "      <td>No</td>\n",
       "      <td>No</td>\n",
       "      <td>No</td>\n",
       "      <td>No</td>\n",
       "      <td>No</td>\n",
       "    </tr>\n",
       "    <tr>\n",
       "      <th>...</th>\n",
       "      <td>...</td>\n",
       "      <td>...</td>\n",
       "      <td>...</td>\n",
       "      <td>...</td>\n",
       "      <td>...</td>\n",
       "      <td>...</td>\n",
       "      <td>...</td>\n",
       "      <td>...</td>\n",
       "    </tr>\n",
       "    <tr>\n",
       "      <th>5512</th>\n",
       "      <td>6840-RESVB</td>\n",
       "      <td>DSL</td>\n",
       "      <td>Yes</td>\n",
       "      <td>No</td>\n",
       "      <td>Yes</td>\n",
       "      <td>Yes</td>\n",
       "      <td>Yes</td>\n",
       "      <td>Yes</td>\n",
       "    </tr>\n",
       "    <tr>\n",
       "      <th>5513</th>\n",
       "      <td>2234-XADUH</td>\n",
       "      <td>Fiber optic</td>\n",
       "      <td>No</td>\n",
       "      <td>Yes</td>\n",
       "      <td>Yes</td>\n",
       "      <td>No</td>\n",
       "      <td>Yes</td>\n",
       "      <td>Yes</td>\n",
       "    </tr>\n",
       "    <tr>\n",
       "      <th>5514</th>\n",
       "      <td>4801-JZAZL</td>\n",
       "      <td>DSL</td>\n",
       "      <td>Yes</td>\n",
       "      <td>No</td>\n",
       "      <td>No</td>\n",
       "      <td>No</td>\n",
       "      <td>No</td>\n",
       "      <td>No</td>\n",
       "    </tr>\n",
       "    <tr>\n",
       "      <th>5515</th>\n",
       "      <td>8361-LTMKD</td>\n",
       "      <td>Fiber optic</td>\n",
       "      <td>No</td>\n",
       "      <td>No</td>\n",
       "      <td>No</td>\n",
       "      <td>No</td>\n",
       "      <td>No</td>\n",
       "      <td>No</td>\n",
       "    </tr>\n",
       "    <tr>\n",
       "      <th>5516</th>\n",
       "      <td>3186-AJIEK</td>\n",
       "      <td>Fiber optic</td>\n",
       "      <td>Yes</td>\n",
       "      <td>No</td>\n",
       "      <td>Yes</td>\n",
       "      <td>Yes</td>\n",
       "      <td>Yes</td>\n",
       "      <td>Yes</td>\n",
       "    </tr>\n",
       "  </tbody>\n",
       "</table>\n",
       "<p>5517 rows × 8 columns</p>\n",
       "</div>"
      ],
      "text/plain": [
       "      customerID InternetService OnlineSecurity OnlineBackup DeviceProtection  \\\n",
       "0     7590-VHVEG             DSL             No          Yes               No   \n",
       "1     5575-GNVDE             DSL            Yes           No              Yes   \n",
       "2     3668-QPYBK             DSL            Yes          Yes               No   \n",
       "3     7795-CFOCW             DSL            Yes           No              Yes   \n",
       "4     9237-HQITU     Fiber optic             No           No               No   \n",
       "...          ...             ...            ...          ...              ...   \n",
       "5512  6840-RESVB             DSL            Yes           No              Yes   \n",
       "5513  2234-XADUH     Fiber optic             No          Yes              Yes   \n",
       "5514  4801-JZAZL             DSL            Yes           No               No   \n",
       "5515  8361-LTMKD     Fiber optic             No           No               No   \n",
       "5516  3186-AJIEK     Fiber optic            Yes           No              Yes   \n",
       "\n",
       "     TechSupport StreamingTV StreamingMovies  \n",
       "0             No          No              No  \n",
       "1             No          No              No  \n",
       "2             No          No              No  \n",
       "3            Yes          No              No  \n",
       "4             No          No              No  \n",
       "...          ...         ...             ...  \n",
       "5512         Yes         Yes             Yes  \n",
       "5513          No         Yes             Yes  \n",
       "5514          No          No              No  \n",
       "5515          No          No              No  \n",
       "5516         Yes         Yes             Yes  \n",
       "\n",
       "[5517 rows x 8 columns]"
      ]
     },
     "metadata": {},
     "output_type": "display_data"
    },
    {
     "name": "stdout",
     "output_type": "stream",
     "text": [
      "<class 'pandas.core.frame.DataFrame'>\n",
      "RangeIndex: 5517 entries, 0 to 5516\n",
      "Data columns (total 8 columns):\n",
      " #   Column            Non-Null Count  Dtype \n",
      "---  ------            --------------  ----- \n",
      " 0   customerID        5517 non-null   object\n",
      " 1   InternetService   5517 non-null   object\n",
      " 2   OnlineSecurity    5517 non-null   object\n",
      " 3   OnlineBackup      5517 non-null   object\n",
      " 4   DeviceProtection  5517 non-null   object\n",
      " 5   TechSupport       5517 non-null   object\n",
      " 6   StreamingTV       5517 non-null   object\n",
      " 7   StreamingMovies   5517 non-null   object\n",
      "dtypes: object(8)\n",
      "memory usage: 344.9+ KB\n"
     ]
    }
   ],
   "source": [
    "# Cargamos el segundo dataframe y obtenemos sus cacarcterísticas\n",
    "df_internet = pd.read_csv('final_provider/internet.csv')\n",
    "display(df_internet)\n",
    "df_internet.info()"
   ]
  },
  {
   "cell_type": "code",
   "execution_count": 879,
   "metadata": {},
   "outputs": [
    {
     "name": "stdout",
     "output_type": "stream",
     "text": [
      "0\n"
     ]
    },
    {
     "data": {
      "text/html": [
       "<div>\n",
       "<style scoped>\n",
       "    .dataframe tbody tr th:only-of-type {\n",
       "        vertical-align: middle;\n",
       "    }\n",
       "\n",
       "    .dataframe tbody tr th {\n",
       "        vertical-align: top;\n",
       "    }\n",
       "\n",
       "    .dataframe thead th {\n",
       "        text-align: right;\n",
       "    }\n",
       "</style>\n",
       "<table border=\"1\" class=\"dataframe\">\n",
       "  <thead>\n",
       "    <tr style=\"text-align: right;\">\n",
       "      <th></th>\n",
       "      <th>customerID</th>\n",
       "      <th>InternetService</th>\n",
       "      <th>OnlineSecurity</th>\n",
       "      <th>OnlineBackup</th>\n",
       "      <th>DeviceProtection</th>\n",
       "      <th>TechSupport</th>\n",
       "      <th>StreamingTV</th>\n",
       "      <th>StreamingMovies</th>\n",
       "    </tr>\n",
       "  </thead>\n",
       "  <tbody>\n",
       "    <tr>\n",
       "      <th>count</th>\n",
       "      <td>5517</td>\n",
       "      <td>5517</td>\n",
       "      <td>5517</td>\n",
       "      <td>5517</td>\n",
       "      <td>5517</td>\n",
       "      <td>5517</td>\n",
       "      <td>5517</td>\n",
       "      <td>5517</td>\n",
       "    </tr>\n",
       "    <tr>\n",
       "      <th>unique</th>\n",
       "      <td>5517</td>\n",
       "      <td>2</td>\n",
       "      <td>2</td>\n",
       "      <td>2</td>\n",
       "      <td>2</td>\n",
       "      <td>2</td>\n",
       "      <td>2</td>\n",
       "      <td>2</td>\n",
       "    </tr>\n",
       "    <tr>\n",
       "      <th>top</th>\n",
       "      <td>3318-NMQXL</td>\n",
       "      <td>Fiber optic</td>\n",
       "      <td>No</td>\n",
       "      <td>No</td>\n",
       "      <td>No</td>\n",
       "      <td>No</td>\n",
       "      <td>No</td>\n",
       "      <td>No</td>\n",
       "    </tr>\n",
       "    <tr>\n",
       "      <th>freq</th>\n",
       "      <td>1</td>\n",
       "      <td>3096</td>\n",
       "      <td>3498</td>\n",
       "      <td>3088</td>\n",
       "      <td>3095</td>\n",
       "      <td>3473</td>\n",
       "      <td>2810</td>\n",
       "      <td>2785</td>\n",
       "    </tr>\n",
       "  </tbody>\n",
       "</table>\n",
       "</div>"
      ],
      "text/plain": [
       "        customerID InternetService OnlineSecurity OnlineBackup  \\\n",
       "count         5517            5517           5517         5517   \n",
       "unique        5517               2              2            2   \n",
       "top     3318-NMQXL     Fiber optic             No           No   \n",
       "freq             1            3096           3498         3088   \n",
       "\n",
       "       DeviceProtection TechSupport StreamingTV StreamingMovies  \n",
       "count              5517        5517        5517            5517  \n",
       "unique                2           2           2               2  \n",
       "top                  No          No          No              No  \n",
       "freq               3095        3473        2810            2785  "
      ]
     },
     "execution_count": 879,
     "metadata": {},
     "output_type": "execute_result"
    }
   ],
   "source": [
    "# Se imprime el número de duplicados y sus propiedades\n",
    "print(df_internet.duplicated().sum())\n",
    "df_internet.describe()"
   ]
  },
  {
   "cell_type": "code",
   "execution_count": 880,
   "metadata": {},
   "outputs": [
    {
     "data": {
      "text/html": [
       "<div>\n",
       "<style scoped>\n",
       "    .dataframe tbody tr th:only-of-type {\n",
       "        vertical-align: middle;\n",
       "    }\n",
       "\n",
       "    .dataframe tbody tr th {\n",
       "        vertical-align: top;\n",
       "    }\n",
       "\n",
       "    .dataframe thead th {\n",
       "        text-align: right;\n",
       "    }\n",
       "</style>\n",
       "<table border=\"1\" class=\"dataframe\">\n",
       "  <thead>\n",
       "    <tr style=\"text-align: right;\">\n",
       "      <th></th>\n",
       "      <th>customerID</th>\n",
       "      <th>gender</th>\n",
       "      <th>SeniorCitizen</th>\n",
       "      <th>Partner</th>\n",
       "      <th>Dependents</th>\n",
       "    </tr>\n",
       "  </thead>\n",
       "  <tbody>\n",
       "    <tr>\n",
       "      <th>0</th>\n",
       "      <td>7590-VHVEG</td>\n",
       "      <td>Female</td>\n",
       "      <td>0</td>\n",
       "      <td>Yes</td>\n",
       "      <td>No</td>\n",
       "    </tr>\n",
       "    <tr>\n",
       "      <th>1</th>\n",
       "      <td>5575-GNVDE</td>\n",
       "      <td>Male</td>\n",
       "      <td>0</td>\n",
       "      <td>No</td>\n",
       "      <td>No</td>\n",
       "    </tr>\n",
       "    <tr>\n",
       "      <th>2</th>\n",
       "      <td>3668-QPYBK</td>\n",
       "      <td>Male</td>\n",
       "      <td>0</td>\n",
       "      <td>No</td>\n",
       "      <td>No</td>\n",
       "    </tr>\n",
       "    <tr>\n",
       "      <th>3</th>\n",
       "      <td>7795-CFOCW</td>\n",
       "      <td>Male</td>\n",
       "      <td>0</td>\n",
       "      <td>No</td>\n",
       "      <td>No</td>\n",
       "    </tr>\n",
       "    <tr>\n",
       "      <th>4</th>\n",
       "      <td>9237-HQITU</td>\n",
       "      <td>Female</td>\n",
       "      <td>0</td>\n",
       "      <td>No</td>\n",
       "      <td>No</td>\n",
       "    </tr>\n",
       "    <tr>\n",
       "      <th>...</th>\n",
       "      <td>...</td>\n",
       "      <td>...</td>\n",
       "      <td>...</td>\n",
       "      <td>...</td>\n",
       "      <td>...</td>\n",
       "    </tr>\n",
       "    <tr>\n",
       "      <th>7038</th>\n",
       "      <td>6840-RESVB</td>\n",
       "      <td>Male</td>\n",
       "      <td>0</td>\n",
       "      <td>Yes</td>\n",
       "      <td>Yes</td>\n",
       "    </tr>\n",
       "    <tr>\n",
       "      <th>7039</th>\n",
       "      <td>2234-XADUH</td>\n",
       "      <td>Female</td>\n",
       "      <td>0</td>\n",
       "      <td>Yes</td>\n",
       "      <td>Yes</td>\n",
       "    </tr>\n",
       "    <tr>\n",
       "      <th>7040</th>\n",
       "      <td>4801-JZAZL</td>\n",
       "      <td>Female</td>\n",
       "      <td>0</td>\n",
       "      <td>Yes</td>\n",
       "      <td>Yes</td>\n",
       "    </tr>\n",
       "    <tr>\n",
       "      <th>7041</th>\n",
       "      <td>8361-LTMKD</td>\n",
       "      <td>Male</td>\n",
       "      <td>1</td>\n",
       "      <td>Yes</td>\n",
       "      <td>No</td>\n",
       "    </tr>\n",
       "    <tr>\n",
       "      <th>7042</th>\n",
       "      <td>3186-AJIEK</td>\n",
       "      <td>Male</td>\n",
       "      <td>0</td>\n",
       "      <td>No</td>\n",
       "      <td>No</td>\n",
       "    </tr>\n",
       "  </tbody>\n",
       "</table>\n",
       "<p>7043 rows × 5 columns</p>\n",
       "</div>"
      ],
      "text/plain": [
       "      customerID  gender  SeniorCitizen Partner Dependents\n",
       "0     7590-VHVEG  Female              0     Yes         No\n",
       "1     5575-GNVDE    Male              0      No         No\n",
       "2     3668-QPYBK    Male              0      No         No\n",
       "3     7795-CFOCW    Male              0      No         No\n",
       "4     9237-HQITU  Female              0      No         No\n",
       "...          ...     ...            ...     ...        ...\n",
       "7038  6840-RESVB    Male              0     Yes        Yes\n",
       "7039  2234-XADUH  Female              0     Yes        Yes\n",
       "7040  4801-JZAZL  Female              0     Yes        Yes\n",
       "7041  8361-LTMKD    Male              1     Yes         No\n",
       "7042  3186-AJIEK    Male              0      No         No\n",
       "\n",
       "[7043 rows x 5 columns]"
      ]
     },
     "metadata": {},
     "output_type": "display_data"
    },
    {
     "name": "stdout",
     "output_type": "stream",
     "text": [
      "<class 'pandas.core.frame.DataFrame'>\n",
      "RangeIndex: 7043 entries, 0 to 7042\n",
      "Data columns (total 5 columns):\n",
      " #   Column         Non-Null Count  Dtype \n",
      "---  ------         --------------  ----- \n",
      " 0   customerID     7043 non-null   object\n",
      " 1   gender         7043 non-null   object\n",
      " 2   SeniorCitizen  7043 non-null   int64 \n",
      " 3   Partner        7043 non-null   object\n",
      " 4   Dependents     7043 non-null   object\n",
      "dtypes: int64(1), object(4)\n",
      "memory usage: 275.2+ KB\n"
     ]
    }
   ],
   "source": [
    "# Cargamos el segundo dataframe y obtenemos sus cacarcterísticas\n",
    "df_personal = pd.read_csv('final_provider/personal.csv')\n",
    "display(df_personal)\n",
    "df_personal.info()"
   ]
  },
  {
   "cell_type": "code",
   "execution_count": 881,
   "metadata": {},
   "outputs": [
    {
     "name": "stdout",
     "output_type": "stream",
     "text": [
      "0\n"
     ]
    },
    {
     "data": {
      "text/html": [
       "<div>\n",
       "<style scoped>\n",
       "    .dataframe tbody tr th:only-of-type {\n",
       "        vertical-align: middle;\n",
       "    }\n",
       "\n",
       "    .dataframe tbody tr th {\n",
       "        vertical-align: top;\n",
       "    }\n",
       "\n",
       "    .dataframe thead th {\n",
       "        text-align: right;\n",
       "    }\n",
       "</style>\n",
       "<table border=\"1\" class=\"dataframe\">\n",
       "  <thead>\n",
       "    <tr style=\"text-align: right;\">\n",
       "      <th></th>\n",
       "      <th>SeniorCitizen</th>\n",
       "    </tr>\n",
       "  </thead>\n",
       "  <tbody>\n",
       "    <tr>\n",
       "      <th>count</th>\n",
       "      <td>7043.000000</td>\n",
       "    </tr>\n",
       "    <tr>\n",
       "      <th>mean</th>\n",
       "      <td>0.162147</td>\n",
       "    </tr>\n",
       "    <tr>\n",
       "      <th>std</th>\n",
       "      <td>0.368612</td>\n",
       "    </tr>\n",
       "    <tr>\n",
       "      <th>min</th>\n",
       "      <td>0.000000</td>\n",
       "    </tr>\n",
       "    <tr>\n",
       "      <th>25%</th>\n",
       "      <td>0.000000</td>\n",
       "    </tr>\n",
       "    <tr>\n",
       "      <th>50%</th>\n",
       "      <td>0.000000</td>\n",
       "    </tr>\n",
       "    <tr>\n",
       "      <th>75%</th>\n",
       "      <td>0.000000</td>\n",
       "    </tr>\n",
       "    <tr>\n",
       "      <th>max</th>\n",
       "      <td>1.000000</td>\n",
       "    </tr>\n",
       "  </tbody>\n",
       "</table>\n",
       "</div>"
      ],
      "text/plain": [
       "       SeniorCitizen\n",
       "count    7043.000000\n",
       "mean        0.162147\n",
       "std         0.368612\n",
       "min         0.000000\n",
       "25%         0.000000\n",
       "50%         0.000000\n",
       "75%         0.000000\n",
       "max         1.000000"
      ]
     },
     "execution_count": 881,
     "metadata": {},
     "output_type": "execute_result"
    }
   ],
   "source": [
    "# Se imprime el número de duplicados y sus propiedades\n",
    "print(df_personal.duplicated().sum())\n",
    "df_personal.describe()"
   ]
  },
  {
   "cell_type": "code",
   "execution_count": 882,
   "metadata": {},
   "outputs": [
    {
     "data": {
      "text/html": [
       "<div>\n",
       "<style scoped>\n",
       "    .dataframe tbody tr th:only-of-type {\n",
       "        vertical-align: middle;\n",
       "    }\n",
       "\n",
       "    .dataframe tbody tr th {\n",
       "        vertical-align: top;\n",
       "    }\n",
       "\n",
       "    .dataframe thead th {\n",
       "        text-align: right;\n",
       "    }\n",
       "</style>\n",
       "<table border=\"1\" class=\"dataframe\">\n",
       "  <thead>\n",
       "    <tr style=\"text-align: right;\">\n",
       "      <th></th>\n",
       "      <th>customerID</th>\n",
       "      <th>MultipleLines</th>\n",
       "    </tr>\n",
       "  </thead>\n",
       "  <tbody>\n",
       "    <tr>\n",
       "      <th>0</th>\n",
       "      <td>5575-GNVDE</td>\n",
       "      <td>No</td>\n",
       "    </tr>\n",
       "    <tr>\n",
       "      <th>1</th>\n",
       "      <td>3668-QPYBK</td>\n",
       "      <td>No</td>\n",
       "    </tr>\n",
       "    <tr>\n",
       "      <th>2</th>\n",
       "      <td>9237-HQITU</td>\n",
       "      <td>No</td>\n",
       "    </tr>\n",
       "    <tr>\n",
       "      <th>3</th>\n",
       "      <td>9305-CDSKC</td>\n",
       "      <td>Yes</td>\n",
       "    </tr>\n",
       "    <tr>\n",
       "      <th>4</th>\n",
       "      <td>1452-KIOVK</td>\n",
       "      <td>Yes</td>\n",
       "    </tr>\n",
       "    <tr>\n",
       "      <th>...</th>\n",
       "      <td>...</td>\n",
       "      <td>...</td>\n",
       "    </tr>\n",
       "    <tr>\n",
       "      <th>6356</th>\n",
       "      <td>2569-WGERO</td>\n",
       "      <td>No</td>\n",
       "    </tr>\n",
       "    <tr>\n",
       "      <th>6357</th>\n",
       "      <td>6840-RESVB</td>\n",
       "      <td>Yes</td>\n",
       "    </tr>\n",
       "    <tr>\n",
       "      <th>6358</th>\n",
       "      <td>2234-XADUH</td>\n",
       "      <td>Yes</td>\n",
       "    </tr>\n",
       "    <tr>\n",
       "      <th>6359</th>\n",
       "      <td>8361-LTMKD</td>\n",
       "      <td>Yes</td>\n",
       "    </tr>\n",
       "    <tr>\n",
       "      <th>6360</th>\n",
       "      <td>3186-AJIEK</td>\n",
       "      <td>No</td>\n",
       "    </tr>\n",
       "  </tbody>\n",
       "</table>\n",
       "<p>6361 rows × 2 columns</p>\n",
       "</div>"
      ],
      "text/plain": [
       "      customerID MultipleLines\n",
       "0     5575-GNVDE            No\n",
       "1     3668-QPYBK            No\n",
       "2     9237-HQITU            No\n",
       "3     9305-CDSKC           Yes\n",
       "4     1452-KIOVK           Yes\n",
       "...          ...           ...\n",
       "6356  2569-WGERO            No\n",
       "6357  6840-RESVB           Yes\n",
       "6358  2234-XADUH           Yes\n",
       "6359  8361-LTMKD           Yes\n",
       "6360  3186-AJIEK            No\n",
       "\n",
       "[6361 rows x 2 columns]"
      ]
     },
     "metadata": {},
     "output_type": "display_data"
    },
    {
     "name": "stdout",
     "output_type": "stream",
     "text": [
      "<class 'pandas.core.frame.DataFrame'>\n",
      "RangeIndex: 6361 entries, 0 to 6360\n",
      "Data columns (total 2 columns):\n",
      " #   Column         Non-Null Count  Dtype \n",
      "---  ------         --------------  ----- \n",
      " 0   customerID     6361 non-null   object\n",
      " 1   MultipleLines  6361 non-null   object\n",
      "dtypes: object(2)\n",
      "memory usage: 99.5+ KB\n"
     ]
    }
   ],
   "source": [
    "# Cargamos el segundo dataframe y obtenemos sus cacarcterísticas\n",
    "df_phone = pd.read_csv('final_provider/phone.csv')\n",
    "display(df_phone)\n",
    "df_phone.info()"
   ]
  },
  {
   "cell_type": "code",
   "execution_count": 883,
   "metadata": {},
   "outputs": [
    {
     "name": "stdout",
     "output_type": "stream",
     "text": [
      "0\n"
     ]
    },
    {
     "data": {
      "text/html": [
       "<div>\n",
       "<style scoped>\n",
       "    .dataframe tbody tr th:only-of-type {\n",
       "        vertical-align: middle;\n",
       "    }\n",
       "\n",
       "    .dataframe tbody tr th {\n",
       "        vertical-align: top;\n",
       "    }\n",
       "\n",
       "    .dataframe thead th {\n",
       "        text-align: right;\n",
       "    }\n",
       "</style>\n",
       "<table border=\"1\" class=\"dataframe\">\n",
       "  <thead>\n",
       "    <tr style=\"text-align: right;\">\n",
       "      <th></th>\n",
       "      <th>customerID</th>\n",
       "      <th>MultipleLines</th>\n",
       "    </tr>\n",
       "  </thead>\n",
       "  <tbody>\n",
       "    <tr>\n",
       "      <th>count</th>\n",
       "      <td>6361</td>\n",
       "      <td>6361</td>\n",
       "    </tr>\n",
       "    <tr>\n",
       "      <th>unique</th>\n",
       "      <td>6361</td>\n",
       "      <td>2</td>\n",
       "    </tr>\n",
       "    <tr>\n",
       "      <th>top</th>\n",
       "      <td>7197-VOJMM</td>\n",
       "      <td>No</td>\n",
       "    </tr>\n",
       "    <tr>\n",
       "      <th>freq</th>\n",
       "      <td>1</td>\n",
       "      <td>3390</td>\n",
       "    </tr>\n",
       "  </tbody>\n",
       "</table>\n",
       "</div>"
      ],
      "text/plain": [
       "        customerID MultipleLines\n",
       "count         6361          6361\n",
       "unique        6361             2\n",
       "top     7197-VOJMM            No\n",
       "freq             1          3390"
      ]
     },
     "execution_count": 883,
     "metadata": {},
     "output_type": "execute_result"
    }
   ],
   "source": [
    "# Se imprime el número de duplicados y sus propiedades\n",
    "print(df_phone.duplicated().sum())\n",
    "\n",
    "df_phone.describe()"
   ]
  },
  {
   "cell_type": "markdown",
   "metadata": {},
   "source": [
    "**Observaciones**\n",
    "\n",
    "* Podemos observar de primera instancia que las cancelaciones se dan más en los pagos mes a mes y con el métodos de pago de cheque electrónico.\n",
    "* Se deben normalizar los nombres de las columnas a minúsculas para un análisis más eficiente.\n",
    "* Cambiar tipos de varible a las columnas que sean necesarias y cambiar o eliminar valores nulos, duplicados o valores que contengan errores de entrada.\n",
    "* Unir tablas que sean necesarias."
   ]
  },
  {
   "cell_type": "markdown",
   "metadata": {},
   "source": [
    "## Preparación de los datos"
   ]
  },
  {
   "cell_type": "code",
   "execution_count": 884,
   "metadata": {},
   "outputs": [
    {
     "data": {
      "text/html": [
       "<div>\n",
       "<style scoped>\n",
       "    .dataframe tbody tr th:only-of-type {\n",
       "        vertical-align: middle;\n",
       "    }\n",
       "\n",
       "    .dataframe tbody tr th {\n",
       "        vertical-align: top;\n",
       "    }\n",
       "\n",
       "    .dataframe thead th {\n",
       "        text-align: right;\n",
       "    }\n",
       "</style>\n",
       "<table border=\"1\" class=\"dataframe\">\n",
       "  <thead>\n",
       "    <tr style=\"text-align: right;\">\n",
       "      <th></th>\n",
       "      <th>customerID</th>\n",
       "      <th>BeginDate</th>\n",
       "      <th>EndDate</th>\n",
       "      <th>Type</th>\n",
       "      <th>PaperlessBilling</th>\n",
       "      <th>PaymentMethod</th>\n",
       "      <th>MonthlyCharges</th>\n",
       "      <th>TotalCharges</th>\n",
       "      <th>gender</th>\n",
       "      <th>SeniorCitizen</th>\n",
       "      <th>Partner</th>\n",
       "      <th>Dependents</th>\n",
       "      <th>InternetService</th>\n",
       "      <th>OnlineSecurity</th>\n",
       "      <th>OnlineBackup</th>\n",
       "      <th>DeviceProtection</th>\n",
       "      <th>TechSupport</th>\n",
       "      <th>StreamingTV</th>\n",
       "      <th>StreamingMovies</th>\n",
       "      <th>MultipleLines</th>\n",
       "    </tr>\n",
       "  </thead>\n",
       "  <tbody>\n",
       "    <tr>\n",
       "      <th>0</th>\n",
       "      <td>7590-VHVEG</td>\n",
       "      <td>2020-01-01</td>\n",
       "      <td>No</td>\n",
       "      <td>Month-to-month</td>\n",
       "      <td>Yes</td>\n",
       "      <td>Electronic check</td>\n",
       "      <td>29.85</td>\n",
       "      <td>29.85</td>\n",
       "      <td>Female</td>\n",
       "      <td>0</td>\n",
       "      <td>Yes</td>\n",
       "      <td>No</td>\n",
       "      <td>DSL</td>\n",
       "      <td>No</td>\n",
       "      <td>Yes</td>\n",
       "      <td>No</td>\n",
       "      <td>No</td>\n",
       "      <td>No</td>\n",
       "      <td>No</td>\n",
       "      <td>NaN</td>\n",
       "    </tr>\n",
       "    <tr>\n",
       "      <th>1</th>\n",
       "      <td>5575-GNVDE</td>\n",
       "      <td>2017-04-01</td>\n",
       "      <td>No</td>\n",
       "      <td>One year</td>\n",
       "      <td>No</td>\n",
       "      <td>Mailed check</td>\n",
       "      <td>56.95</td>\n",
       "      <td>1889.5</td>\n",
       "      <td>Male</td>\n",
       "      <td>0</td>\n",
       "      <td>No</td>\n",
       "      <td>No</td>\n",
       "      <td>DSL</td>\n",
       "      <td>Yes</td>\n",
       "      <td>No</td>\n",
       "      <td>Yes</td>\n",
       "      <td>No</td>\n",
       "      <td>No</td>\n",
       "      <td>No</td>\n",
       "      <td>No</td>\n",
       "    </tr>\n",
       "    <tr>\n",
       "      <th>2</th>\n",
       "      <td>3668-QPYBK</td>\n",
       "      <td>2019-10-01</td>\n",
       "      <td>2019-12-01 00:00:00</td>\n",
       "      <td>Month-to-month</td>\n",
       "      <td>Yes</td>\n",
       "      <td>Mailed check</td>\n",
       "      <td>53.85</td>\n",
       "      <td>108.15</td>\n",
       "      <td>Male</td>\n",
       "      <td>0</td>\n",
       "      <td>No</td>\n",
       "      <td>No</td>\n",
       "      <td>DSL</td>\n",
       "      <td>Yes</td>\n",
       "      <td>Yes</td>\n",
       "      <td>No</td>\n",
       "      <td>No</td>\n",
       "      <td>No</td>\n",
       "      <td>No</td>\n",
       "      <td>No</td>\n",
       "    </tr>\n",
       "    <tr>\n",
       "      <th>3</th>\n",
       "      <td>7795-CFOCW</td>\n",
       "      <td>2016-05-01</td>\n",
       "      <td>No</td>\n",
       "      <td>One year</td>\n",
       "      <td>No</td>\n",
       "      <td>Bank transfer (automatic)</td>\n",
       "      <td>42.30</td>\n",
       "      <td>1840.75</td>\n",
       "      <td>Male</td>\n",
       "      <td>0</td>\n",
       "      <td>No</td>\n",
       "      <td>No</td>\n",
       "      <td>DSL</td>\n",
       "      <td>Yes</td>\n",
       "      <td>No</td>\n",
       "      <td>Yes</td>\n",
       "      <td>Yes</td>\n",
       "      <td>No</td>\n",
       "      <td>No</td>\n",
       "      <td>NaN</td>\n",
       "    </tr>\n",
       "    <tr>\n",
       "      <th>4</th>\n",
       "      <td>9237-HQITU</td>\n",
       "      <td>2019-09-01</td>\n",
       "      <td>2019-11-01 00:00:00</td>\n",
       "      <td>Month-to-month</td>\n",
       "      <td>Yes</td>\n",
       "      <td>Electronic check</td>\n",
       "      <td>70.70</td>\n",
       "      <td>151.65</td>\n",
       "      <td>Female</td>\n",
       "      <td>0</td>\n",
       "      <td>No</td>\n",
       "      <td>No</td>\n",
       "      <td>Fiber optic</td>\n",
       "      <td>No</td>\n",
       "      <td>No</td>\n",
       "      <td>No</td>\n",
       "      <td>No</td>\n",
       "      <td>No</td>\n",
       "      <td>No</td>\n",
       "      <td>No</td>\n",
       "    </tr>\n",
       "    <tr>\n",
       "      <th>...</th>\n",
       "      <td>...</td>\n",
       "      <td>...</td>\n",
       "      <td>...</td>\n",
       "      <td>...</td>\n",
       "      <td>...</td>\n",
       "      <td>...</td>\n",
       "      <td>...</td>\n",
       "      <td>...</td>\n",
       "      <td>...</td>\n",
       "      <td>...</td>\n",
       "      <td>...</td>\n",
       "      <td>...</td>\n",
       "      <td>...</td>\n",
       "      <td>...</td>\n",
       "      <td>...</td>\n",
       "      <td>...</td>\n",
       "      <td>...</td>\n",
       "      <td>...</td>\n",
       "      <td>...</td>\n",
       "      <td>...</td>\n",
       "    </tr>\n",
       "    <tr>\n",
       "      <th>7038</th>\n",
       "      <td>6840-RESVB</td>\n",
       "      <td>2018-02-01</td>\n",
       "      <td>No</td>\n",
       "      <td>One year</td>\n",
       "      <td>Yes</td>\n",
       "      <td>Mailed check</td>\n",
       "      <td>84.80</td>\n",
       "      <td>1990.5</td>\n",
       "      <td>Male</td>\n",
       "      <td>0</td>\n",
       "      <td>Yes</td>\n",
       "      <td>Yes</td>\n",
       "      <td>DSL</td>\n",
       "      <td>Yes</td>\n",
       "      <td>No</td>\n",
       "      <td>Yes</td>\n",
       "      <td>Yes</td>\n",
       "      <td>Yes</td>\n",
       "      <td>Yes</td>\n",
       "      <td>Yes</td>\n",
       "    </tr>\n",
       "    <tr>\n",
       "      <th>7039</th>\n",
       "      <td>2234-XADUH</td>\n",
       "      <td>2014-02-01</td>\n",
       "      <td>No</td>\n",
       "      <td>One year</td>\n",
       "      <td>Yes</td>\n",
       "      <td>Credit card (automatic)</td>\n",
       "      <td>103.20</td>\n",
       "      <td>7362.9</td>\n",
       "      <td>Female</td>\n",
       "      <td>0</td>\n",
       "      <td>Yes</td>\n",
       "      <td>Yes</td>\n",
       "      <td>Fiber optic</td>\n",
       "      <td>No</td>\n",
       "      <td>Yes</td>\n",
       "      <td>Yes</td>\n",
       "      <td>No</td>\n",
       "      <td>Yes</td>\n",
       "      <td>Yes</td>\n",
       "      <td>Yes</td>\n",
       "    </tr>\n",
       "    <tr>\n",
       "      <th>7040</th>\n",
       "      <td>4801-JZAZL</td>\n",
       "      <td>2019-03-01</td>\n",
       "      <td>No</td>\n",
       "      <td>Month-to-month</td>\n",
       "      <td>Yes</td>\n",
       "      <td>Electronic check</td>\n",
       "      <td>29.60</td>\n",
       "      <td>346.45</td>\n",
       "      <td>Female</td>\n",
       "      <td>0</td>\n",
       "      <td>Yes</td>\n",
       "      <td>Yes</td>\n",
       "      <td>DSL</td>\n",
       "      <td>Yes</td>\n",
       "      <td>No</td>\n",
       "      <td>No</td>\n",
       "      <td>No</td>\n",
       "      <td>No</td>\n",
       "      <td>No</td>\n",
       "      <td>NaN</td>\n",
       "    </tr>\n",
       "    <tr>\n",
       "      <th>7041</th>\n",
       "      <td>8361-LTMKD</td>\n",
       "      <td>2019-07-01</td>\n",
       "      <td>2019-11-01 00:00:00</td>\n",
       "      <td>Month-to-month</td>\n",
       "      <td>Yes</td>\n",
       "      <td>Mailed check</td>\n",
       "      <td>74.40</td>\n",
       "      <td>306.6</td>\n",
       "      <td>Male</td>\n",
       "      <td>1</td>\n",
       "      <td>Yes</td>\n",
       "      <td>No</td>\n",
       "      <td>Fiber optic</td>\n",
       "      <td>No</td>\n",
       "      <td>No</td>\n",
       "      <td>No</td>\n",
       "      <td>No</td>\n",
       "      <td>No</td>\n",
       "      <td>No</td>\n",
       "      <td>Yes</td>\n",
       "    </tr>\n",
       "    <tr>\n",
       "      <th>7042</th>\n",
       "      <td>3186-AJIEK</td>\n",
       "      <td>2014-08-01</td>\n",
       "      <td>No</td>\n",
       "      <td>Two year</td>\n",
       "      <td>Yes</td>\n",
       "      <td>Bank transfer (automatic)</td>\n",
       "      <td>105.65</td>\n",
       "      <td>6844.5</td>\n",
       "      <td>Male</td>\n",
       "      <td>0</td>\n",
       "      <td>No</td>\n",
       "      <td>No</td>\n",
       "      <td>Fiber optic</td>\n",
       "      <td>Yes</td>\n",
       "      <td>No</td>\n",
       "      <td>Yes</td>\n",
       "      <td>Yes</td>\n",
       "      <td>Yes</td>\n",
       "      <td>Yes</td>\n",
       "      <td>No</td>\n",
       "    </tr>\n",
       "  </tbody>\n",
       "</table>\n",
       "<p>7043 rows × 20 columns</p>\n",
       "</div>"
      ],
      "text/plain": [
       "      customerID   BeginDate              EndDate            Type  \\\n",
       "0     7590-VHVEG  2020-01-01                   No  Month-to-month   \n",
       "1     5575-GNVDE  2017-04-01                   No        One year   \n",
       "2     3668-QPYBK  2019-10-01  2019-12-01 00:00:00  Month-to-month   \n",
       "3     7795-CFOCW  2016-05-01                   No        One year   \n",
       "4     9237-HQITU  2019-09-01  2019-11-01 00:00:00  Month-to-month   \n",
       "...          ...         ...                  ...             ...   \n",
       "7038  6840-RESVB  2018-02-01                   No        One year   \n",
       "7039  2234-XADUH  2014-02-01                   No        One year   \n",
       "7040  4801-JZAZL  2019-03-01                   No  Month-to-month   \n",
       "7041  8361-LTMKD  2019-07-01  2019-11-01 00:00:00  Month-to-month   \n",
       "7042  3186-AJIEK  2014-08-01                   No        Two year   \n",
       "\n",
       "     PaperlessBilling              PaymentMethod  MonthlyCharges TotalCharges  \\\n",
       "0                 Yes           Electronic check           29.85        29.85   \n",
       "1                  No               Mailed check           56.95       1889.5   \n",
       "2                 Yes               Mailed check           53.85       108.15   \n",
       "3                  No  Bank transfer (automatic)           42.30      1840.75   \n",
       "4                 Yes           Electronic check           70.70       151.65   \n",
       "...               ...                        ...             ...          ...   \n",
       "7038              Yes               Mailed check           84.80       1990.5   \n",
       "7039              Yes    Credit card (automatic)          103.20       7362.9   \n",
       "7040              Yes           Electronic check           29.60       346.45   \n",
       "7041              Yes               Mailed check           74.40        306.6   \n",
       "7042              Yes  Bank transfer (automatic)          105.65       6844.5   \n",
       "\n",
       "      gender  SeniorCitizen Partner Dependents InternetService OnlineSecurity  \\\n",
       "0     Female              0     Yes         No             DSL             No   \n",
       "1       Male              0      No         No             DSL            Yes   \n",
       "2       Male              0      No         No             DSL            Yes   \n",
       "3       Male              0      No         No             DSL            Yes   \n",
       "4     Female              0      No         No     Fiber optic             No   \n",
       "...      ...            ...     ...        ...             ...            ...   \n",
       "7038    Male              0     Yes        Yes             DSL            Yes   \n",
       "7039  Female              0     Yes        Yes     Fiber optic             No   \n",
       "7040  Female              0     Yes        Yes             DSL            Yes   \n",
       "7041    Male              1     Yes         No     Fiber optic             No   \n",
       "7042    Male              0      No         No     Fiber optic            Yes   \n",
       "\n",
       "     OnlineBackup DeviceProtection TechSupport StreamingTV StreamingMovies  \\\n",
       "0             Yes               No          No          No              No   \n",
       "1              No              Yes          No          No              No   \n",
       "2             Yes               No          No          No              No   \n",
       "3              No              Yes         Yes          No              No   \n",
       "4              No               No          No          No              No   \n",
       "...           ...              ...         ...         ...             ...   \n",
       "7038           No              Yes         Yes         Yes             Yes   \n",
       "7039          Yes              Yes          No         Yes             Yes   \n",
       "7040           No               No          No          No              No   \n",
       "7041           No               No          No          No              No   \n",
       "7042           No              Yes         Yes         Yes             Yes   \n",
       "\n",
       "     MultipleLines  \n",
       "0              NaN  \n",
       "1               No  \n",
       "2               No  \n",
       "3              NaN  \n",
       "4               No  \n",
       "...            ...  \n",
       "7038           Yes  \n",
       "7039           Yes  \n",
       "7040           NaN  \n",
       "7041           Yes  \n",
       "7042            No  \n",
       "\n",
       "[7043 rows x 20 columns]"
      ]
     },
     "metadata": {},
     "output_type": "display_data"
    },
    {
     "name": "stdout",
     "output_type": "stream",
     "text": [
      "<class 'pandas.core.frame.DataFrame'>\n",
      "Int64Index: 7043 entries, 0 to 7042\n",
      "Data columns (total 20 columns):\n",
      " #   Column            Non-Null Count  Dtype  \n",
      "---  ------            --------------  -----  \n",
      " 0   customerID        7043 non-null   object \n",
      " 1   BeginDate         7043 non-null   object \n",
      " 2   EndDate           7043 non-null   object \n",
      " 3   Type              7043 non-null   object \n",
      " 4   PaperlessBilling  7043 non-null   object \n",
      " 5   PaymentMethod     7043 non-null   object \n",
      " 6   MonthlyCharges    7043 non-null   float64\n",
      " 7   TotalCharges      7043 non-null   object \n",
      " 8   gender            7043 non-null   object \n",
      " 9   SeniorCitizen     7043 non-null   int64  \n",
      " 10  Partner           7043 non-null   object \n",
      " 11  Dependents        7043 non-null   object \n",
      " 12  InternetService   5517 non-null   object \n",
      " 13  OnlineSecurity    5517 non-null   object \n",
      " 14  OnlineBackup      5517 non-null   object \n",
      " 15  DeviceProtection  5517 non-null   object \n",
      " 16  TechSupport       5517 non-null   object \n",
      " 17  StreamingTV       5517 non-null   object \n",
      " 18  StreamingMovies   5517 non-null   object \n",
      " 19  MultipleLines     6361 non-null   object \n",
      "dtypes: float64(1), int64(1), object(18)\n",
      "memory usage: 1.1+ MB\n"
     ]
    }
   ],
   "source": [
    "# Unir las tablas en una sola base de datos\n",
    "df = df_contract.merge(df_personal, on='customerID', how='left')\n",
    "df = df.merge(df_internet, on='customerID', how='left')\n",
    "df = df.merge(df_phone, on='customerID', how='left')\n",
    "display(df)\n",
    "df.info()"
   ]
  },
  {
   "cell_type": "code",
   "execution_count": 885,
   "metadata": {},
   "outputs": [],
   "source": [
    "# Eliminar columnas innecesarias\n",
    "df.drop(columns=['customerID'], inplace=True)"
   ]
  },
  {
   "cell_type": "code",
   "execution_count": 886,
   "metadata": {},
   "outputs": [],
   "source": [
    "# Normalizamos los nombres de las columnas en minúsculas\n",
    "df.columns = df.columns.str.lower()"
   ]
  },
  {
   "cell_type": "code",
   "execution_count": 887,
   "metadata": {},
   "outputs": [],
   "source": [
    "# Transformar variable objetivo\n",
    "df['enddate'] = df['enddate'].where(df['enddate']=='No', 'Yes')\n",
    "\n",
    "df['enddate'] = df['enddate'].map({'Yes': 1, 'No': 0})"
   ]
  },
  {
   "cell_type": "code",
   "execution_count": 888,
   "metadata": {},
   "outputs": [
    {
     "name": "stdout",
     "output_type": "stream",
     "text": [
      "<class 'pandas.core.frame.DataFrame'>\n",
      "Int64Index: 7043 entries, 0 to 7042\n",
      "Data columns (total 19 columns):\n",
      " #   Column            Non-Null Count  Dtype  \n",
      "---  ------            --------------  -----  \n",
      " 0   begindate         7043 non-null   object \n",
      " 1   enddate           7043 non-null   int64  \n",
      " 2   type              7043 non-null   object \n",
      " 3   paperlessbilling  7043 non-null   object \n",
      " 4   paymentmethod     7043 non-null   object \n",
      " 5   monthlycharges    7043 non-null   float64\n",
      " 6   totalcharges      7043 non-null   float64\n",
      " 7   gender            7043 non-null   object \n",
      " 8   seniorcitizen     7043 non-null   int64  \n",
      " 9   partner           7043 non-null   object \n",
      " 10  dependents        7043 non-null   object \n",
      " 11  internetservice   5517 non-null   object \n",
      " 12  onlinesecurity    5517 non-null   object \n",
      " 13  onlinebackup      5517 non-null   object \n",
      " 14  deviceprotection  5517 non-null   object \n",
      " 15  techsupport       5517 non-null   object \n",
      " 16  streamingtv       5517 non-null   object \n",
      " 17  streamingmovies   5517 non-null   object \n",
      " 18  multiplelines     6361 non-null   object \n",
      "dtypes: float64(2), int64(2), object(15)\n",
      "memory usage: 1.1+ MB\n"
     ]
    }
   ],
   "source": [
    "# Cambiamos a variables numéricas las columnas necesarias\n",
    "df['totalcharges'] = pd.to_numeric(df['totalcharges'], errors='coerce')\n",
    "df['totalcharges'] = df['totalcharges'].fillna(0)\n",
    "df.info()"
   ]
  },
  {
   "cell_type": "code",
   "execution_count": 889,
   "metadata": {},
   "outputs": [
    {
     "name": "stdout",
     "output_type": "stream",
     "text": [
      "<class 'pandas.core.frame.DataFrame'>\n",
      "Int64Index: 7043 entries, 0 to 7042\n",
      "Data columns (total 19 columns):\n",
      " #   Column            Non-Null Count  Dtype  \n",
      "---  ------            --------------  -----  \n",
      " 0   begindate         7043 non-null   object \n",
      " 1   enddate           7043 non-null   int64  \n",
      " 2   type              7043 non-null   object \n",
      " 3   paperlessbilling  7043 non-null   object \n",
      " 4   paymentmethod     7043 non-null   object \n",
      " 5   monthlycharges    7043 non-null   float64\n",
      " 6   totalcharges      7043 non-null   float64\n",
      " 7   gender            7043 non-null   object \n",
      " 8   seniorcitizen     7043 non-null   object \n",
      " 9   partner           7043 non-null   object \n",
      " 10  dependents        7043 non-null   object \n",
      " 11  internetservice   5517 non-null   object \n",
      " 12  onlinesecurity    5517 non-null   object \n",
      " 13  onlinebackup      5517 non-null   object \n",
      " 14  deviceprotection  5517 non-null   object \n",
      " 15  techsupport       5517 non-null   object \n",
      " 16  streamingtv       5517 non-null   object \n",
      " 17  streamingmovies   5517 non-null   object \n",
      " 18  multiplelines     6361 non-null   object \n",
      "dtypes: float64(2), int64(1), object(16)\n",
      "memory usage: 1.1+ MB\n"
     ]
    }
   ],
   "source": [
    "# Cambiamos a variables objeto las columnas necesarias\n",
    "df['seniorcitizen'] = df['seniorcitizen'].astype(str)\n",
    "df.info()"
   ]
  },
  {
   "cell_type": "code",
   "execution_count": 890,
   "metadata": {},
   "outputs": [
    {
     "data": {
      "text/html": [
       "<div>\n",
       "<style scoped>\n",
       "    .dataframe tbody tr th:only-of-type {\n",
       "        vertical-align: middle;\n",
       "    }\n",
       "\n",
       "    .dataframe tbody tr th {\n",
       "        vertical-align: top;\n",
       "    }\n",
       "\n",
       "    .dataframe thead th {\n",
       "        text-align: right;\n",
       "    }\n",
       "</style>\n",
       "<table border=\"1\" class=\"dataframe\">\n",
       "  <thead>\n",
       "    <tr style=\"text-align: right;\">\n",
       "      <th></th>\n",
       "      <th>begindate</th>\n",
       "      <th>enddate</th>\n",
       "      <th>type</th>\n",
       "      <th>paperlessbilling</th>\n",
       "      <th>paymentmethod</th>\n",
       "      <th>monthlycharges</th>\n",
       "      <th>totalcharges</th>\n",
       "      <th>gender</th>\n",
       "      <th>seniorcitizen</th>\n",
       "      <th>partner</th>\n",
       "      <th>dependents</th>\n",
       "      <th>internetservice</th>\n",
       "      <th>onlinesecurity</th>\n",
       "      <th>onlinebackup</th>\n",
       "      <th>deviceprotection</th>\n",
       "      <th>techsupport</th>\n",
       "      <th>streamingtv</th>\n",
       "      <th>streamingmovies</th>\n",
       "      <th>multiplelines</th>\n",
       "    </tr>\n",
       "  </thead>\n",
       "  <tbody>\n",
       "    <tr>\n",
       "      <th>0</th>\n",
       "      <td>2020-01-01</td>\n",
       "      <td>0</td>\n",
       "      <td>Month-to-month</td>\n",
       "      <td>Yes</td>\n",
       "      <td>Electronic check</td>\n",
       "      <td>29.85</td>\n",
       "      <td>29.85</td>\n",
       "      <td>Female</td>\n",
       "      <td>0</td>\n",
       "      <td>Yes</td>\n",
       "      <td>No</td>\n",
       "      <td>DSL</td>\n",
       "      <td>No</td>\n",
       "      <td>Yes</td>\n",
       "      <td>No</td>\n",
       "      <td>No</td>\n",
       "      <td>No</td>\n",
       "      <td>No</td>\n",
       "      <td>No</td>\n",
       "    </tr>\n",
       "    <tr>\n",
       "      <th>1</th>\n",
       "      <td>2017-04-01</td>\n",
       "      <td>0</td>\n",
       "      <td>One year</td>\n",
       "      <td>No</td>\n",
       "      <td>Mailed check</td>\n",
       "      <td>56.95</td>\n",
       "      <td>1889.50</td>\n",
       "      <td>Male</td>\n",
       "      <td>0</td>\n",
       "      <td>No</td>\n",
       "      <td>No</td>\n",
       "      <td>DSL</td>\n",
       "      <td>Yes</td>\n",
       "      <td>No</td>\n",
       "      <td>Yes</td>\n",
       "      <td>No</td>\n",
       "      <td>No</td>\n",
       "      <td>No</td>\n",
       "      <td>No</td>\n",
       "    </tr>\n",
       "    <tr>\n",
       "      <th>2</th>\n",
       "      <td>2019-10-01</td>\n",
       "      <td>1</td>\n",
       "      <td>Month-to-month</td>\n",
       "      <td>Yes</td>\n",
       "      <td>Mailed check</td>\n",
       "      <td>53.85</td>\n",
       "      <td>108.15</td>\n",
       "      <td>Male</td>\n",
       "      <td>0</td>\n",
       "      <td>No</td>\n",
       "      <td>No</td>\n",
       "      <td>DSL</td>\n",
       "      <td>Yes</td>\n",
       "      <td>Yes</td>\n",
       "      <td>No</td>\n",
       "      <td>No</td>\n",
       "      <td>No</td>\n",
       "      <td>No</td>\n",
       "      <td>No</td>\n",
       "    </tr>\n",
       "    <tr>\n",
       "      <th>3</th>\n",
       "      <td>2016-05-01</td>\n",
       "      <td>0</td>\n",
       "      <td>One year</td>\n",
       "      <td>No</td>\n",
       "      <td>Bank transfer (automatic)</td>\n",
       "      <td>42.30</td>\n",
       "      <td>1840.75</td>\n",
       "      <td>Male</td>\n",
       "      <td>0</td>\n",
       "      <td>No</td>\n",
       "      <td>No</td>\n",
       "      <td>DSL</td>\n",
       "      <td>Yes</td>\n",
       "      <td>No</td>\n",
       "      <td>Yes</td>\n",
       "      <td>Yes</td>\n",
       "      <td>No</td>\n",
       "      <td>No</td>\n",
       "      <td>No</td>\n",
       "    </tr>\n",
       "    <tr>\n",
       "      <th>4</th>\n",
       "      <td>2019-09-01</td>\n",
       "      <td>1</td>\n",
       "      <td>Month-to-month</td>\n",
       "      <td>Yes</td>\n",
       "      <td>Electronic check</td>\n",
       "      <td>70.70</td>\n",
       "      <td>151.65</td>\n",
       "      <td>Female</td>\n",
       "      <td>0</td>\n",
       "      <td>No</td>\n",
       "      <td>No</td>\n",
       "      <td>Fiber optic</td>\n",
       "      <td>No</td>\n",
       "      <td>No</td>\n",
       "      <td>No</td>\n",
       "      <td>No</td>\n",
       "      <td>No</td>\n",
       "      <td>No</td>\n",
       "      <td>No</td>\n",
       "    </tr>\n",
       "    <tr>\n",
       "      <th>...</th>\n",
       "      <td>...</td>\n",
       "      <td>...</td>\n",
       "      <td>...</td>\n",
       "      <td>...</td>\n",
       "      <td>...</td>\n",
       "      <td>...</td>\n",
       "      <td>...</td>\n",
       "      <td>...</td>\n",
       "      <td>...</td>\n",
       "      <td>...</td>\n",
       "      <td>...</td>\n",
       "      <td>...</td>\n",
       "      <td>...</td>\n",
       "      <td>...</td>\n",
       "      <td>...</td>\n",
       "      <td>...</td>\n",
       "      <td>...</td>\n",
       "      <td>...</td>\n",
       "      <td>...</td>\n",
       "    </tr>\n",
       "    <tr>\n",
       "      <th>7038</th>\n",
       "      <td>2018-02-01</td>\n",
       "      <td>0</td>\n",
       "      <td>One year</td>\n",
       "      <td>Yes</td>\n",
       "      <td>Mailed check</td>\n",
       "      <td>84.80</td>\n",
       "      <td>1990.50</td>\n",
       "      <td>Male</td>\n",
       "      <td>0</td>\n",
       "      <td>Yes</td>\n",
       "      <td>Yes</td>\n",
       "      <td>DSL</td>\n",
       "      <td>Yes</td>\n",
       "      <td>No</td>\n",
       "      <td>Yes</td>\n",
       "      <td>Yes</td>\n",
       "      <td>Yes</td>\n",
       "      <td>Yes</td>\n",
       "      <td>Yes</td>\n",
       "    </tr>\n",
       "    <tr>\n",
       "      <th>7039</th>\n",
       "      <td>2014-02-01</td>\n",
       "      <td>0</td>\n",
       "      <td>One year</td>\n",
       "      <td>Yes</td>\n",
       "      <td>Credit card (automatic)</td>\n",
       "      <td>103.20</td>\n",
       "      <td>7362.90</td>\n",
       "      <td>Female</td>\n",
       "      <td>0</td>\n",
       "      <td>Yes</td>\n",
       "      <td>Yes</td>\n",
       "      <td>Fiber optic</td>\n",
       "      <td>No</td>\n",
       "      <td>Yes</td>\n",
       "      <td>Yes</td>\n",
       "      <td>No</td>\n",
       "      <td>Yes</td>\n",
       "      <td>Yes</td>\n",
       "      <td>Yes</td>\n",
       "    </tr>\n",
       "    <tr>\n",
       "      <th>7040</th>\n",
       "      <td>2019-03-01</td>\n",
       "      <td>0</td>\n",
       "      <td>Month-to-month</td>\n",
       "      <td>Yes</td>\n",
       "      <td>Electronic check</td>\n",
       "      <td>29.60</td>\n",
       "      <td>346.45</td>\n",
       "      <td>Female</td>\n",
       "      <td>0</td>\n",
       "      <td>Yes</td>\n",
       "      <td>Yes</td>\n",
       "      <td>DSL</td>\n",
       "      <td>Yes</td>\n",
       "      <td>No</td>\n",
       "      <td>No</td>\n",
       "      <td>No</td>\n",
       "      <td>No</td>\n",
       "      <td>No</td>\n",
       "      <td>No</td>\n",
       "    </tr>\n",
       "    <tr>\n",
       "      <th>7041</th>\n",
       "      <td>2019-07-01</td>\n",
       "      <td>1</td>\n",
       "      <td>Month-to-month</td>\n",
       "      <td>Yes</td>\n",
       "      <td>Mailed check</td>\n",
       "      <td>74.40</td>\n",
       "      <td>306.60</td>\n",
       "      <td>Male</td>\n",
       "      <td>1</td>\n",
       "      <td>Yes</td>\n",
       "      <td>No</td>\n",
       "      <td>Fiber optic</td>\n",
       "      <td>No</td>\n",
       "      <td>No</td>\n",
       "      <td>No</td>\n",
       "      <td>No</td>\n",
       "      <td>No</td>\n",
       "      <td>No</td>\n",
       "      <td>Yes</td>\n",
       "    </tr>\n",
       "    <tr>\n",
       "      <th>7042</th>\n",
       "      <td>2014-08-01</td>\n",
       "      <td>0</td>\n",
       "      <td>Two year</td>\n",
       "      <td>Yes</td>\n",
       "      <td>Bank transfer (automatic)</td>\n",
       "      <td>105.65</td>\n",
       "      <td>6844.50</td>\n",
       "      <td>Male</td>\n",
       "      <td>0</td>\n",
       "      <td>No</td>\n",
       "      <td>No</td>\n",
       "      <td>Fiber optic</td>\n",
       "      <td>Yes</td>\n",
       "      <td>No</td>\n",
       "      <td>Yes</td>\n",
       "      <td>Yes</td>\n",
       "      <td>Yes</td>\n",
       "      <td>Yes</td>\n",
       "      <td>No</td>\n",
       "    </tr>\n",
       "  </tbody>\n",
       "</table>\n",
       "<p>7043 rows × 19 columns</p>\n",
       "</div>"
      ],
      "text/plain": [
       "       begindate  enddate            type paperlessbilling  \\\n",
       "0     2020-01-01        0  Month-to-month              Yes   \n",
       "1     2017-04-01        0        One year               No   \n",
       "2     2019-10-01        1  Month-to-month              Yes   \n",
       "3     2016-05-01        0        One year               No   \n",
       "4     2019-09-01        1  Month-to-month              Yes   \n",
       "...          ...      ...             ...              ...   \n",
       "7038  2018-02-01        0        One year              Yes   \n",
       "7039  2014-02-01        0        One year              Yes   \n",
       "7040  2019-03-01        0  Month-to-month              Yes   \n",
       "7041  2019-07-01        1  Month-to-month              Yes   \n",
       "7042  2014-08-01        0        Two year              Yes   \n",
       "\n",
       "                  paymentmethod  monthlycharges  totalcharges  gender  \\\n",
       "0              Electronic check           29.85         29.85  Female   \n",
       "1                  Mailed check           56.95       1889.50    Male   \n",
       "2                  Mailed check           53.85        108.15    Male   \n",
       "3     Bank transfer (automatic)           42.30       1840.75    Male   \n",
       "4              Electronic check           70.70        151.65  Female   \n",
       "...                         ...             ...           ...     ...   \n",
       "7038               Mailed check           84.80       1990.50    Male   \n",
       "7039    Credit card (automatic)          103.20       7362.90  Female   \n",
       "7040           Electronic check           29.60        346.45  Female   \n",
       "7041               Mailed check           74.40        306.60    Male   \n",
       "7042  Bank transfer (automatic)          105.65       6844.50    Male   \n",
       "\n",
       "     seniorcitizen partner dependents internetservice onlinesecurity  \\\n",
       "0                0     Yes         No             DSL             No   \n",
       "1                0      No         No             DSL            Yes   \n",
       "2                0      No         No             DSL            Yes   \n",
       "3                0      No         No             DSL            Yes   \n",
       "4                0      No         No     Fiber optic             No   \n",
       "...            ...     ...        ...             ...            ...   \n",
       "7038             0     Yes        Yes             DSL            Yes   \n",
       "7039             0     Yes        Yes     Fiber optic             No   \n",
       "7040             0     Yes        Yes             DSL            Yes   \n",
       "7041             1     Yes         No     Fiber optic             No   \n",
       "7042             0      No         No     Fiber optic            Yes   \n",
       "\n",
       "     onlinebackup deviceprotection techsupport streamingtv streamingmovies  \\\n",
       "0             Yes               No          No          No              No   \n",
       "1              No              Yes          No          No              No   \n",
       "2             Yes               No          No          No              No   \n",
       "3              No              Yes         Yes          No              No   \n",
       "4              No               No          No          No              No   \n",
       "...           ...              ...         ...         ...             ...   \n",
       "7038           No              Yes         Yes         Yes             Yes   \n",
       "7039          Yes              Yes          No         Yes             Yes   \n",
       "7040           No               No          No          No              No   \n",
       "7041           No               No          No          No              No   \n",
       "7042           No              Yes         Yes         Yes             Yes   \n",
       "\n",
       "     multiplelines  \n",
       "0               No  \n",
       "1               No  \n",
       "2               No  \n",
       "3               No  \n",
       "4               No  \n",
       "...            ...  \n",
       "7038           Yes  \n",
       "7039           Yes  \n",
       "7040            No  \n",
       "7041           Yes  \n",
       "7042            No  \n",
       "\n",
       "[7043 rows x 19 columns]"
      ]
     },
     "metadata": {},
     "output_type": "display_data"
    },
    {
     "name": "stdout",
     "output_type": "stream",
     "text": [
      "<class 'pandas.core.frame.DataFrame'>\n",
      "Int64Index: 7043 entries, 0 to 7042\n",
      "Data columns (total 19 columns):\n",
      " #   Column            Non-Null Count  Dtype  \n",
      "---  ------            --------------  -----  \n",
      " 0   begindate         7043 non-null   object \n",
      " 1   enddate           7043 non-null   int64  \n",
      " 2   type              7043 non-null   object \n",
      " 3   paperlessbilling  7043 non-null   object \n",
      " 4   paymentmethod     7043 non-null   object \n",
      " 5   monthlycharges    7043 non-null   float64\n",
      " 6   totalcharges      7043 non-null   float64\n",
      " 7   gender            7043 non-null   object \n",
      " 8   seniorcitizen     7043 non-null   object \n",
      " 9   partner           7043 non-null   object \n",
      " 10  dependents        7043 non-null   object \n",
      " 11  internetservice   7043 non-null   object \n",
      " 12  onlinesecurity    7043 non-null   object \n",
      " 13  onlinebackup      7043 non-null   object \n",
      " 14  deviceprotection  7043 non-null   object \n",
      " 15  techsupport       7043 non-null   object \n",
      " 16  streamingtv       7043 non-null   object \n",
      " 17  streamingmovies   7043 non-null   object \n",
      " 18  multiplelines     7043 non-null   object \n",
      "dtypes: float64(2), int64(1), object(16)\n",
      "memory usage: 1.1+ MB\n"
     ]
    }
   ],
   "source": [
    "# Reemplazamos valores nulos\n",
    "df = df.fillna('No')\n",
    "\n",
    "display(df)\n",
    "df.info()"
   ]
  },
  {
   "cell_type": "code",
   "execution_count": 891,
   "metadata": {},
   "outputs": [
    {
     "data": {
      "text/plain": [
       "Index(['begindate', 'type', 'paperlessbilling', 'paymentmethod', 'gender',\n",
       "       'seniorcitizen', 'partner', 'dependents', 'internetservice',\n",
       "       'onlinesecurity', 'onlinebackup', 'deviceprotection', 'techsupport',\n",
       "       'streamingtv', 'streamingmovies', 'multiplelines'],\n",
       "      dtype='object')"
      ]
     },
     "metadata": {},
     "output_type": "display_data"
    },
    {
     "data": {
      "text/plain": [
       "Index(['monthlycharges', 'totalcharges'], dtype='object')"
      ]
     },
     "metadata": {},
     "output_type": "display_data"
    }
   ],
   "source": [
    "# Identificar variables categóricas y numéricas\n",
    "cat_cols = df.select_dtypes(include=['object']).columns\n",
    "num_cols = df.select_dtypes(include=['int64', 'float64']).columns.drop('enddate')\n",
    "\n",
    "display(cat_cols)\n",
    "display(num_cols)"
   ]
  },
  {
   "cell_type": "code",
   "execution_count": 892,
   "metadata": {},
   "outputs": [],
   "source": [
    "# Preprocesamiento: One-Hot Encoding para categóricas y escalado para numéricas\n",
    "preprocessor = ColumnTransformer([('num', StandardScaler(), num_cols),('cat', OneHotEncoder(handle_unknown='ignore'), cat_cols)])"
   ]
  },
  {
   "cell_type": "markdown",
   "metadata": {},
   "source": [
    "## Entrenamiento"
   ]
  },
  {
   "cell_type": "code",
   "execution_count": 893,
   "metadata": {},
   "outputs": [],
   "source": [
    "# Dividir en conjuntos de entrenamiento y prueba\n",
    "X = df.drop(columns=['enddate'])\n",
    "y = df['enddate']\n",
    "X_train, X_test, y_train, y_test = train_test_split(X, y, test_size=0.2, random_state=42, stratify=y)"
   ]
  },
  {
   "cell_type": "code",
   "execution_count": 894,
   "metadata": {},
   "outputs": [],
   "source": [
    "# Modelos a evaluar\n",
    "models = {\n",
    "    'Logistic Regression': LogisticRegression(max_iter=1000, random_state=12345),\n",
    "    'Random Forest': RandomForestClassifier(n_estimators=100, criterion='entropy', max_depth=100, random_state=12345),\n",
    "    'Gradient Boosting': GradientBoostingClassifier(n_estimators=500, learning_rate=0.2, random_state=12345)\n",
    "}"
   ]
  },
  {
   "cell_type": "code",
   "execution_count": 895,
   "metadata": {},
   "outputs": [
    {
     "data": {
      "text/plain": [
       "Pipeline(steps=[('preprocessor',\n",
       "                 ColumnTransformer(transformers=[('num', StandardScaler(),\n",
       "                                                  Index(['monthlycharges', 'totalcharges'], dtype='object')),\n",
       "                                                 ('cat',\n",
       "                                                  OneHotEncoder(handle_unknown='ignore'),\n",
       "                                                  Index(['begindate', 'type', 'paperlessbilling', 'paymentmethod', 'gender',\n",
       "       'seniorcitizen', 'partner', 'dependents', 'internetservice',\n",
       "       'onlinesecurity', 'onlinebackup', 'deviceprotection', 'techsupport',\n",
       "       'streamingtv', 'streamingmovies', 'multiplelines'],\n",
       "      dtype='object'))])),\n",
       "                ('classifier',\n",
       "                 LogisticRegression(max_iter=1000, random_state=12345))])"
      ]
     },
     "execution_count": 895,
     "metadata": {},
     "output_type": "execute_result"
    }
   ],
   "source": [
    "pipeline1 = Pipeline(steps=[('preprocessor', preprocessor), ('classifier', models['Logistic Regression'])])\n",
    "pipeline1.fit(X_train, y_train)"
   ]
  },
  {
   "cell_type": "code",
   "execution_count": 896,
   "metadata": {},
   "outputs": [
    {
     "data": {
      "text/plain": [
       "Pipeline(steps=[('preprocessor',\n",
       "                 ColumnTransformer(transformers=[('num', StandardScaler(),\n",
       "                                                  Index(['monthlycharges', 'totalcharges'], dtype='object')),\n",
       "                                                 ('cat',\n",
       "                                                  OneHotEncoder(handle_unknown='ignore'),\n",
       "                                                  Index(['begindate', 'type', 'paperlessbilling', 'paymentmethod', 'gender',\n",
       "       'seniorcitizen', 'partner', 'dependents', 'internetservice',\n",
       "       'onlinesecurity', 'onlinebackup', 'deviceprotection', 'techsupport',\n",
       "       'streamingtv', 'streamingmovies', 'multiplelines'],\n",
       "      dtype='object'))])),\n",
       "                ('classifier',\n",
       "                 RandomForestClassifier(criterion='entropy', max_depth=100,\n",
       "                                        random_state=12345))])"
      ]
     },
     "execution_count": 896,
     "metadata": {},
     "output_type": "execute_result"
    }
   ],
   "source": [
    "pipeline2 = Pipeline(steps=[('preprocessor', preprocessor), ('classifier', models['Random Forest'])])\n",
    "pipeline2.fit(X_train, y_train)"
   ]
  },
  {
   "cell_type": "code",
   "execution_count": 897,
   "metadata": {},
   "outputs": [
    {
     "data": {
      "text/plain": [
       "Pipeline(steps=[('preprocessor',\n",
       "                 ColumnTransformer(transformers=[('num', StandardScaler(),\n",
       "                                                  Index(['monthlycharges', 'totalcharges'], dtype='object')),\n",
       "                                                 ('cat',\n",
       "                                                  OneHotEncoder(handle_unknown='ignore'),\n",
       "                                                  Index(['begindate', 'type', 'paperlessbilling', 'paymentmethod', 'gender',\n",
       "       'seniorcitizen', 'partner', 'dependents', 'internetservice',\n",
       "       'onlinesecurity', 'onlinebackup', 'deviceprotection', 'techsupport',\n",
       "       'streamingtv', 'streamingmovies', 'multiplelines'],\n",
       "      dtype='object'))])),\n",
       "                ('classifier',\n",
       "                 GradientBoostingClassifier(learning_rate=0.2, n_estimators=500,\n",
       "                                            random_state=12345))])"
      ]
     },
     "execution_count": 897,
     "metadata": {},
     "output_type": "execute_result"
    }
   ],
   "source": [
    "pipeline3 = Pipeline(steps=[('preprocessor', preprocessor), ('classifier', models['Gradient Boosting'])])\n",
    "pipeline3.fit(X_train, y_train)"
   ]
  },
  {
   "cell_type": "markdown",
   "metadata": {},
   "source": [
    "## Prueba"
   ]
  },
  {
   "cell_type": "code",
   "execution_count": 898,
   "metadata": {},
   "outputs": [
    {
     "name": "stdout",
     "output_type": "stream",
     "text": [
      "Logistic Regression AUC-ROC: 0.8512\n"
     ]
    }
   ],
   "source": [
    "y_pred_prob1 = pipeline1.predict_proba(X_test)[:, 1]\n",
    "auc = roc_auc_score(y_test, y_pred_prob1)\n",
    "print(f'Logistic Regression AUC-ROC: {auc:.4f}')"
   ]
  },
  {
   "cell_type": "code",
   "execution_count": 899,
   "metadata": {},
   "outputs": [
    {
     "name": "stdout",
     "output_type": "stream",
     "text": [
      "Random Forest AUC-ROC: 0.8624\n"
     ]
    }
   ],
   "source": [
    "y_pred_prob2 = pipeline2.predict_proba(X_test)[:, 1]\n",
    "auc = roc_auc_score(y_test, y_pred_prob2)\n",
    "print(f'Random Forest AUC-ROC: {auc:.4f}')"
   ]
  },
  {
   "cell_type": "code",
   "execution_count": 900,
   "metadata": {},
   "outputs": [
    {
     "name": "stdout",
     "output_type": "stream",
     "text": [
      "Gradient Boosting AUC-ROC: 0.9125\n"
     ]
    }
   ],
   "source": [
    "y_pred_prob3 = pipeline3.predict_proba(X_test)[:, 1]\n",
    "auc = roc_auc_score(y_test, y_pred_prob3)\n",
    "print(f'Gradient Boosting AUC-ROC: {auc:.4f}')"
   ]
  },
  {
   "cell_type": "markdown",
   "metadata": {},
   "source": [
    "En conclusión, el modelo que mejor funcionó para estos datos fué \"Gradient Boosting\" con 91.25% en la métrica AUC-ROC superando por más de 3% el mínimo que se buscaba en este trabajo. En un trabajo a futuro se podrían implementar más modelos para observar si uno supera esta puntuación e incluir un buscador de mejores hiperparámetros."
   ]
  }
 ],
 "metadata": {
  "ExecuteTimeLog": [
   {
    "duration": 3,
    "start_time": "2025-02-12T03:39:11.868Z"
   },
   {
    "duration": 65,
    "start_time": "2025-02-12T03:39:21.737Z"
   },
   {
    "duration": 31,
    "start_time": "2025-02-12T03:39:26.858Z"
   },
   {
    "duration": 31,
    "start_time": "2025-02-12T03:40:52.072Z"
   },
   {
    "duration": 230,
    "start_time": "2025-02-12T03:47:15.159Z"
   },
   {
    "duration": 13,
    "start_time": "2025-02-12T03:47:57.119Z"
   },
   {
    "duration": 4,
    "start_time": "2025-02-12T03:48:03.680Z"
   },
   {
    "duration": 462,
    "start_time": "2025-02-12T03:53:38.183Z"
   },
   {
    "duration": 14,
    "start_time": "2025-02-12T03:54:26.190Z"
   },
   {
    "duration": 5,
    "start_time": "2025-02-12T03:54:51.575Z"
   },
   {
    "duration": 9,
    "start_time": "2025-02-12T03:54:59.509Z"
   },
   {
    "duration": 8,
    "start_time": "2025-02-12T04:00:01.071Z"
   },
   {
    "duration": 66,
    "start_time": "2025-02-12T04:00:26.728Z"
   },
   {
    "duration": 8,
    "start_time": "2025-02-12T04:00:34.784Z"
   },
   {
    "duration": 622,
    "start_time": "2025-02-12T04:00:56.351Z"
   },
   {
    "duration": 14,
    "start_time": "2025-02-12T04:01:28.944Z"
   },
   {
    "duration": 49,
    "start_time": "2025-02-12T04:01:40.552Z"
   },
   {
    "duration": 50,
    "start_time": "2025-02-12T04:02:16.680Z"
   },
   {
    "duration": 72,
    "start_time": "2025-02-12T04:02:52.816Z"
   },
   {
    "duration": 51,
    "start_time": "2025-02-12T04:05:28.556Z"
   },
   {
    "duration": 47,
    "start_time": "2025-02-12T04:06:45.287Z"
   },
   {
    "duration": 234,
    "start_time": "2025-02-12T04:11:16.910Z"
   },
   {
    "duration": 27,
    "start_time": "2025-02-12T04:12:46.392Z"
   },
   {
    "duration": 20,
    "start_time": "2025-02-12T04:13:29.642Z"
   },
   {
    "duration": 52,
    "start_time": "2025-02-12T04:13:46.720Z"
   },
   {
    "duration": 4,
    "start_time": "2025-02-12T04:15:52.160Z"
   },
   {
    "duration": 51,
    "start_time": "2025-02-12T04:16:33.988Z"
   },
   {
    "duration": 4,
    "start_time": "2025-02-12T04:23:03.057Z"
   },
   {
    "duration": 5,
    "start_time": "2025-02-12T04:23:55.112Z"
   },
   {
    "duration": 52,
    "start_time": "2025-02-12T04:24:14.744Z"
   },
   {
    "duration": 53,
    "start_time": "2025-02-12T04:25:07.168Z"
   },
   {
    "duration": 54,
    "start_time": "2025-02-12T04:25:51.818Z"
   },
   {
    "duration": 21,
    "start_time": "2025-02-12T04:26:54.673Z"
   },
   {
    "duration": 91,
    "start_time": "2025-02-12T04:27:35.602Z"
   },
   {
    "duration": 51,
    "start_time": "2025-02-12T04:27:48.837Z"
   },
   {
    "duration": 3,
    "start_time": "2025-02-12T04:32:43.178Z"
   },
   {
    "duration": 55,
    "start_time": "2025-02-12T04:32:54.277Z"
   },
   {
    "duration": 52,
    "start_time": "2025-02-12T04:33:22.226Z"
   },
   {
    "duration": 53,
    "start_time": "2025-02-12T04:33:48.104Z"
   },
   {
    "duration": 52,
    "start_time": "2025-02-12T04:34:00.530Z"
   },
   {
    "duration": 6,
    "start_time": "2025-02-12T04:34:32.186Z"
   },
   {
    "duration": 4,
    "start_time": "2025-02-12T04:35:01.897Z"
   },
   {
    "duration": 16,
    "start_time": "2025-02-12T04:35:23.764Z"
   },
   {
    "duration": 15,
    "start_time": "2025-02-12T04:35:28.025Z"
   },
   {
    "duration": 33,
    "start_time": "2025-02-12T04:37:30.778Z"
   },
   {
    "duration": 19,
    "start_time": "2025-02-12T04:38:13.670Z"
   },
   {
    "duration": 7,
    "start_time": "2025-02-12T04:42:16.626Z"
   },
   {
    "duration": 28,
    "start_time": "2025-02-12T04:42:30.343Z"
   },
   {
    "duration": 4,
    "start_time": "2025-02-12T04:46:33.218Z"
   },
   {
    "duration": 60,
    "start_time": "2025-02-12T04:47:18.788Z"
   },
   {
    "duration": 31,
    "start_time": "2025-02-12T04:47:26.956Z"
   },
   {
    "duration": 18,
    "start_time": "2025-02-12T04:47:38.058Z"
   },
   {
    "duration": 17,
    "start_time": "2025-02-12T05:01:01.510Z"
   },
   {
    "duration": 33,
    "start_time": "2025-02-12T05:16:48.160Z"
   },
   {
    "duration": 8,
    "start_time": "2025-02-12T05:16:51.837Z"
   },
   {
    "duration": 17,
    "start_time": "2025-02-12T05:21:18.462Z"
   },
   {
    "duration": 28,
    "start_time": "2025-02-12T05:21:24.375Z"
   },
   {
    "duration": 15,
    "start_time": "2025-02-12T05:21:24.961Z"
   },
   {
    "duration": 168,
    "start_time": "2025-02-12T05:21:26.005Z"
   },
   {
    "duration": 210,
    "start_time": "2025-02-12T05:22:32.035Z"
   },
   {
    "duration": 32,
    "start_time": "2025-02-12T05:22:49.206Z"
   },
   {
    "duration": 26,
    "start_time": "2025-02-12T05:23:32.639Z"
   },
   {
    "duration": 21,
    "start_time": "2025-02-12T05:23:36.887Z"
   },
   {
    "duration": 13,
    "start_time": "2025-02-12T05:23:50.239Z"
   },
   {
    "duration": 21,
    "start_time": "2025-02-12T05:24:15.478Z"
   },
   {
    "duration": 13,
    "start_time": "2025-02-12T05:24:50.057Z"
   },
   {
    "duration": 29,
    "start_time": "2025-02-12T05:45:38.273Z"
   },
   {
    "duration": 28,
    "start_time": "2025-02-12T05:46:23.561Z"
   },
   {
    "duration": 249,
    "start_time": "2025-02-12T05:50:23.160Z"
   },
   {
    "duration": 14,
    "start_time": "2025-02-12T05:51:06.131Z"
   },
   {
    "duration": 5,
    "start_time": "2025-02-12T06:04:34.834Z"
   },
   {
    "duration": 13,
    "start_time": "2025-02-12T06:05:06.948Z"
   },
   {
    "duration": 14,
    "start_time": "2025-02-12T06:09:28.231Z"
   },
   {
    "duration": 19,
    "start_time": "2025-02-12T06:12:50.156Z"
   },
   {
    "duration": 122,
    "start_time": "2025-02-12T06:31:47.142Z"
   },
   {
    "duration": 38,
    "start_time": "2025-02-12T06:32:04.673Z"
   },
   {
    "duration": 38,
    "start_time": "2025-02-12T06:32:29.590Z"
   },
   {
    "duration": 4,
    "start_time": "2025-02-12T06:33:42.110Z"
   },
   {
    "duration": 35,
    "start_time": "2025-02-12T06:33:42.615Z"
   },
   {
    "duration": 13,
    "start_time": "2025-02-12T06:33:42.654Z"
   },
   {
    "duration": 168,
    "start_time": "2025-02-12T06:33:42.693Z"
   },
   {
    "duration": 212,
    "start_time": "2025-02-12T06:33:42.863Z"
   },
   {
    "duration": 32,
    "start_time": "2025-02-12T06:33:43.077Z"
   },
   {
    "duration": 25,
    "start_time": "2025-02-12T06:33:43.111Z"
   },
   {
    "duration": 21,
    "start_time": "2025-02-12T06:33:43.138Z"
   },
   {
    "duration": 11,
    "start_time": "2025-02-12T06:33:43.160Z"
   },
   {
    "duration": 37,
    "start_time": "2025-02-12T06:33:43.173Z"
   },
   {
    "duration": 13,
    "start_time": "2025-02-12T06:33:43.902Z"
   },
   {
    "duration": 38,
    "start_time": "2025-02-12T06:33:45.103Z"
   },
   {
    "duration": 66,
    "start_time": "2025-02-12T06:34:09.629Z"
   },
   {
    "duration": 12,
    "start_time": "2025-02-12T06:35:49.936Z"
   },
   {
    "duration": 14,
    "start_time": "2025-02-12T06:36:43.814Z"
   },
   {
    "duration": 4,
    "start_time": "2025-02-12T06:36:53.422Z"
   },
   {
    "duration": 29,
    "start_time": "2025-02-12T06:36:53.937Z"
   },
   {
    "duration": 14,
    "start_time": "2025-02-12T06:36:53.967Z"
   },
   {
    "duration": 171,
    "start_time": "2025-02-12T06:36:53.991Z"
   },
   {
    "duration": 198,
    "start_time": "2025-02-12T06:36:54.164Z"
   },
   {
    "duration": 24,
    "start_time": "2025-02-12T06:36:54.364Z"
   },
   {
    "duration": 25,
    "start_time": "2025-02-12T06:36:54.441Z"
   },
   {
    "duration": 20,
    "start_time": "2025-02-12T06:36:54.662Z"
   },
   {
    "duration": 11,
    "start_time": "2025-02-12T06:36:54.838Z"
   },
   {
    "duration": 16,
    "start_time": "2025-02-12T06:36:55.039Z"
   },
   {
    "duration": 15,
    "start_time": "2025-02-12T06:36:55.538Z"
   },
   {
    "duration": 16,
    "start_time": "2025-02-12T06:36:57.222Z"
   },
   {
    "duration": 20,
    "start_time": "2025-02-12T06:37:09.951Z"
   },
   {
    "duration": 14,
    "start_time": "2025-02-12T07:22:48.554Z"
   },
   {
    "duration": 19,
    "start_time": "2025-02-12T07:22:53.844Z"
   },
   {
    "duration": 4,
    "start_time": "2025-02-12T07:25:14.528Z"
   },
   {
    "duration": 31,
    "start_time": "2025-02-12T07:25:15.058Z"
   },
   {
    "duration": 13,
    "start_time": "2025-02-12T07:25:15.092Z"
   },
   {
    "duration": 159,
    "start_time": "2025-02-12T07:25:15.311Z"
   },
   {
    "duration": 210,
    "start_time": "2025-02-12T07:25:15.490Z"
   },
   {
    "duration": 25,
    "start_time": "2025-02-12T07:25:15.753Z"
   },
   {
    "duration": 24,
    "start_time": "2025-02-12T07:25:16.001Z"
   },
   {
    "duration": 22,
    "start_time": "2025-02-12T07:25:16.259Z"
   },
   {
    "duration": 13,
    "start_time": "2025-02-12T07:25:16.501Z"
   },
   {
    "duration": 17,
    "start_time": "2025-02-12T07:25:16.755Z"
   },
   {
    "duration": 14,
    "start_time": "2025-02-12T07:25:17.017Z"
   },
   {
    "duration": 17,
    "start_time": "2025-02-12T07:25:18.386Z"
   },
   {
    "duration": 21,
    "start_time": "2025-02-12T07:25:19.698Z"
   },
   {
    "duration": 224,
    "start_time": "2025-02-12T07:25:36.395Z"
   },
   {
    "duration": 20,
    "start_time": "2025-02-12T07:25:37.337Z"
   },
   {
    "duration": 4,
    "start_time": "2025-02-12T07:25:49.715Z"
   },
   {
    "duration": 27,
    "start_time": "2025-02-12T07:25:50.219Z"
   },
   {
    "duration": 13,
    "start_time": "2025-02-12T07:25:50.249Z"
   },
   {
    "duration": 161,
    "start_time": "2025-02-12T07:25:50.280Z"
   },
   {
    "duration": 207,
    "start_time": "2025-02-12T07:25:50.443Z"
   },
   {
    "duration": 22,
    "start_time": "2025-02-12T07:25:50.651Z"
   },
   {
    "duration": 41,
    "start_time": "2025-02-12T07:25:50.675Z"
   },
   {
    "duration": 21,
    "start_time": "2025-02-12T07:25:50.718Z"
   },
   {
    "duration": 13,
    "start_time": "2025-02-12T07:25:51.034Z"
   },
   {
    "duration": 18,
    "start_time": "2025-02-12T07:25:51.403Z"
   },
   {
    "duration": 14,
    "start_time": "2025-02-12T07:25:52.081Z"
   },
   {
    "duration": 18,
    "start_time": "2025-02-12T07:25:53.754Z"
   },
   {
    "duration": 21,
    "start_time": "2025-02-12T07:25:55.185Z"
   },
   {
    "duration": 14,
    "start_time": "2025-02-12T07:26:32.579Z"
   },
   {
    "duration": 20,
    "start_time": "2025-02-12T07:26:38.892Z"
   },
   {
    "duration": 4,
    "start_time": "2025-02-12T07:26:55.050Z"
   },
   {
    "duration": 29,
    "start_time": "2025-02-12T07:26:55.370Z"
   },
   {
    "duration": 18,
    "start_time": "2025-02-12T07:27:03.683Z"
   },
   {
    "duration": 20,
    "start_time": "2025-02-12T07:27:04.156Z"
   },
   {
    "duration": 29,
    "start_time": "2025-02-12T07:28:43.290Z"
   },
   {
    "duration": 26,
    "start_time": "2025-02-12T07:29:07.123Z"
   },
   {
    "duration": 25,
    "start_time": "2025-02-12T07:29:13.904Z"
   },
   {
    "duration": 20,
    "start_time": "2025-02-12T07:29:14.570Z"
   },
   {
    "duration": 14,
    "start_time": "2025-02-12T07:29:19.090Z"
   },
   {
    "duration": 19,
    "start_time": "2025-02-12T07:29:19.667Z"
   },
   {
    "duration": 29,
    "start_time": "2025-02-12T07:30:31.651Z"
   },
   {
    "duration": 9,
    "start_time": "2025-02-12T07:30:47.428Z"
   },
   {
    "duration": 18,
    "start_time": "2025-02-12T07:30:51.305Z"
   },
   {
    "duration": 53,
    "start_time": "2025-02-12T07:31:21.298Z"
   },
   {
    "duration": 19,
    "start_time": "2025-02-12T07:31:23.490Z"
   },
   {
    "duration": 60,
    "start_time": "2025-02-12T07:31:27.289Z"
   },
   {
    "duration": 19,
    "start_time": "2025-02-12T07:31:27.914Z"
   },
   {
    "duration": 15,
    "start_time": "2025-02-12T07:32:17.254Z"
   },
   {
    "duration": 15,
    "start_time": "2025-02-12T07:32:19.043Z"
   },
   {
    "duration": 20,
    "start_time": "2025-02-12T07:32:19.314Z"
   },
   {
    "duration": 22,
    "start_time": "2025-02-12T07:32:58.578Z"
   },
   {
    "duration": 19,
    "start_time": "2025-02-12T07:32:59.090Z"
   },
   {
    "duration": 33,
    "start_time": "2025-02-12T07:33:07.667Z"
   },
   {
    "duration": 18,
    "start_time": "2025-02-12T07:33:08.419Z"
   },
   {
    "duration": 35,
    "start_time": "2025-02-12T07:33:28.762Z"
   },
   {
    "duration": 33,
    "start_time": "2025-02-12T07:33:30.146Z"
   },
   {
    "duration": 19,
    "start_time": "2025-02-12T07:33:30.507Z"
   },
   {
    "duration": 28,
    "start_time": "2025-02-12T07:33:51.130Z"
   },
   {
    "duration": 10,
    "start_time": "2025-02-12T07:33:57.427Z"
   },
   {
    "duration": 30,
    "start_time": "2025-02-12T07:33:57.946Z"
   },
   {
    "duration": 18,
    "start_time": "2025-02-12T07:33:59.522Z"
   },
   {
    "duration": 30,
    "start_time": "2025-02-12T07:34:34.356Z"
   },
   {
    "duration": 10,
    "start_time": "2025-02-12T07:34:44.701Z"
   },
   {
    "duration": 9,
    "start_time": "2025-02-12T07:34:47.954Z"
   },
   {
    "duration": 20,
    "start_time": "2025-02-12T07:34:48.618Z"
   },
   {
    "duration": 12,
    "start_time": "2025-02-12T07:35:08.747Z"
   },
   {
    "duration": 21,
    "start_time": "2025-02-12T07:35:09.506Z"
   },
   {
    "duration": 20,
    "start_time": "2025-02-12T07:35:32.364Z"
   },
   {
    "duration": 21,
    "start_time": "2025-02-12T07:35:36.819Z"
   },
   {
    "duration": 30,
    "start_time": "2025-02-12T07:36:40.971Z"
   },
   {
    "duration": 10,
    "start_time": "2025-02-12T07:36:48.683Z"
   },
   {
    "duration": 20,
    "start_time": "2025-02-12T07:36:49.717Z"
   },
   {
    "duration": 21,
    "start_time": "2025-02-12T07:36:51.035Z"
   },
   {
    "duration": 37,
    "start_time": "2025-02-12T07:39:28.730Z"
   },
   {
    "duration": 9,
    "start_time": "2025-02-12T07:39:35.515Z"
   },
   {
    "duration": 18,
    "start_time": "2025-02-12T07:39:35.911Z"
   },
   {
    "duration": 20,
    "start_time": "2025-02-12T07:39:37.986Z"
   },
   {
    "duration": 20,
    "start_time": "2025-02-12T07:39:41.786Z"
   },
   {
    "duration": 20,
    "start_time": "2025-02-12T07:39:42.314Z"
   },
   {
    "duration": 23,
    "start_time": "2025-02-12T07:45:27.307Z"
   },
   {
    "duration": 22,
    "start_time": "2025-02-12T07:46:01.060Z"
   },
   {
    "duration": 22,
    "start_time": "2025-02-12T07:46:23.268Z"
   },
   {
    "duration": 23,
    "start_time": "2025-02-12T07:46:28.183Z"
   },
   {
    "duration": 21,
    "start_time": "2025-02-12T07:46:53.596Z"
   },
   {
    "duration": 2737,
    "start_time": "2025-02-12T19:01:07.018Z"
   },
   {
    "duration": 53,
    "start_time": "2025-02-12T19:01:09.757Z"
   },
   {
    "duration": 13,
    "start_time": "2025-02-12T19:01:09.811Z"
   },
   {
    "duration": 168,
    "start_time": "2025-02-12T19:01:09.826Z"
   },
   {
    "duration": 207,
    "start_time": "2025-02-12T19:01:09.996Z"
   },
   {
    "duration": 38,
    "start_time": "2025-02-12T19:01:10.205Z"
   },
   {
    "duration": 24,
    "start_time": "2025-02-12T19:01:10.245Z"
   },
   {
    "duration": 36,
    "start_time": "2025-02-12T19:01:10.271Z"
   },
   {
    "duration": 13,
    "start_time": "2025-02-12T19:01:10.308Z"
   },
   {
    "duration": 31,
    "start_time": "2025-02-12T19:01:10.325Z"
   },
   {
    "duration": 15,
    "start_time": "2025-02-12T19:01:10.358Z"
   },
   {
    "duration": 9,
    "start_time": "2025-02-12T19:01:10.375Z"
   },
   {
    "duration": 250,
    "start_time": "2025-02-12T19:01:20.318Z"
   },
   {
    "duration": 7,
    "start_time": "2025-02-12T19:07:51.365Z"
   },
   {
    "duration": 4,
    "start_time": "2025-02-12T19:08:12.337Z"
   },
   {
    "duration": 4,
    "start_time": "2025-02-12T19:08:31.632Z"
   },
   {
    "duration": 389,
    "start_time": "2025-02-12T19:08:54.558Z"
   },
   {
    "duration": 23,
    "start_time": "2025-02-12T19:09:16.512Z"
   },
   {
    "duration": 20,
    "start_time": "2025-02-12T19:09:22.118Z"
   },
   {
    "duration": 12,
    "start_time": "2025-02-12T19:13:41.098Z"
   },
   {
    "duration": 21,
    "start_time": "2025-02-12T19:13:50.205Z"
   },
   {
    "duration": 99,
    "start_time": "2025-02-12T19:18:21.623Z"
   },
   {
    "duration": 20,
    "start_time": "2025-02-12T19:18:25.356Z"
   },
   {
    "duration": 169,
    "start_time": "2025-02-12T19:19:09.899Z"
   },
   {
    "duration": 75,
    "start_time": "2025-02-12T19:19:55.721Z"
   },
   {
    "duration": 4,
    "start_time": "2025-02-12T19:20:03.582Z"
   },
   {
    "duration": 31,
    "start_time": "2025-02-12T19:20:04.074Z"
   },
   {
    "duration": 12,
    "start_time": "2025-02-12T19:20:04.111Z"
   },
   {
    "duration": 166,
    "start_time": "2025-02-12T19:20:04.138Z"
   },
   {
    "duration": 203,
    "start_time": "2025-02-12T19:20:04.307Z"
   },
   {
    "duration": 32,
    "start_time": "2025-02-12T19:20:04.512Z"
   },
   {
    "duration": 24,
    "start_time": "2025-02-12T19:20:04.547Z"
   },
   {
    "duration": 20,
    "start_time": "2025-02-12T19:20:04.573Z"
   },
   {
    "duration": 12,
    "start_time": "2025-02-12T19:20:04.595Z"
   },
   {
    "duration": 40,
    "start_time": "2025-02-12T19:20:04.609Z"
   },
   {
    "duration": 13,
    "start_time": "2025-02-12T19:20:04.650Z"
   },
   {
    "duration": 9,
    "start_time": "2025-02-12T19:20:05.160Z"
   },
   {
    "duration": 71,
    "start_time": "2025-02-12T19:20:06.095Z"
   },
   {
    "duration": 5,
    "start_time": "2025-02-12T19:22:19.758Z"
   },
   {
    "duration": 68,
    "start_time": "2025-02-12T19:22:26.895Z"
   },
   {
    "duration": 15,
    "start_time": "2025-02-12T19:24:05.854Z"
   },
   {
    "duration": 21,
    "start_time": "2025-02-12T19:24:10.021Z"
   },
   {
    "duration": 88,
    "start_time": "2025-02-12T19:24:30.449Z"
   },
   {
    "duration": 191,
    "start_time": "2025-02-12T19:24:38.726Z"
   },
   {
    "duration": 28,
    "start_time": "2025-02-12T19:24:47.714Z"
   },
   {
    "duration": 14,
    "start_time": "2025-02-12T19:24:48.204Z"
   },
   {
    "duration": 186,
    "start_time": "2025-02-12T19:24:48.247Z"
   },
   {
    "duration": 207,
    "start_time": "2025-02-12T19:24:48.435Z"
   },
   {
    "duration": 24,
    "start_time": "2025-02-12T19:24:48.644Z"
   },
   {
    "duration": 22,
    "start_time": "2025-02-12T19:24:48.671Z"
   },
   {
    "duration": 20,
    "start_time": "2025-02-12T19:24:48.694Z"
   },
   {
    "duration": 36,
    "start_time": "2025-02-12T19:24:48.715Z"
   },
   {
    "duration": 15,
    "start_time": "2025-02-12T19:24:48.752Z"
   },
   {
    "duration": 13,
    "start_time": "2025-02-12T19:24:48.768Z"
   },
   {
    "duration": 9,
    "start_time": "2025-02-12T19:24:48.782Z"
   },
   {
    "duration": 97,
    "start_time": "2025-02-12T19:24:48.793Z"
   },
   {
    "duration": 28,
    "start_time": "2025-02-12T19:26:26.181Z"
   },
   {
    "duration": 9,
    "start_time": "2025-02-12T19:26:33.783Z"
   },
   {
    "duration": 11,
    "start_time": "2025-02-12T19:26:34.101Z"
   },
   {
    "duration": 28,
    "start_time": "2025-02-12T19:26:35.810Z"
   },
   {
    "duration": 2928,
    "start_time": "2025-02-23T06:53:13.504Z"
   },
   {
    "duration": 47,
    "start_time": "2025-02-23T06:53:16.434Z"
   },
   {
    "duration": 14,
    "start_time": "2025-02-23T06:53:16.483Z"
   },
   {
    "duration": 175,
    "start_time": "2025-02-23T06:53:16.500Z"
   },
   {
    "duration": 219,
    "start_time": "2025-02-23T06:53:16.678Z"
   },
   {
    "duration": 34,
    "start_time": "2025-02-23T06:53:16.899Z"
   },
   {
    "duration": 23,
    "start_time": "2025-02-23T06:53:16.935Z"
   },
   {
    "duration": 31,
    "start_time": "2025-02-23T06:53:16.960Z"
   },
   {
    "duration": 11,
    "start_time": "2025-02-23T06:53:16.993Z"
   },
   {
    "duration": 23,
    "start_time": "2025-02-23T06:53:17.008Z"
   },
   {
    "duration": 13,
    "start_time": "2025-02-23T06:53:17.033Z"
   },
   {
    "duration": 8,
    "start_time": "2025-02-23T06:53:17.048Z"
   },
   {
    "duration": 36,
    "start_time": "2025-02-23T06:53:17.058Z"
   },
   {
    "duration": 21,
    "start_time": "2025-02-23T06:53:17.095Z"
   },
   {
    "duration": 3,
    "start_time": "2025-02-23T06:53:17.117Z"
   },
   {
    "duration": 86,
    "start_time": "2025-02-23T07:04:09.638Z"
   },
   {
    "duration": 2820,
    "start_time": "2025-02-25T19:32:52.253Z"
   },
   {
    "duration": 60,
    "start_time": "2025-02-25T19:32:55.075Z"
   },
   {
    "duration": 13,
    "start_time": "2025-02-25T19:32:55.136Z"
   },
   {
    "duration": 186,
    "start_time": "2025-02-25T19:32:55.152Z"
   },
   {
    "duration": 206,
    "start_time": "2025-02-25T19:32:55.339Z"
   },
   {
    "duration": 84,
    "start_time": "2025-02-25T19:32:55.547Z"
   },
   {
    "duration": 27,
    "start_time": "2025-02-25T19:32:55.633Z"
   },
   {
    "duration": 31,
    "start_time": "2025-02-25T19:32:55.662Z"
   },
   {
    "duration": 24,
    "start_time": "2025-02-25T19:32:55.695Z"
   },
   {
    "duration": 14,
    "start_time": "2025-02-25T19:32:55.723Z"
   },
   {
    "duration": 18,
    "start_time": "2025-02-25T19:32:55.738Z"
   },
   {
    "duration": 12,
    "start_time": "2025-02-25T19:32:55.758Z"
   },
   {
    "duration": 10,
    "start_time": "2025-02-25T19:32:55.911Z"
   },
   {
    "duration": 625,
    "start_time": "2025-02-25T19:32:57.182Z"
   },
   {
    "duration": 19,
    "start_time": "2025-02-25T19:33:22.168Z"
   },
   {
    "duration": 14,
    "start_time": "2025-02-25T19:35:27.141Z"
   },
   {
    "duration": 14,
    "start_time": "2025-02-25T19:35:34.028Z"
   },
   {
    "duration": 14,
    "start_time": "2025-02-25T19:41:00.137Z"
   },
   {
    "duration": 12,
    "start_time": "2025-02-25T19:43:07.652Z"
   },
   {
    "duration": 17,
    "start_time": "2025-02-25T19:43:29.504Z"
   },
   {
    "duration": 14,
    "start_time": "2025-02-25T19:43:42.059Z"
   },
   {
    "duration": 132,
    "start_time": "2025-02-25T19:43:44.706Z"
   },
   {
    "duration": 6,
    "start_time": "2025-02-25T19:44:12.509Z"
   },
   {
    "duration": 8,
    "start_time": "2025-02-25T19:44:18.948Z"
   },
   {
    "duration": 155,
    "start_time": "2025-02-26T05:43:46.493Z"
   },
   {
    "duration": 2743,
    "start_time": "2025-02-26T05:43:53.391Z"
   },
   {
    "duration": 43,
    "start_time": "2025-02-26T05:43:56.136Z"
   },
   {
    "duration": 14,
    "start_time": "2025-02-26T05:43:56.180Z"
   },
   {
    "duration": 176,
    "start_time": "2025-02-26T05:43:56.196Z"
   },
   {
    "duration": 208,
    "start_time": "2025-02-26T05:43:56.374Z"
   },
   {
    "duration": 86,
    "start_time": "2025-02-26T05:43:56.585Z"
   },
   {
    "duration": 28,
    "start_time": "2025-02-26T05:43:56.672Z"
   },
   {
    "duration": 89,
    "start_time": "2025-02-26T05:43:56.703Z"
   },
   {
    "duration": 30,
    "start_time": "2025-02-26T05:43:56.795Z"
   },
   {
    "duration": 12,
    "start_time": "2025-02-26T05:43:56.828Z"
   },
   {
    "duration": 19,
    "start_time": "2025-02-26T05:43:56.843Z"
   },
   {
    "duration": 14,
    "start_time": "2025-02-26T05:43:56.864Z"
   },
   {
    "duration": 30,
    "start_time": "2025-02-26T05:43:56.879Z"
   },
   {
    "duration": 6,
    "start_time": "2025-02-26T05:43:56.910Z"
   },
   {
    "duration": 9,
    "start_time": "2025-02-26T05:43:56.917Z"
   },
   {
    "duration": 23,
    "start_time": "2025-02-26T05:43:56.928Z"
   },
   {
    "duration": 9,
    "start_time": "2025-02-26T05:43:56.952Z"
   },
   {
    "duration": 31,
    "start_time": "2025-02-26T05:48:36.307Z"
   },
   {
    "duration": 5,
    "start_time": "2025-02-26T05:49:07.870Z"
   },
   {
    "duration": 29,
    "start_time": "2025-02-26T05:49:15.996Z"
   },
   {
    "duration": 8,
    "start_time": "2025-02-26T05:53:16.619Z"
   },
   {
    "duration": 5,
    "start_time": "2025-02-26T05:53:54.032Z"
   },
   {
    "duration": 29,
    "start_time": "2025-02-26T05:53:57.446Z"
   },
   {
    "duration": 4,
    "start_time": "2025-02-26T05:58:11.161Z"
   },
   {
    "duration": 4,
    "start_time": "2025-02-26T05:58:12.185Z"
   },
   {
    "duration": 16,
    "start_time": "2025-02-26T05:58:16.558Z"
   },
   {
    "duration": 100,
    "start_time": "2025-02-26T06:05:51.941Z"
   },
   {
    "duration": 29,
    "start_time": "2025-02-26T06:06:52.654Z"
   },
   {
    "duration": 36,
    "start_time": "2025-02-26T06:07:07.814Z"
   },
   {
    "duration": 165,
    "start_time": "2025-02-27T01:48:04.356Z"
   },
   {
    "duration": 3062,
    "start_time": "2025-02-27T01:48:10.069Z"
   },
   {
    "duration": 59,
    "start_time": "2025-02-27T01:48:13.134Z"
   },
   {
    "duration": 18,
    "start_time": "2025-02-27T01:48:13.198Z"
   },
   {
    "duration": 258,
    "start_time": "2025-02-27T01:48:13.218Z"
   },
   {
    "duration": 242,
    "start_time": "2025-02-27T01:48:13.478Z"
   },
   {
    "duration": 86,
    "start_time": "2025-02-27T01:48:13.723Z"
   },
   {
    "duration": 38,
    "start_time": "2025-02-27T01:48:13.811Z"
   },
   {
    "duration": 103,
    "start_time": "2025-02-27T01:48:13.851Z"
   },
   {
    "duration": 33,
    "start_time": "2025-02-27T01:48:13.956Z"
   },
   {
    "duration": 15,
    "start_time": "2025-02-27T01:48:13.992Z"
   },
   {
    "duration": 26,
    "start_time": "2025-02-27T01:48:14.009Z"
   },
   {
    "duration": 16,
    "start_time": "2025-02-27T01:48:14.037Z"
   },
   {
    "duration": 10,
    "start_time": "2025-02-27T01:48:14.055Z"
   },
   {
    "duration": 5,
    "start_time": "2025-02-27T01:48:14.086Z"
   },
   {
    "duration": 12,
    "start_time": "2025-02-27T01:48:14.093Z"
   },
   {
    "duration": 5,
    "start_time": "2025-02-27T01:48:14.108Z"
   },
   {
    "duration": 35,
    "start_time": "2025-02-27T01:48:19.519Z"
   },
   {
    "duration": 11,
    "start_time": "2025-02-27T01:48:20.029Z"
   },
   {
    "duration": 6,
    "start_time": "2025-02-27T01:48:20.060Z"
   },
   {
    "duration": 27,
    "start_time": "2025-02-27T01:48:20.089Z"
   },
   {
    "duration": 7,
    "start_time": "2025-02-27T01:48:20.122Z"
   },
   {
    "duration": 7,
    "start_time": "2025-02-27T01:48:20.570Z"
   },
   {
    "duration": 32,
    "start_time": "2025-02-27T01:48:20.886Z"
   },
   {
    "duration": 15,
    "start_time": "2025-02-27T03:30:44.961Z"
   },
   {
    "duration": 28,
    "start_time": "2025-02-27T03:30:48.974Z"
   },
   {
    "duration": 271,
    "start_time": "2025-02-27T03:32:18.646Z"
   },
   {
    "duration": 4,
    "start_time": "2025-02-27T03:32:37.148Z"
   },
   {
    "duration": 33,
    "start_time": "2025-02-27T03:32:37.647Z"
   },
   {
    "duration": 13,
    "start_time": "2025-02-27T03:32:37.682Z"
   },
   {
    "duration": 170,
    "start_time": "2025-02-27T03:32:37.726Z"
   },
   {
    "duration": 207,
    "start_time": "2025-02-27T03:32:37.898Z"
   },
   {
    "duration": 69,
    "start_time": "2025-02-27T03:32:38.107Z"
   },
   {
    "duration": 24,
    "start_time": "2025-02-27T03:32:38.179Z"
   },
   {
    "duration": 23,
    "start_time": "2025-02-27T03:32:38.205Z"
   },
   {
    "duration": 20,
    "start_time": "2025-02-27T03:32:38.229Z"
   },
   {
    "duration": 12,
    "start_time": "2025-02-27T03:32:38.251Z"
   },
   {
    "duration": 20,
    "start_time": "2025-02-27T03:32:38.946Z"
   },
   {
    "duration": 14,
    "start_time": "2025-02-27T03:32:39.435Z"
   },
   {
    "duration": 10,
    "start_time": "2025-02-27T03:37:26.795Z"
   },
   {
    "duration": 6,
    "start_time": "2025-02-27T03:37:27.499Z"
   },
   {
    "duration": 9,
    "start_time": "2025-02-27T03:37:36.649Z"
   },
   {
    "duration": 503,
    "start_time": "2025-02-27T03:37:37.631Z"
   },
   {
    "duration": 6,
    "start_time": "2025-02-27T03:45:47.581Z"
   },
   {
    "duration": 34,
    "start_time": "2025-02-27T03:45:48.090Z"
   },
   {
    "duration": 17,
    "start_time": "2025-02-27T03:45:48.127Z"
   },
   {
    "duration": 177,
    "start_time": "2025-02-27T03:45:48.153Z"
   },
   {
    "duration": 319,
    "start_time": "2025-02-27T03:45:48.332Z"
   },
   {
    "duration": 69,
    "start_time": "2025-02-27T03:45:48.653Z"
   },
   {
    "duration": 26,
    "start_time": "2025-02-27T03:45:48.724Z"
   },
   {
    "duration": 25,
    "start_time": "2025-02-27T03:45:48.752Z"
   },
   {
    "duration": 22,
    "start_time": "2025-02-27T03:45:48.780Z"
   },
   {
    "duration": 13,
    "start_time": "2025-02-27T03:45:49.157Z"
   },
   {
    "duration": 17,
    "start_time": "2025-02-27T03:45:49.467Z"
   },
   {
    "duration": 14,
    "start_time": "2025-02-27T03:45:49.850Z"
   },
   {
    "duration": 9,
    "start_time": "2025-02-27T03:45:51.147Z"
   },
   {
    "duration": 6,
    "start_time": "2025-02-27T03:45:52.034Z"
   },
   {
    "duration": 9,
    "start_time": "2025-02-27T03:45:52.795Z"
   },
   {
    "duration": 43,
    "start_time": "2025-02-27T03:45:54.442Z"
   },
   {
    "duration": 4,
    "start_time": "2025-02-27T03:46:14.372Z"
   },
   {
    "duration": 15,
    "start_time": "2025-02-27T03:46:19.804Z"
   },
   {
    "duration": 4,
    "start_time": "2025-02-27T03:47:44.187Z"
   },
   {
    "duration": 17,
    "start_time": "2025-02-27T04:58:10.342Z"
   },
   {
    "duration": 18,
    "start_time": "2025-02-27T04:58:33.473Z"
   },
   {
    "duration": 5,
    "start_time": "2025-02-27T04:59:36.067Z"
   },
   {
    "duration": 13,
    "start_time": "2025-02-27T04:59:44.317Z"
   },
   {
    "duration": 4,
    "start_time": "2025-02-27T05:31:04.686Z"
   },
   {
    "duration": 28,
    "start_time": "2025-02-27T05:31:11.984Z"
   },
   {
    "duration": 4,
    "start_time": "2025-02-27T05:31:22.717Z"
   },
   {
    "duration": 4,
    "start_time": "2025-02-27T05:31:27.982Z"
   },
   {
    "duration": 26,
    "start_time": "2025-02-27T05:31:30.624Z"
   },
   {
    "duration": 4,
    "start_time": "2025-02-27T05:31:40.006Z"
   },
   {
    "duration": 31,
    "start_time": "2025-02-27T05:31:40.508Z"
   },
   {
    "duration": 14,
    "start_time": "2025-02-27T05:31:40.552Z"
   },
   {
    "duration": 160,
    "start_time": "2025-02-27T05:31:40.583Z"
   },
   {
    "duration": 216,
    "start_time": "2025-02-27T05:31:40.746Z"
   },
   {
    "duration": 75,
    "start_time": "2025-02-27T05:31:40.964Z"
   },
   {
    "duration": 26,
    "start_time": "2025-02-27T05:31:41.052Z"
   },
   {
    "duration": 25,
    "start_time": "2025-02-27T05:31:41.326Z"
   },
   {
    "duration": 23,
    "start_time": "2025-02-27T05:31:41.646Z"
   },
   {
    "duration": 17,
    "start_time": "2025-02-27T05:31:41.989Z"
   },
   {
    "duration": 17,
    "start_time": "2025-02-27T05:31:42.310Z"
   },
   {
    "duration": 14,
    "start_time": "2025-02-27T05:31:42.631Z"
   },
   {
    "duration": 9,
    "start_time": "2025-02-27T05:31:43.638Z"
   },
   {
    "duration": 9,
    "start_time": "2025-02-27T05:31:43.974Z"
   },
   {
    "duration": 10,
    "start_time": "2025-02-27T05:31:44.743Z"
   },
   {
    "duration": 3,
    "start_time": "2025-02-27T05:31:48.421Z"
   },
   {
    "duration": 13,
    "start_time": "2025-02-27T05:31:50.261Z"
   },
   {
    "duration": 4,
    "start_time": "2025-02-27T05:32:00.198Z"
   },
   {
    "duration": 27,
    "start_time": "2025-02-27T05:32:01.757Z"
   },
   {
    "duration": 35,
    "start_time": "2025-02-27T05:32:41.783Z"
   },
   {
    "duration": 3,
    "start_time": "2025-02-27T05:33:06.172Z"
   },
   {
    "duration": 30,
    "start_time": "2025-02-27T05:33:06.668Z"
   },
   {
    "duration": 13,
    "start_time": "2025-02-27T05:33:06.701Z"
   },
   {
    "duration": 163,
    "start_time": "2025-02-27T05:33:06.760Z"
   },
   {
    "duration": 200,
    "start_time": "2025-02-27T05:33:06.926Z"
   },
   {
    "duration": 69,
    "start_time": "2025-02-27T05:33:07.128Z"
   },
   {
    "duration": 24,
    "start_time": "2025-02-27T05:33:07.198Z"
   },
   {
    "duration": 25,
    "start_time": "2025-02-27T05:33:07.387Z"
   },
   {
    "duration": 22,
    "start_time": "2025-02-27T05:33:07.566Z"
   },
   {
    "duration": 13,
    "start_time": "2025-02-27T05:33:07.757Z"
   },
   {
    "duration": 17,
    "start_time": "2025-02-27T05:33:07.924Z"
   },
   {
    "duration": 14,
    "start_time": "2025-02-27T05:33:08.094Z"
   },
   {
    "duration": 10,
    "start_time": "2025-02-27T05:33:09.093Z"
   },
   {
    "duration": 7,
    "start_time": "2025-02-27T05:33:09.421Z"
   },
   {
    "duration": 9,
    "start_time": "2025-02-27T05:33:10.246Z"
   },
   {
    "duration": 5,
    "start_time": "2025-02-27T05:33:12.351Z"
   },
   {
    "duration": 14,
    "start_time": "2025-02-27T05:33:18.021Z"
   },
   {
    "duration": 4,
    "start_time": "2025-02-27T05:33:19.741Z"
   },
   {
    "duration": 26,
    "start_time": "2025-02-27T05:33:20.793Z"
   },
   {
    "duration": 6,
    "start_time": "2025-02-27T05:34:53.670Z"
   },
   {
    "duration": 27,
    "start_time": "2025-02-27T05:34:54.181Z"
   },
   {
    "duration": 4,
    "start_time": "2025-02-27T05:35:06.239Z"
   },
   {
    "duration": 34,
    "start_time": "2025-02-27T05:35:06.746Z"
   },
   {
    "duration": 14,
    "start_time": "2025-02-27T05:35:06.783Z"
   },
   {
    "duration": 159,
    "start_time": "2025-02-27T05:35:06.804Z"
   },
   {
    "duration": 209,
    "start_time": "2025-02-27T05:35:06.965Z"
   },
   {
    "duration": 78,
    "start_time": "2025-02-27T05:35:07.176Z"
   },
   {
    "duration": 24,
    "start_time": "2025-02-27T05:35:07.256Z"
   },
   {
    "duration": 23,
    "start_time": "2025-02-27T05:35:07.282Z"
   },
   {
    "duration": 21,
    "start_time": "2025-02-27T05:35:07.306Z"
   },
   {
    "duration": 11,
    "start_time": "2025-02-27T05:35:07.328Z"
   },
   {
    "duration": 16,
    "start_time": "2025-02-27T05:35:07.341Z"
   },
   {
    "duration": 33,
    "start_time": "2025-02-27T05:35:07.359Z"
   },
   {
    "duration": 9,
    "start_time": "2025-02-27T05:35:07.493Z"
   },
   {
    "duration": 7,
    "start_time": "2025-02-27T05:35:07.838Z"
   },
   {
    "duration": 9,
    "start_time": "2025-02-27T05:35:08.193Z"
   },
   {
    "duration": 4,
    "start_time": "2025-02-27T05:35:08.557Z"
   },
   {
    "duration": 14,
    "start_time": "2025-02-27T05:35:08.901Z"
   },
   {
    "duration": 6,
    "start_time": "2025-02-27T05:35:09.382Z"
   },
   {
    "duration": 26,
    "start_time": "2025-02-27T05:35:09.786Z"
   },
   {
    "duration": 9,
    "start_time": "2025-02-27T05:35:10.126Z"
   },
   {
    "duration": 5,
    "start_time": "2025-02-27T05:35:10.502Z"
   },
   {
    "duration": 30,
    "start_time": "2025-02-27T05:35:10.901Z"
   },
   {
    "duration": 7,
    "start_time": "2025-02-27T05:35:11.296Z"
   },
   {
    "duration": 5,
    "start_time": "2025-02-27T05:35:11.828Z"
   },
   {
    "duration": 24,
    "start_time": "2025-02-27T05:35:12.317Z"
   },
   {
    "duration": 5,
    "start_time": "2025-02-27T05:35:12.812Z"
   },
   {
    "duration": 4,
    "start_time": "2025-02-27T05:35:13.278Z"
   },
   {
    "duration": 16,
    "start_time": "2025-02-27T05:35:13.742Z"
   },
   {
    "duration": 19,
    "start_time": "2025-02-27T05:35:14.237Z"
   },
   {
    "duration": 35,
    "start_time": "2025-02-27T05:35:14.989Z"
   },
   {
    "duration": 41,
    "start_time": "2025-02-27T05:35:33.454Z"
   },
   {
    "duration": 48,
    "start_time": "2025-02-27T05:35:39.901Z"
   },
   {
    "duration": 454,
    "start_time": "2025-02-27T05:37:12.222Z"
   },
   {
    "duration": 3,
    "start_time": "2025-02-27T05:39:49.449Z"
   },
   {
    "duration": 30,
    "start_time": "2025-02-27T05:39:49.960Z"
   },
   {
    "duration": 12,
    "start_time": "2025-02-27T05:39:49.993Z"
   },
   {
    "duration": 168,
    "start_time": "2025-02-27T05:39:50.014Z"
   },
   {
    "duration": 205,
    "start_time": "2025-02-27T05:39:50.186Z"
   },
   {
    "duration": 77,
    "start_time": "2025-02-27T05:39:50.393Z"
   },
   {
    "duration": 24,
    "start_time": "2025-02-27T05:39:50.472Z"
   },
   {
    "duration": 25,
    "start_time": "2025-02-27T05:39:50.580Z"
   },
   {
    "duration": 20,
    "start_time": "2025-02-27T05:39:50.768Z"
   },
   {
    "duration": 13,
    "start_time": "2025-02-27T05:39:50.968Z"
   },
   {
    "duration": 18,
    "start_time": "2025-02-27T05:39:51.141Z"
   },
   {
    "duration": 13,
    "start_time": "2025-02-27T05:39:51.887Z"
   },
   {
    "duration": 21,
    "start_time": "2025-02-27T05:44:17.727Z"
   },
   {
    "duration": 19,
    "start_time": "2025-02-27T05:44:44.224Z"
   },
   {
    "duration": 35,
    "start_time": "2025-02-27T05:44:57.398Z"
   },
   {
    "duration": 212,
    "start_time": "2025-02-27T05:48:21.079Z"
   },
   {
    "duration": 44,
    "start_time": "2025-02-27T05:48:34.640Z"
   },
   {
    "duration": 5,
    "start_time": "2025-02-27T05:48:46.103Z"
   },
   {
    "duration": 6,
    "start_time": "2025-02-27T05:48:56.038Z"
   },
   {
    "duration": 3,
    "start_time": "2025-02-27T05:50:44.055Z"
   },
   {
    "duration": 3,
    "start_time": "2025-02-27T05:51:04.309Z"
   },
   {
    "duration": 33,
    "start_time": "2025-02-27T05:51:04.811Z"
   },
   {
    "duration": 15,
    "start_time": "2025-02-27T05:51:04.847Z"
   },
   {
    "duration": 200,
    "start_time": "2025-02-27T05:51:04.873Z"
   },
   {
    "duration": 221,
    "start_time": "2025-02-27T05:51:05.077Z"
   },
   {
    "duration": 85,
    "start_time": "2025-02-27T05:51:05.300Z"
   },
   {
    "duration": 27,
    "start_time": "2025-02-27T05:51:05.387Z"
   },
   {
    "duration": 28,
    "start_time": "2025-02-27T05:51:05.479Z"
   },
   {
    "duration": 21,
    "start_time": "2025-02-27T05:51:05.703Z"
   },
   {
    "duration": 14,
    "start_time": "2025-02-27T05:51:05.870Z"
   },
   {
    "duration": 20,
    "start_time": "2025-02-27T05:51:06.047Z"
   },
   {
    "duration": 18,
    "start_time": "2025-02-27T05:51:06.225Z"
   },
   {
    "duration": 34,
    "start_time": "2025-02-27T05:51:08.023Z"
   },
   {
    "duration": 5,
    "start_time": "2025-02-27T05:51:08.791Z"
   },
   {
    "duration": 3,
    "start_time": "2025-02-27T05:51:11.558Z"
   },
   {
    "duration": 5,
    "start_time": "2025-02-27T05:51:30.005Z"
   },
   {
    "duration": 5,
    "start_time": "2025-02-27T05:54:02.615Z"
   },
   {
    "duration": 42,
    "start_time": "2025-02-27T05:54:19.945Z"
   },
   {
    "duration": 4,
    "start_time": "2025-02-27T05:54:27.329Z"
   },
   {
    "duration": 30,
    "start_time": "2025-02-27T05:54:27.830Z"
   },
   {
    "duration": 13,
    "start_time": "2025-02-27T05:54:27.874Z"
   },
   {
    "duration": 167,
    "start_time": "2025-02-27T05:54:27.906Z"
   },
   {
    "duration": 213,
    "start_time": "2025-02-27T05:54:28.075Z"
   },
   {
    "duration": 74,
    "start_time": "2025-02-27T05:54:28.291Z"
   },
   {
    "duration": 24,
    "start_time": "2025-02-27T05:54:28.367Z"
   },
   {
    "duration": 23,
    "start_time": "2025-02-27T05:54:28.393Z"
   },
   {
    "duration": 20,
    "start_time": "2025-02-27T05:54:28.418Z"
   },
   {
    "duration": 13,
    "start_time": "2025-02-27T05:54:28.543Z"
   },
   {
    "duration": 17,
    "start_time": "2025-02-27T05:54:29.027Z"
   },
   {
    "duration": 13,
    "start_time": "2025-02-27T05:54:29.259Z"
   },
   {
    "duration": 43,
    "start_time": "2025-02-27T05:54:31.112Z"
   },
   {
    "duration": 5,
    "start_time": "2025-02-27T05:54:32.255Z"
   },
   {
    "duration": 5,
    "start_time": "2025-02-27T05:54:33.200Z"
   },
   {
    "duration": 5,
    "start_time": "2025-02-27T05:54:33.632Z"
   },
   {
    "duration": 7,
    "start_time": "2025-02-27T05:54:34.215Z"
   },
   {
    "duration": 26,
    "start_time": "2025-02-27T05:58:27.776Z"
   },
   {
    "duration": 20,
    "start_time": "2025-02-27T05:58:44.231Z"
   },
   {
    "duration": 21,
    "start_time": "2025-02-27T05:59:07.407Z"
   },
   {
    "duration": 6,
    "start_time": "2025-02-27T06:01:48.023Z"
   },
   {
    "duration": 23,
    "start_time": "2025-02-27T06:01:58.978Z"
   },
   {
    "duration": 21,
    "start_time": "2025-02-27T06:02:41.316Z"
   },
   {
    "duration": 4,
    "start_time": "2025-02-27T06:03:11.946Z"
   },
   {
    "duration": 31,
    "start_time": "2025-02-27T06:03:12.458Z"
   },
   {
    "duration": 13,
    "start_time": "2025-02-27T06:03:12.491Z"
   },
   {
    "duration": 169,
    "start_time": "2025-02-27T06:03:12.516Z"
   },
   {
    "duration": 206,
    "start_time": "2025-02-27T06:03:12.687Z"
   },
   {
    "duration": 71,
    "start_time": "2025-02-27T06:03:12.895Z"
   },
   {
    "duration": 24,
    "start_time": "2025-02-27T06:03:12.968Z"
   },
   {
    "duration": 24,
    "start_time": "2025-02-27T06:03:13.040Z"
   },
   {
    "duration": 21,
    "start_time": "2025-02-27T06:03:13.301Z"
   },
   {
    "duration": 13,
    "start_time": "2025-02-27T06:03:13.559Z"
   },
   {
    "duration": 18,
    "start_time": "2025-02-27T06:03:13.865Z"
   },
   {
    "duration": 15,
    "start_time": "2025-02-27T06:03:14.183Z"
   },
   {
    "duration": 43,
    "start_time": "2025-02-27T06:03:15.184Z"
   },
   {
    "duration": 5,
    "start_time": "2025-02-27T06:03:15.511Z"
   },
   {
    "duration": 3,
    "start_time": "2025-02-27T06:03:16.247Z"
   },
   {
    "duration": 7,
    "start_time": "2025-02-27T06:03:16.617Z"
   },
   {
    "duration": 9,
    "start_time": "2025-02-27T06:03:16.975Z"
   },
   {
    "duration": 28,
    "start_time": "2025-02-27T06:03:17.912Z"
   },
   {
    "duration": 22,
    "start_time": "2025-02-27T06:03:42.688Z"
   },
   {
    "duration": 27,
    "start_time": "2025-02-27T06:03:59.495Z"
   },
   {
    "duration": 22,
    "start_time": "2025-02-27T06:05:12.496Z"
   },
   {
    "duration": 20,
    "start_time": "2025-02-27T06:05:26.984Z"
   },
   {
    "duration": 6,
    "start_time": "2025-02-27T06:06:19.848Z"
   },
   {
    "duration": 30,
    "start_time": "2025-02-27T06:06:24.872Z"
   },
   {
    "duration": 4,
    "start_time": "2025-02-27T06:06:58.457Z"
   },
   {
    "duration": 33,
    "start_time": "2025-02-27T06:06:58.957Z"
   },
   {
    "duration": 15,
    "start_time": "2025-02-27T06:06:59.006Z"
   },
   {
    "duration": 169,
    "start_time": "2025-02-27T06:06:59.035Z"
   },
   {
    "duration": 240,
    "start_time": "2025-02-27T06:06:59.206Z"
   },
   {
    "duration": 67,
    "start_time": "2025-02-27T06:06:59.448Z"
   },
   {
    "duration": 24,
    "start_time": "2025-02-27T06:06:59.517Z"
   },
   {
    "duration": 28,
    "start_time": "2025-02-27T06:06:59.542Z"
   },
   {
    "duration": 21,
    "start_time": "2025-02-27T06:06:59.571Z"
   },
   {
    "duration": 12,
    "start_time": "2025-02-27T06:06:59.594Z"
   },
   {
    "duration": 16,
    "start_time": "2025-02-27T06:06:59.645Z"
   },
   {
    "duration": 14,
    "start_time": "2025-02-27T06:06:59.953Z"
   },
   {
    "duration": 42,
    "start_time": "2025-02-27T06:07:01.121Z"
   },
   {
    "duration": 5,
    "start_time": "2025-02-27T06:07:01.499Z"
   },
   {
    "duration": 3,
    "start_time": "2025-02-27T06:07:01.841Z"
   },
   {
    "duration": 6,
    "start_time": "2025-02-27T06:07:02.192Z"
   },
   {
    "duration": 8,
    "start_time": "2025-02-27T06:07:03.216Z"
   },
   {
    "duration": 31,
    "start_time": "2025-02-27T06:07:03.730Z"
   },
   {
    "duration": 24,
    "start_time": "2025-02-27T06:07:12.691Z"
   },
   {
    "duration": 18,
    "start_time": "2025-02-27T06:07:40.543Z"
   },
   {
    "duration": 5,
    "start_time": "2025-02-27T06:08:41.586Z"
   },
   {
    "duration": 8,
    "start_time": "2025-02-27T06:09:11.376Z"
   },
   {
    "duration": 20,
    "start_time": "2025-02-27T06:09:54.129Z"
   },
   {
    "duration": 9,
    "start_time": "2025-02-27T06:10:06.761Z"
   },
   {
    "duration": 3,
    "start_time": "2025-02-27T06:11:36.226Z"
   },
   {
    "duration": 29,
    "start_time": "2025-02-27T06:11:36.739Z"
   },
   {
    "duration": 14,
    "start_time": "2025-02-27T06:11:36.769Z"
   },
   {
    "duration": 159,
    "start_time": "2025-02-27T06:11:36.797Z"
   },
   {
    "duration": 212,
    "start_time": "2025-02-27T06:11:36.959Z"
   },
   {
    "duration": 72,
    "start_time": "2025-02-27T06:11:37.173Z"
   },
   {
    "duration": 22,
    "start_time": "2025-02-27T06:11:37.247Z"
   },
   {
    "duration": 23,
    "start_time": "2025-02-27T06:11:37.271Z"
   },
   {
    "duration": 20,
    "start_time": "2025-02-27T06:11:37.296Z"
   },
   {
    "duration": 12,
    "start_time": "2025-02-27T06:11:38.090Z"
   },
   {
    "duration": 16,
    "start_time": "2025-02-27T06:11:38.483Z"
   },
   {
    "duration": 14,
    "start_time": "2025-02-27T06:11:38.723Z"
   },
   {
    "duration": 220,
    "start_time": "2025-02-27T06:11:39.463Z"
   },
   {
    "duration": 5,
    "start_time": "2025-02-27T06:11:39.685Z"
   },
   {
    "duration": 3,
    "start_time": "2025-02-27T06:11:39.824Z"
   },
   {
    "duration": 6,
    "start_time": "2025-02-27T06:11:40.000Z"
   },
   {
    "duration": 12,
    "start_time": "2025-02-27T06:11:40.371Z"
   },
   {
    "duration": 39,
    "start_time": "2025-02-27T06:11:40.772Z"
   },
   {
    "duration": 12,
    "start_time": "2025-02-27T06:11:40.967Z"
   },
   {
    "duration": 5,
    "start_time": "2025-02-27T06:12:13.664Z"
   },
   {
    "duration": 4,
    "start_time": "2025-02-27T06:12:28.396Z"
   },
   {
    "duration": 14,
    "start_time": "2025-02-27T06:12:41.450Z"
   },
   {
    "duration": 7,
    "start_time": "2025-02-27T06:13:05.540Z"
   },
   {
    "duration": 4,
    "start_time": "2025-02-27T06:13:08.867Z"
   },
   {
    "duration": 16,
    "start_time": "2025-02-27T06:13:21.777Z"
   },
   {
    "duration": 4,
    "start_time": "2025-02-27T06:13:40.214Z"
   },
   {
    "duration": 2,
    "start_time": "2025-02-27T06:14:01.345Z"
   },
   {
    "duration": 9,
    "start_time": "2025-02-27T06:16:30.641Z"
   },
   {
    "duration": 15,
    "start_time": "2025-02-27T06:17:11.297Z"
   },
   {
    "duration": 5,
    "start_time": "2025-02-27T06:17:30.029Z"
   },
   {
    "duration": 3,
    "start_time": "2025-02-27T06:17:44.984Z"
   },
   {
    "duration": 16,
    "start_time": "2025-02-27T06:17:48.754Z"
   },
   {
    "duration": 4,
    "start_time": "2025-02-27T06:18:08.232Z"
   },
   {
    "duration": 260,
    "start_time": "2025-02-27T06:18:19.666Z"
   },
   {
    "duration": 36,
    "start_time": "2025-02-27T06:19:31.516Z"
   },
   {
    "duration": 10,
    "start_time": "2025-02-27T06:19:50.107Z"
   },
   {
    "duration": 3,
    "start_time": "2025-02-27T06:19:50.746Z"
   },
   {
    "duration": 10,
    "start_time": "2025-02-27T06:19:52.001Z"
   },
   {
    "duration": 3,
    "start_time": "2025-02-27T06:19:52.571Z"
   },
   {
    "duration": 323,
    "start_time": "2025-02-27T06:19:53.388Z"
   },
   {
    "duration": 5,
    "start_time": "2025-02-27T06:22:34.739Z"
   },
   {
    "duration": 36,
    "start_time": "2025-02-27T06:22:35.330Z"
   },
   {
    "duration": 4,
    "start_time": "2025-02-27T06:25:09.242Z"
   },
   {
    "duration": 30,
    "start_time": "2025-02-27T06:25:09.755Z"
   },
   {
    "duration": 13,
    "start_time": "2025-02-27T06:25:09.786Z"
   },
   {
    "duration": 167,
    "start_time": "2025-02-27T06:25:09.818Z"
   },
   {
    "duration": 209,
    "start_time": "2025-02-27T06:25:09.988Z"
   },
   {
    "duration": 76,
    "start_time": "2025-02-27T06:25:10.199Z"
   },
   {
    "duration": 24,
    "start_time": "2025-02-27T06:25:10.277Z"
   },
   {
    "duration": 24,
    "start_time": "2025-02-27T06:25:10.302Z"
   },
   {
    "duration": 20,
    "start_time": "2025-02-27T06:25:10.328Z"
   },
   {
    "duration": 11,
    "start_time": "2025-02-27T06:25:10.350Z"
   },
   {
    "duration": 20,
    "start_time": "2025-02-27T06:25:10.410Z"
   },
   {
    "duration": 15,
    "start_time": "2025-02-27T06:25:10.645Z"
   },
   {
    "duration": 45,
    "start_time": "2025-02-27T06:25:11.338Z"
   },
   {
    "duration": 5,
    "start_time": "2025-02-27T06:25:11.661Z"
   },
   {
    "duration": 3,
    "start_time": "2025-02-27T06:25:12.825Z"
   },
   {
    "duration": 7,
    "start_time": "2025-02-27T06:25:13.802Z"
   },
   {
    "duration": 14,
    "start_time": "2025-02-27T06:25:14.467Z"
   },
   {
    "duration": 15,
    "start_time": "2025-02-27T06:25:40.315Z"
   },
   {
    "duration": 13,
    "start_time": "2025-02-27T06:25:47.626Z"
   },
   {
    "duration": 34,
    "start_time": "2025-02-27T06:25:55.484Z"
   },
   {
    "duration": 16,
    "start_time": "2025-02-27T06:29:15.258Z"
   },
   {
    "duration": 4,
    "start_time": "2025-02-27T06:30:24.981Z"
   },
   {
    "duration": 28,
    "start_time": "2025-02-27T06:30:25.492Z"
   },
   {
    "duration": 13,
    "start_time": "2025-02-27T06:30:25.522Z"
   },
   {
    "duration": 159,
    "start_time": "2025-02-27T06:30:25.551Z"
   },
   {
    "duration": 209,
    "start_time": "2025-02-27T06:30:25.712Z"
   },
   {
    "duration": 78,
    "start_time": "2025-02-27T06:30:25.923Z"
   },
   {
    "duration": 24,
    "start_time": "2025-02-27T06:30:26.138Z"
   },
   {
    "duration": 25,
    "start_time": "2025-02-27T06:30:26.546Z"
   },
   {
    "duration": 23,
    "start_time": "2025-02-27T06:30:27.016Z"
   },
   {
    "duration": 12,
    "start_time": "2025-02-27T06:30:27.483Z"
   },
   {
    "duration": 17,
    "start_time": "2025-02-27T06:30:27.731Z"
   },
   {
    "duration": 14,
    "start_time": "2025-02-27T06:30:28.242Z"
   },
   {
    "duration": 42,
    "start_time": "2025-02-27T06:33:51.274Z"
   },
   {
    "duration": 16,
    "start_time": "2025-02-27T06:35:28.236Z"
   },
   {
    "duration": 4,
    "start_time": "2025-02-27T06:35:35.420Z"
   },
   {
    "duration": 4,
    "start_time": "2025-02-27T06:35:36.157Z"
   },
   {
    "duration": 4,
    "start_time": "2025-02-27T06:35:37.336Z"
   },
   {
    "duration": 35,
    "start_time": "2025-02-27T06:35:37.849Z"
   },
   {
    "duration": 13,
    "start_time": "2025-02-27T06:35:37.886Z"
   },
   {
    "duration": 170,
    "start_time": "2025-02-27T06:35:37.907Z"
   },
   {
    "duration": 216,
    "start_time": "2025-02-27T06:35:38.079Z"
   },
   {
    "duration": 73,
    "start_time": "2025-02-27T06:35:38.297Z"
   },
   {
    "duration": 24,
    "start_time": "2025-02-27T06:35:38.372Z"
   },
   {
    "duration": 24,
    "start_time": "2025-02-27T06:35:38.397Z"
   },
   {
    "duration": 19,
    "start_time": "2025-02-27T06:35:38.423Z"
   },
   {
    "duration": 11,
    "start_time": "2025-02-27T06:35:38.482Z"
   },
   {
    "duration": 16,
    "start_time": "2025-02-27T06:35:38.691Z"
   },
   {
    "duration": 14,
    "start_time": "2025-02-27T06:35:38.884Z"
   },
   {
    "duration": 41,
    "start_time": "2025-02-27T06:35:39.715Z"
   },
   {
    "duration": 5,
    "start_time": "2025-02-27T06:35:40.318Z"
   },
   {
    "duration": 3,
    "start_time": "2025-02-27T06:35:40.946Z"
   },
   {
    "duration": 7,
    "start_time": "2025-02-27T06:35:41.684Z"
   },
   {
    "duration": 15,
    "start_time": "2025-02-27T06:35:42.395Z"
   },
   {
    "duration": 16,
    "start_time": "2025-02-27T06:35:46.499Z"
   },
   {
    "duration": 35,
    "start_time": "2025-02-27T06:35:47.115Z"
   },
   {
    "duration": 9,
    "start_time": "2025-02-27T06:35:47.778Z"
   },
   {
    "duration": 3,
    "start_time": "2025-02-27T06:35:48.922Z"
   },
   {
    "duration": 7,
    "start_time": "2025-02-27T06:35:51.345Z"
   },
   {
    "duration": 3,
    "start_time": "2025-02-27T06:35:51.867Z"
   },
   {
    "duration": 154,
    "start_time": "2025-02-27T06:35:52.743Z"
   },
   {
    "duration": 17,
    "start_time": "2025-02-27T06:36:06.563Z"
   },
   {
    "duration": 16,
    "start_time": "2025-02-27T06:36:12.195Z"
   },
   {
    "duration": 6,
    "start_time": "2025-02-27T06:36:46.667Z"
   },
   {
    "duration": 2698,
    "start_time": "2025-02-27T06:37:02.563Z"
   },
   {
    "duration": 4,
    "start_time": "2025-02-27T06:39:31.683Z"
   },
   {
    "duration": 2646,
    "start_time": "2025-02-27T06:39:32.290Z"
   },
   {
    "duration": 3,
    "start_time": "2025-02-27T06:39:43.686Z"
   },
   {
    "duration": 2632,
    "start_time": "2025-02-27T06:39:44.167Z"
   },
   {
    "duration": 22,
    "start_time": "2025-02-27T06:40:11.844Z"
   },
   {
    "duration": 3,
    "start_time": "2025-02-27T06:41:12.090Z"
   },
   {
    "duration": 2648,
    "start_time": "2025-02-27T06:41:16.494Z"
   },
   {
    "duration": 3,
    "start_time": "2025-02-27T06:41:26.539Z"
   },
   {
    "duration": 2623,
    "start_time": "2025-02-27T06:41:27.069Z"
   },
   {
    "duration": 3,
    "start_time": "2025-02-27T06:41:36.690Z"
   },
   {
    "duration": 2637,
    "start_time": "2025-02-27T06:41:37.051Z"
   },
   {
    "duration": 3,
    "start_time": "2025-02-27T06:41:50.699Z"
   },
   {
    "duration": 2629,
    "start_time": "2025-02-27T06:41:51.058Z"
   },
   {
    "duration": 4,
    "start_time": "2025-02-27T06:41:57.932Z"
   },
   {
    "duration": 2632,
    "start_time": "2025-02-27T06:41:58.178Z"
   },
   {
    "duration": 3,
    "start_time": "2025-02-27T06:43:43.372Z"
   },
   {
    "duration": 2462,
    "start_time": "2025-02-27T06:43:44.388Z"
   },
   {
    "duration": 3,
    "start_time": "2025-02-27T06:44:05.523Z"
   },
   {
    "duration": 9562,
    "start_time": "2025-02-27T06:44:06.051Z"
   },
   {
    "duration": 5,
    "start_time": "2025-02-27T06:44:35.267Z"
   },
   {
    "duration": 9631,
    "start_time": "2025-02-27T06:44:35.618Z"
   },
   {
    "duration": 4,
    "start_time": "2025-02-27T06:44:55.062Z"
   },
   {
    "duration": 1622,
    "start_time": "2025-02-27T06:44:55.500Z"
   },
   {
    "duration": 3,
    "start_time": "2025-02-27T06:45:02.835Z"
   },
   {
    "duration": 2687,
    "start_time": "2025-02-27T06:45:03.283Z"
   },
   {
    "duration": 4,
    "start_time": "2025-02-27T06:45:21.451Z"
   },
   {
    "duration": 349,
    "start_time": "2025-02-27T06:45:23.907Z"
   },
   {
    "duration": 3,
    "start_time": "2025-02-27T06:46:36.510Z"
   },
   {
    "duration": 254,
    "start_time": "2025-02-27T06:46:39.027Z"
   },
   {
    "duration": 2,
    "start_time": "2025-02-27T06:47:06.060Z"
   },
   {
    "duration": 3,
    "start_time": "2025-02-27T06:47:07.763Z"
   },
   {
    "duration": 2664,
    "start_time": "2025-02-27T06:47:08.019Z"
   },
   {
    "duration": 3,
    "start_time": "2025-02-27T06:47:15.931Z"
   },
   {
    "duration": 2661,
    "start_time": "2025-02-27T06:47:16.219Z"
   },
   {
    "duration": 4,
    "start_time": "2025-02-27T06:47:31.349Z"
   },
   {
    "duration": 1619,
    "start_time": "2025-02-27T06:47:31.600Z"
   },
   {
    "duration": 3,
    "start_time": "2025-02-27T06:47:41.932Z"
   },
   {
    "duration": 18361,
    "start_time": "2025-02-27T06:47:42.339Z"
   },
   {
    "duration": 5,
    "start_time": "2025-02-27T06:48:26.202Z"
   },
   {
    "duration": 2646,
    "start_time": "2025-02-27T06:48:26.460Z"
   },
   {
    "duration": 3,
    "start_time": "2025-02-27T06:48:50.067Z"
   },
   {
    "duration": 2667,
    "start_time": "2025-02-27T06:48:50.341Z"
   },
   {
    "duration": 3,
    "start_time": "2025-02-27T06:49:04.613Z"
   },
   {
    "duration": 5411,
    "start_time": "2025-02-27T06:49:05.086Z"
   },
   {
    "duration": 3,
    "start_time": "2025-02-27T06:49:18.397Z"
   },
   {
    "duration": 5459,
    "start_time": "2025-02-27T06:49:18.612Z"
   },
   {
    "duration": 4,
    "start_time": "2025-02-27T06:49:28.915Z"
   },
   {
    "duration": 5435,
    "start_time": "2025-02-27T06:49:29.196Z"
   },
   {
    "duration": 4,
    "start_time": "2025-02-27T06:51:21.259Z"
   },
   {
    "duration": 9004,
    "start_time": "2025-02-27T06:51:21.613Z"
   },
   {
    "duration": 2,
    "start_time": "2025-02-27T06:51:40.069Z"
   },
   {
    "duration": 5448,
    "start_time": "2025-02-27T06:51:40.443Z"
   },
   {
    "duration": 11,
    "start_time": "2025-02-27T06:52:49.204Z"
   },
   {
    "duration": 8,
    "start_time": "2025-02-27T06:58:18.716Z"
   },
   {
    "duration": 4,
    "start_time": "2025-02-27T06:58:19.364Z"
   },
   {
    "duration": 5161,
    "start_time": "2025-02-27T06:58:20.556Z"
   },
   {
    "duration": 9,
    "start_time": "2025-02-27T06:58:40.548Z"
   },
   {
    "duration": 3,
    "start_time": "2025-02-27T06:58:40.966Z"
   },
   {
    "duration": 4884,
    "start_time": "2025-02-27T06:58:41.836Z"
   },
   {
    "duration": 8,
    "start_time": "2025-02-27T06:58:54.606Z"
   },
   {
    "duration": 3,
    "start_time": "2025-02-27T06:58:55.043Z"
   },
   {
    "duration": 5415,
    "start_time": "2025-02-27T06:58:55.861Z"
   },
   {
    "duration": 5434,
    "start_time": "2025-02-27T07:00:02.982Z"
   },
   {
    "duration": 151,
    "start_time": "2025-02-27T07:00:26.054Z"
   },
   {
    "duration": 5394,
    "start_time": "2025-02-27T07:00:55.148Z"
   },
   {
    "duration": 218,
    "start_time": "2025-02-27T07:13:12.321Z"
   },
   {
    "duration": 5,
    "start_time": "2025-02-27T07:13:50.432Z"
   },
   {
    "duration": 4,
    "start_time": "2025-02-27T07:13:56.709Z"
   },
   {
    "duration": 26,
    "start_time": "2025-02-27T07:14:53.870Z"
   },
   {
    "duration": 15,
    "start_time": "2025-02-27T07:16:41.918Z"
   },
   {
    "duration": 14,
    "start_time": "2025-02-27T07:17:00.077Z"
   },
   {
    "duration": 4,
    "start_time": "2025-02-27T07:17:20.449Z"
   },
   {
    "duration": 16,
    "start_time": "2025-02-27T07:18:16.905Z"
   },
   {
    "duration": 4,
    "start_time": "2025-02-27T07:19:06.022Z"
   },
   {
    "duration": 137,
    "start_time": "2025-02-27T07:19:21.070Z"
   },
   {
    "duration": 13,
    "start_time": "2025-02-27T07:21:09.470Z"
   },
   {
    "duration": 2,
    "start_time": "2025-02-27T07:21:23.739Z"
   },
   {
    "duration": 3,
    "start_time": "2025-02-27T07:21:40.361Z"
   },
   {
    "duration": 14,
    "start_time": "2025-02-27T07:22:11.315Z"
   },
   {
    "duration": 4,
    "start_time": "2025-02-27T07:23:19.686Z"
   },
   {
    "duration": 17,
    "start_time": "2025-02-27T07:23:25.006Z"
   },
   {
    "duration": 15,
    "start_time": "2025-02-27T07:23:38.679Z"
   },
   {
    "duration": 4,
    "start_time": "2025-02-27T07:25:09.154Z"
   },
   {
    "duration": 142,
    "start_time": "2025-02-27T07:29:47.846Z"
   },
   {
    "duration": 1756,
    "start_time": "2025-02-27T07:30:56.894Z"
   },
   {
    "duration": 3517,
    "start_time": "2025-02-27T07:30:58.652Z"
   },
   {
    "duration": 16,
    "start_time": "2025-02-27T07:38:17.248Z"
   },
   {
    "duration": 25,
    "start_time": "2025-02-27T07:38:41.423Z"
   },
   {
    "duration": 14,
    "start_time": "2025-02-27T07:40:08.218Z"
   },
   {
    "duration": 14,
    "start_time": "2025-02-27T07:41:02.864Z"
   },
   {
    "duration": 14,
    "start_time": "2025-02-27T07:41:28.392Z"
   },
   {
    "duration": 15,
    "start_time": "2025-02-27T07:42:07.439Z"
   },
   {
    "duration": 15,
    "start_time": "2025-02-27T07:42:20.711Z"
   },
   {
    "duration": 14,
    "start_time": "2025-02-27T07:42:36.936Z"
   },
   {
    "duration": 16,
    "start_time": "2025-02-27T07:42:55.031Z"
   },
   {
    "duration": 15,
    "start_time": "2025-02-27T07:43:02.071Z"
   },
   {
    "duration": 4,
    "start_time": "2025-02-27T07:47:15.168Z"
   },
   {
    "duration": 137,
    "start_time": "2025-02-27T07:47:15.858Z"
   },
   {
    "duration": 1759,
    "start_time": "2025-02-27T07:47:16.912Z"
   },
   {
    "duration": 3510,
    "start_time": "2025-02-27T07:47:18.673Z"
   },
   {
    "duration": 14,
    "start_time": "2025-02-27T07:47:23.432Z"
   },
   {
    "duration": 40,
    "start_time": "2025-02-27T07:47:24.616Z"
   },
   {
    "duration": 24,
    "start_time": "2025-02-27T07:47:29.736Z"
   },
   {
    "duration": 18,
    "start_time": "2025-02-27T07:48:01.472Z"
   },
   {
    "duration": 39,
    "start_time": "2025-02-27T07:48:01.946Z"
   },
   {
    "duration": 25,
    "start_time": "2025-02-27T07:48:03.071Z"
   },
   {
    "duration": 4,
    "start_time": "2025-02-27T08:08:13.401Z"
   },
   {
    "duration": 31,
    "start_time": "2025-02-27T08:08:13.909Z"
   },
   {
    "duration": 14,
    "start_time": "2025-02-27T08:08:13.942Z"
   },
   {
    "duration": 164,
    "start_time": "2025-02-27T08:08:13.969Z"
   },
   {
    "duration": 216,
    "start_time": "2025-02-27T08:08:14.135Z"
   },
   {
    "duration": 83,
    "start_time": "2025-02-27T08:08:14.354Z"
   },
   {
    "duration": 25,
    "start_time": "2025-02-27T08:08:14.441Z"
   },
   {
    "duration": 23,
    "start_time": "2025-02-27T08:08:14.468Z"
   },
   {
    "duration": 21,
    "start_time": "2025-02-27T08:08:14.493Z"
   },
   {
    "duration": 11,
    "start_time": "2025-02-27T08:08:14.516Z"
   },
   {
    "duration": 18,
    "start_time": "2025-02-27T08:08:14.681Z"
   },
   {
    "duration": 15,
    "start_time": "2025-02-27T08:08:15.121Z"
   },
   {
    "duration": 44,
    "start_time": "2025-02-27T08:08:15.882Z"
   },
   {
    "duration": 7,
    "start_time": "2025-02-27T08:08:16.257Z"
   },
   {
    "duration": 3,
    "start_time": "2025-02-27T08:08:16.570Z"
   },
   {
    "duration": 6,
    "start_time": "2025-02-27T08:08:16.903Z"
   },
   {
    "duration": 15,
    "start_time": "2025-02-27T08:08:17.274Z"
   },
   {
    "duration": 16,
    "start_time": "2025-02-27T08:08:17.553Z"
   },
   {
    "duration": 34,
    "start_time": "2025-02-27T08:08:17.899Z"
   },
   {
    "duration": 10,
    "start_time": "2025-02-27T08:08:18.258Z"
   },
   {
    "duration": 3,
    "start_time": "2025-02-27T08:08:18.585Z"
   },
   {
    "duration": 9,
    "start_time": "2025-02-27T08:08:19.224Z"
   },
   {
    "duration": 3,
    "start_time": "2025-02-27T08:08:19.552Z"
   },
   {
    "duration": 139,
    "start_time": "2025-02-27T08:08:19.842Z"
   },
   {
    "duration": 1769,
    "start_time": "2025-02-27T08:08:20.466Z"
   },
   {
    "duration": 3523,
    "start_time": "2025-02-27T08:08:22.238Z"
   },
   {
    "duration": 14,
    "start_time": "2025-02-27T08:08:25.762Z"
   },
   {
    "duration": 40,
    "start_time": "2025-02-27T08:08:25.786Z"
   },
   {
    "duration": 23,
    "start_time": "2025-02-27T08:08:25.828Z"
   },
   {
    "duration": 4,
    "start_time": "2025-02-27T08:27:36.508Z"
   },
   {
    "duration": 30,
    "start_time": "2025-02-27T08:27:37.015Z"
   },
   {
    "duration": 13,
    "start_time": "2025-02-27T08:27:37.047Z"
   },
   {
    "duration": 160,
    "start_time": "2025-02-27T08:27:37.078Z"
   },
   {
    "duration": 205,
    "start_time": "2025-02-27T08:27:37.240Z"
   },
   {
    "duration": 23,
    "start_time": "2025-02-27T08:27:37.448Z"
   },
   {
    "duration": 23,
    "start_time": "2025-02-27T08:27:37.486Z"
   },
   {
    "duration": 19,
    "start_time": "2025-02-27T08:27:37.511Z"
   },
   {
    "duration": 11,
    "start_time": "2025-02-27T08:27:37.532Z"
   },
   {
    "duration": 16,
    "start_time": "2025-02-27T08:27:37.544Z"
   },
   {
    "duration": 13,
    "start_time": "2025-02-27T08:27:38.493Z"
   },
   {
    "duration": 4,
    "start_time": "2025-02-27T08:27:42.691Z"
   },
   {
    "duration": 11,
    "start_time": "2025-02-27T08:27:57.043Z"
   },
   {
    "duration": 14,
    "start_time": "2025-02-27T08:29:06.939Z"
   },
   {
    "duration": 15,
    "start_time": "2025-02-27T08:29:20.915Z"
   },
   {
    "duration": 43,
    "start_time": "2025-02-27T08:29:25.572Z"
   },
   {
    "duration": 5,
    "start_time": "2025-02-27T08:29:33.179Z"
   },
   {
    "duration": 4,
    "start_time": "2025-02-27T08:29:37.244Z"
   },
   {
    "duration": 7,
    "start_time": "2025-02-27T08:29:38.307Z"
   },
   {
    "duration": 6,
    "start_time": "2025-02-27T08:30:07.059Z"
   },
   {
    "duration": 15,
    "start_time": "2025-02-27T08:30:08.772Z"
   },
   {
    "duration": 35,
    "start_time": "2025-02-27T08:30:15.148Z"
   },
   {
    "duration": 9,
    "start_time": "2025-02-27T08:30:16.555Z"
   },
   {
    "duration": 2,
    "start_time": "2025-02-27T08:30:17.599Z"
   },
   {
    "duration": 8,
    "start_time": "2025-02-27T08:30:18.270Z"
   },
   {
    "duration": 3,
    "start_time": "2025-02-27T08:30:18.595Z"
   },
   {
    "duration": 58,
    "start_time": "2025-02-27T08:30:18.916Z"
   },
   {
    "duration": 132,
    "start_time": "2025-02-27T08:30:19.259Z"
   },
   {
    "duration": 3,
    "start_time": "2025-02-27T08:33:56.829Z"
   },
   {
    "duration": 28,
    "start_time": "2025-02-27T08:33:57.335Z"
   },
   {
    "duration": 15,
    "start_time": "2025-02-27T08:33:57.365Z"
   },
   {
    "duration": 170,
    "start_time": "2025-02-27T08:33:57.394Z"
   },
   {
    "duration": 213,
    "start_time": "2025-02-27T08:33:57.567Z"
   },
   {
    "duration": 79,
    "start_time": "2025-02-27T08:33:57.787Z"
   },
   {
    "duration": 26,
    "start_time": "2025-02-27T08:33:57.868Z"
   },
   {
    "duration": 28,
    "start_time": "2025-02-27T08:33:58.172Z"
   },
   {
    "duration": 23,
    "start_time": "2025-02-27T08:33:58.589Z"
   },
   {
    "duration": 13,
    "start_time": "2025-02-27T08:33:58.836Z"
   },
   {
    "duration": 20,
    "start_time": "2025-02-27T08:33:59.060Z"
   },
   {
    "duration": 16,
    "start_time": "2025-02-27T08:33:59.269Z"
   },
   {
    "duration": 16,
    "start_time": "2025-02-27T08:34:00.484Z"
   },
   {
    "duration": 46,
    "start_time": "2025-02-27T08:34:01.045Z"
   },
   {
    "duration": 6,
    "start_time": "2025-02-27T08:34:01.693Z"
   },
   {
    "duration": 3,
    "start_time": "2025-02-27T08:34:02.660Z"
   },
   {
    "duration": 7,
    "start_time": "2025-02-27T08:34:02.996Z"
   },
   {
    "duration": 37,
    "start_time": "2025-02-27T08:34:03.860Z"
   },
   {
    "duration": 11,
    "start_time": "2025-02-27T08:34:05.254Z"
   },
   {
    "duration": 3,
    "start_time": "2025-02-27T08:34:06.139Z"
   },
   {
    "duration": 10,
    "start_time": "2025-02-27T08:34:07.261Z"
   },
   {
    "duration": 3,
    "start_time": "2025-02-27T08:34:07.907Z"
   },
   {
    "duration": 150,
    "start_time": "2025-02-27T08:34:08.580Z"
   },
   {
    "duration": 1787,
    "start_time": "2025-02-27T08:34:09.429Z"
   },
   {
    "duration": 3646,
    "start_time": "2025-02-27T08:34:11.219Z"
   },
   {
    "duration": 22,
    "start_time": "2025-02-27T08:34:14.868Z"
   },
   {
    "duration": 41,
    "start_time": "2025-02-27T08:34:20.204Z"
   },
   {
    "duration": 26,
    "start_time": "2025-02-27T08:34:22.236Z"
   },
   {
    "duration": 10,
    "start_time": "2025-02-27T08:38:00.612Z"
   },
   {
    "duration": 5,
    "start_time": "2025-02-27T08:38:01.500Z"
   },
   {
    "duration": 8,
    "start_time": "2025-02-27T08:38:02.615Z"
   },
   {
    "duration": 3,
    "start_time": "2025-02-27T08:38:03.228Z"
   },
   {
    "duration": 136,
    "start_time": "2025-02-27T08:38:03.876Z"
   },
   {
    "duration": 458,
    "start_time": "2025-02-27T08:38:04.789Z"
   },
   {
    "duration": 3685,
    "start_time": "2025-02-27T08:38:05.350Z"
   },
   {
    "duration": 13,
    "start_time": "2025-02-27T08:38:09.038Z"
   },
   {
    "duration": 38,
    "start_time": "2025-02-27T08:38:14.653Z"
   },
   {
    "duration": 18,
    "start_time": "2025-02-27T08:38:15.373Z"
   },
   {
    "duration": 4,
    "start_time": "2025-02-27T08:39:02.261Z"
   },
   {
    "duration": 30,
    "start_time": "2025-02-27T08:39:02.774Z"
   },
   {
    "duration": 22,
    "start_time": "2025-02-27T08:39:02.806Z"
   },
   {
    "duration": 180,
    "start_time": "2025-02-27T08:39:02.834Z"
   },
   {
    "duration": 229,
    "start_time": "2025-02-27T08:39:03.017Z"
   },
   {
    "duration": 75,
    "start_time": "2025-02-27T08:39:03.248Z"
   },
   {
    "duration": 26,
    "start_time": "2025-02-27T08:39:03.333Z"
   },
   {
    "duration": 27,
    "start_time": "2025-02-27T08:39:03.780Z"
   },
   {
    "duration": 24,
    "start_time": "2025-02-27T08:39:04.092Z"
   },
   {
    "duration": 13,
    "start_time": "2025-02-27T08:39:04.436Z"
   },
   {
    "duration": 17,
    "start_time": "2025-02-27T08:39:04.797Z"
   },
   {
    "duration": 14,
    "start_time": "2025-02-27T08:39:05.269Z"
   },
   {
    "duration": 16,
    "start_time": "2025-02-27T08:39:07.085Z"
   },
   {
    "duration": 43,
    "start_time": "2025-02-27T08:39:07.660Z"
   },
   {
    "duration": 6,
    "start_time": "2025-02-27T08:39:08.309Z"
   },
   {
    "duration": 3,
    "start_time": "2025-02-27T08:39:08.893Z"
   },
   {
    "duration": 7,
    "start_time": "2025-02-27T08:39:09.196Z"
   },
   {
    "duration": 2,
    "start_time": "2025-02-27T08:39:09.438Z"
   },
   {
    "duration": 16,
    "start_time": "2025-02-27T08:39:09.700Z"
   },
   {
    "duration": 37,
    "start_time": "2025-02-27T08:39:09.997Z"
   },
   {
    "duration": 9,
    "start_time": "2025-02-27T08:39:10.734Z"
   },
   {
    "duration": 3,
    "start_time": "2025-02-27T08:39:12.700Z"
   },
   {
    "duration": 8,
    "start_time": "2025-02-27T08:39:13.956Z"
   },
   {
    "duration": 3,
    "start_time": "2025-02-27T08:39:14.437Z"
   },
   {
    "duration": 176,
    "start_time": "2025-02-27T08:39:15.021Z"
   },
   {
    "duration": 497,
    "start_time": "2025-02-27T08:39:15.750Z"
   },
   {
    "duration": 4028,
    "start_time": "2025-02-27T08:39:16.768Z"
   },
   {
    "duration": 15,
    "start_time": "2025-02-27T08:39:20.803Z"
   },
   {
    "duration": 39,
    "start_time": "2025-02-27T08:39:22.269Z"
   },
   {
    "duration": 21,
    "start_time": "2025-02-27T08:39:24.837Z"
   },
   {
    "duration": 4,
    "start_time": "2025-02-27T08:41:35.125Z"
   },
   {
    "duration": 30,
    "start_time": "2025-02-27T08:41:35.638Z"
   },
   {
    "duration": 13,
    "start_time": "2025-02-27T08:41:35.671Z"
   },
   {
    "duration": 165,
    "start_time": "2025-02-27T08:41:35.697Z"
   },
   {
    "duration": 218,
    "start_time": "2025-02-27T08:41:35.865Z"
   },
   {
    "duration": 74,
    "start_time": "2025-02-27T08:41:36.085Z"
   },
   {
    "duration": 25,
    "start_time": "2025-02-27T08:41:36.162Z"
   },
   {
    "duration": 27,
    "start_time": "2025-02-27T08:41:36.189Z"
   },
   {
    "duration": 20,
    "start_time": "2025-02-27T08:41:36.218Z"
   },
   {
    "duration": 11,
    "start_time": "2025-02-27T08:41:36.240Z"
   },
   {
    "duration": 40,
    "start_time": "2025-02-27T08:41:36.253Z"
   },
   {
    "duration": 14,
    "start_time": "2025-02-27T08:41:36.296Z"
   },
   {
    "duration": 15,
    "start_time": "2025-02-27T08:41:38.086Z"
   },
   {
    "duration": 41,
    "start_time": "2025-02-27T08:41:38.589Z"
   },
   {
    "duration": 4,
    "start_time": "2025-02-27T08:41:38.632Z"
   },
   {
    "duration": 3,
    "start_time": "2025-02-27T08:41:38.689Z"
   },
   {
    "duration": 6,
    "start_time": "2025-02-27T08:41:38.696Z"
   },
   {
    "duration": 2,
    "start_time": "2025-02-27T08:41:40.629Z"
   },
   {
    "duration": 17,
    "start_time": "2025-02-27T08:41:41.045Z"
   },
   {
    "duration": 33,
    "start_time": "2025-02-27T08:41:41.630Z"
   },
   {
    "duration": 10,
    "start_time": "2025-02-27T08:41:42.237Z"
   },
   {
    "duration": 3,
    "start_time": "2025-02-27T08:41:46.277Z"
   },
   {
    "duration": 8,
    "start_time": "2025-02-27T08:41:47.008Z"
   },
   {
    "duration": 3,
    "start_time": "2025-02-27T08:41:47.341Z"
   },
   {
    "duration": 143,
    "start_time": "2025-02-27T08:41:47.648Z"
   },
   {
    "duration": 1709,
    "start_time": "2025-02-27T08:41:48.102Z"
   },
   {
    "duration": 3328,
    "start_time": "2025-02-27T08:41:49.813Z"
   },
   {
    "duration": 18,
    "start_time": "2025-02-27T08:41:53.143Z"
   },
   {
    "duration": 39,
    "start_time": "2025-02-27T08:41:55.699Z"
   },
   {
    "duration": 24,
    "start_time": "2025-02-27T08:41:58.733Z"
   },
   {
    "duration": 3,
    "start_time": "2025-02-27T08:42:47.078Z"
   },
   {
    "duration": 31,
    "start_time": "2025-02-27T08:42:47.587Z"
   },
   {
    "duration": 13,
    "start_time": "2025-02-27T08:42:47.621Z"
   },
   {
    "duration": 174,
    "start_time": "2025-02-27T08:42:47.646Z"
   },
   {
    "duration": 247,
    "start_time": "2025-02-27T08:42:47.822Z"
   },
   {
    "duration": 75,
    "start_time": "2025-02-27T08:42:48.071Z"
   },
   {
    "duration": 26,
    "start_time": "2025-02-27T08:42:48.149Z"
   },
   {
    "duration": 25,
    "start_time": "2025-02-27T08:42:48.177Z"
   },
   {
    "duration": 22,
    "start_time": "2025-02-27T08:42:48.204Z"
   },
   {
    "duration": 12,
    "start_time": "2025-02-27T08:42:48.228Z"
   },
   {
    "duration": 18,
    "start_time": "2025-02-27T08:42:48.242Z"
   },
   {
    "duration": 40,
    "start_time": "2025-02-27T08:42:48.261Z"
   },
   {
    "duration": 17,
    "start_time": "2025-02-27T08:42:48.304Z"
   },
   {
    "duration": 66,
    "start_time": "2025-02-27T08:42:48.323Z"
   },
   {
    "duration": 5,
    "start_time": "2025-02-27T08:42:48.391Z"
   },
   {
    "duration": 4,
    "start_time": "2025-02-27T08:42:48.397Z"
   },
   {
    "duration": 6,
    "start_time": "2025-02-27T08:42:48.402Z"
   },
   {
    "duration": 2,
    "start_time": "2025-02-27T08:42:48.410Z"
   },
   {
    "duration": 18,
    "start_time": "2025-02-27T08:42:48.828Z"
   },
   {
    "duration": 36,
    "start_time": "2025-02-27T08:42:49.225Z"
   },
   {
    "duration": 10,
    "start_time": "2025-02-27T08:42:49.406Z"
   },
   {
    "duration": 3,
    "start_time": "2025-02-27T08:42:49.782Z"
   },
   {
    "duration": 10,
    "start_time": "2025-02-27T08:42:50.189Z"
   },
   {
    "duration": 3,
    "start_time": "2025-02-27T08:42:50.701Z"
   },
   {
    "duration": 139,
    "start_time": "2025-02-27T08:42:50.730Z"
   },
   {
    "duration": 1719,
    "start_time": "2025-02-27T08:42:50.872Z"
   },
   {
    "duration": 3492,
    "start_time": "2025-02-27T08:42:52.593Z"
   },
   {
    "duration": 14,
    "start_time": "2025-02-27T08:42:56.087Z"
   },
   {
    "duration": 39,
    "start_time": "2025-02-27T08:42:56.103Z"
   },
   {
    "duration": 43,
    "start_time": "2025-02-27T08:42:56.144Z"
   },
   {
    "duration": 4,
    "start_time": "2025-02-27T08:43:26.053Z"
   },
   {
    "duration": 28,
    "start_time": "2025-02-27T08:43:26.563Z"
   },
   {
    "duration": 13,
    "start_time": "2025-02-27T08:43:26.594Z"
   },
   {
    "duration": 165,
    "start_time": "2025-02-27T08:43:26.622Z"
   },
   {
    "duration": 214,
    "start_time": "2025-02-27T08:43:26.789Z"
   },
   {
    "duration": 72,
    "start_time": "2025-02-27T08:43:27.005Z"
   },
   {
    "duration": 26,
    "start_time": "2025-02-27T08:43:27.080Z"
   },
   {
    "duration": 25,
    "start_time": "2025-02-27T08:43:27.108Z"
   },
   {
    "duration": 21,
    "start_time": "2025-02-27T08:43:27.135Z"
   },
   {
    "duration": 31,
    "start_time": "2025-02-27T08:43:27.158Z"
   },
   {
    "duration": 16,
    "start_time": "2025-02-27T08:43:27.190Z"
   },
   {
    "duration": 13,
    "start_time": "2025-02-27T08:43:27.208Z"
   },
   {
    "duration": 14,
    "start_time": "2025-02-27T08:43:27.225Z"
   },
   {
    "duration": 72,
    "start_time": "2025-02-27T08:43:27.240Z"
   },
   {
    "duration": 4,
    "start_time": "2025-02-27T08:43:27.314Z"
   },
   {
    "duration": 3,
    "start_time": "2025-02-27T08:43:27.320Z"
   },
   {
    "duration": 6,
    "start_time": "2025-02-27T08:43:27.324Z"
   },
   {
    "duration": 3,
    "start_time": "2025-02-27T08:43:27.331Z"
   },
   {
    "duration": 14,
    "start_time": "2025-02-27T08:43:27.337Z"
   },
   {
    "duration": 67,
    "start_time": "2025-02-27T08:43:27.353Z"
   },
   {
    "duration": 10,
    "start_time": "2025-02-27T08:43:27.423Z"
   },
   {
    "duration": 3,
    "start_time": "2025-02-27T08:43:27.435Z"
   },
   {
    "duration": 9,
    "start_time": "2025-02-27T08:43:28.086Z"
   },
   {
    "duration": 3,
    "start_time": "2025-02-27T08:43:28.588Z"
   },
   {
    "duration": 142,
    "start_time": "2025-02-27T08:43:28.619Z"
   },
   {
    "duration": 1720,
    "start_time": "2025-02-27T08:43:28.763Z"
   },
   {
    "duration": 3553,
    "start_time": "2025-02-27T08:43:30.486Z"
   },
   {
    "duration": 14,
    "start_time": "2025-02-27T08:43:34.041Z"
   },
   {
    "duration": 57,
    "start_time": "2025-02-27T08:43:34.057Z"
   },
   {
    "duration": 25,
    "start_time": "2025-02-27T08:43:34.116Z"
   },
   {
    "duration": 3,
    "start_time": "2025-02-27T08:45:03.399Z"
   },
   {
    "duration": 33,
    "start_time": "2025-02-27T08:45:03.898Z"
   },
   {
    "duration": 17,
    "start_time": "2025-02-27T08:45:03.934Z"
   },
   {
    "duration": 182,
    "start_time": "2025-02-27T08:45:03.977Z"
   },
   {
    "duration": 217,
    "start_time": "2025-02-27T08:45:04.162Z"
   },
   {
    "duration": 77,
    "start_time": "2025-02-27T08:45:04.381Z"
   },
   {
    "duration": 25,
    "start_time": "2025-02-27T08:45:04.461Z"
   },
   {
    "duration": 25,
    "start_time": "2025-02-27T08:45:04.488Z"
   },
   {
    "duration": 21,
    "start_time": "2025-02-27T08:45:04.514Z"
   },
   {
    "duration": 12,
    "start_time": "2025-02-27T08:45:04.537Z"
   },
   {
    "duration": 40,
    "start_time": "2025-02-27T08:45:04.551Z"
   },
   {
    "duration": 14,
    "start_time": "2025-02-27T08:45:04.593Z"
   },
   {
    "duration": 14,
    "start_time": "2025-02-27T08:45:04.609Z"
   },
   {
    "duration": 62,
    "start_time": "2025-02-27T08:45:04.624Z"
   },
   {
    "duration": 6,
    "start_time": "2025-02-27T08:45:04.688Z"
   },
   {
    "duration": 3,
    "start_time": "2025-02-27T08:45:04.696Z"
   },
   {
    "duration": 6,
    "start_time": "2025-02-27T08:45:04.700Z"
   },
   {
    "duration": 2,
    "start_time": "2025-02-27T08:45:04.709Z"
   },
   {
    "duration": 16,
    "start_time": "2025-02-27T08:45:05.133Z"
   },
   {
    "duration": 36,
    "start_time": "2025-02-27T08:45:05.343Z"
   },
   {
    "duration": 10,
    "start_time": "2025-02-27T08:45:05.516Z"
   },
   {
    "duration": 3,
    "start_time": "2025-02-27T08:45:05.684Z"
   },
   {
    "duration": 11,
    "start_time": "2025-02-27T08:45:06.324Z"
   },
   {
    "duration": 3,
    "start_time": "2025-02-27T08:45:06.501Z"
   },
   {
    "duration": 144,
    "start_time": "2025-02-27T08:45:06.678Z"
   },
   {
    "duration": 1744,
    "start_time": "2025-02-27T08:45:06.864Z"
   },
   {
    "duration": 3513,
    "start_time": "2025-02-27T08:45:08.611Z"
   },
   {
    "duration": 14,
    "start_time": "2025-02-27T08:45:12.126Z"
   },
   {
    "duration": 52,
    "start_time": "2025-02-27T08:45:12.142Z"
   },
   {
    "duration": 25,
    "start_time": "2025-02-27T08:45:12.196Z"
   },
   {
    "duration": 4,
    "start_time": "2025-02-27T08:45:37.014Z"
   },
   {
    "duration": 30,
    "start_time": "2025-02-27T08:45:37.518Z"
   },
   {
    "duration": 14,
    "start_time": "2025-02-27T08:45:37.549Z"
   },
   {
    "duration": 162,
    "start_time": "2025-02-27T08:45:37.593Z"
   },
   {
    "duration": 213,
    "start_time": "2025-02-27T08:45:37.758Z"
   },
   {
    "duration": 76,
    "start_time": "2025-02-27T08:45:37.973Z"
   },
   {
    "duration": 24,
    "start_time": "2025-02-27T08:45:38.051Z"
   },
   {
    "duration": 24,
    "start_time": "2025-02-27T08:45:38.076Z"
   },
   {
    "duration": 23,
    "start_time": "2025-02-27T08:45:38.102Z"
   },
   {
    "duration": 16,
    "start_time": "2025-02-27T08:45:38.126Z"
   },
   {
    "duration": 16,
    "start_time": "2025-02-27T08:45:38.144Z"
   },
   {
    "duration": 32,
    "start_time": "2025-02-27T08:45:38.161Z"
   },
   {
    "duration": 14,
    "start_time": "2025-02-27T08:45:38.196Z"
   },
   {
    "duration": 39,
    "start_time": "2025-02-27T08:45:38.212Z"
   },
   {
    "duration": 8,
    "start_time": "2025-02-27T08:45:38.253Z"
   },
   {
    "duration": 3,
    "start_time": "2025-02-27T08:45:38.264Z"
   },
   {
    "duration": 24,
    "start_time": "2025-02-27T08:45:38.268Z"
   },
   {
    "duration": 2,
    "start_time": "2025-02-27T08:45:38.930Z"
   },
   {
    "duration": 16,
    "start_time": "2025-02-27T08:45:39.293Z"
   },
   {
    "duration": 34,
    "start_time": "2025-02-27T08:45:39.639Z"
   },
   {
    "duration": 10,
    "start_time": "2025-02-27T08:45:39.968Z"
   },
   {
    "duration": 4,
    "start_time": "2025-02-27T08:45:40.255Z"
   },
   {
    "duration": 10,
    "start_time": "2025-02-27T08:45:41.397Z"
   },
   {
    "duration": 4,
    "start_time": "2025-02-27T08:45:41.621Z"
   },
   {
    "duration": 146,
    "start_time": "2025-02-27T08:45:41.846Z"
   },
   {
    "duration": 1812,
    "start_time": "2025-02-27T08:45:42.222Z"
   },
   {
    "duration": 3591,
    "start_time": "2025-02-27T08:45:44.037Z"
   },
   {
    "duration": 14,
    "start_time": "2025-02-27T08:45:47.630Z"
   },
   {
    "duration": 57,
    "start_time": "2025-02-27T08:45:47.646Z"
   },
   {
    "duration": 24,
    "start_time": "2025-02-27T08:45:47.705Z"
   },
   {
    "duration": 3,
    "start_time": "2025-02-27T08:46:35.357Z"
   },
   {
    "duration": 30,
    "start_time": "2025-02-27T08:46:35.863Z"
   },
   {
    "duration": 13,
    "start_time": "2025-02-27T08:46:35.895Z"
   },
   {
    "duration": 167,
    "start_time": "2025-02-27T08:46:35.923Z"
   },
   {
    "duration": 217,
    "start_time": "2025-02-27T08:46:36.093Z"
   },
   {
    "duration": 76,
    "start_time": "2025-02-27T08:46:36.312Z"
   },
   {
    "duration": 24,
    "start_time": "2025-02-27T08:46:36.391Z"
   },
   {
    "duration": 24,
    "start_time": "2025-02-27T08:46:36.416Z"
   },
   {
    "duration": 20,
    "start_time": "2025-02-27T08:46:36.442Z"
   },
   {
    "duration": 33,
    "start_time": "2025-02-27T08:46:36.464Z"
   },
   {
    "duration": 16,
    "start_time": "2025-02-27T08:46:36.499Z"
   },
   {
    "duration": 12,
    "start_time": "2025-02-27T08:46:36.517Z"
   },
   {
    "duration": 67,
    "start_time": "2025-02-27T08:46:36.532Z"
   },
   {
    "duration": 5,
    "start_time": "2025-02-27T08:46:36.600Z"
   },
   {
    "duration": 3,
    "start_time": "2025-02-27T08:46:36.608Z"
   },
   {
    "duration": 7,
    "start_time": "2025-02-27T08:46:36.612Z"
   },
   {
    "duration": 15,
    "start_time": "2025-02-27T08:46:36.620Z"
   },
   {
    "duration": 14,
    "start_time": "2025-02-27T08:46:36.636Z"
   },
   {
    "duration": 69,
    "start_time": "2025-02-27T08:46:36.652Z"
   },
   {
    "duration": 9,
    "start_time": "2025-02-27T08:46:36.722Z"
   },
   {
    "duration": 3,
    "start_time": "2025-02-27T08:46:36.734Z"
   },
   {
    "duration": 8,
    "start_time": "2025-02-27T08:46:36.739Z"
   },
   {
    "duration": 4,
    "start_time": "2025-02-27T08:46:37.469Z"
   },
   {
    "duration": 161,
    "start_time": "2025-02-27T08:46:37.982Z"
   },
   {
    "duration": 1780,
    "start_time": "2025-02-27T08:46:38.145Z"
   },
   {
    "duration": 3549,
    "start_time": "2025-02-27T08:46:39.927Z"
   },
   {
    "duration": 24,
    "start_time": "2025-02-27T08:46:43.479Z"
   },
   {
    "duration": 41,
    "start_time": "2025-02-27T08:46:43.504Z"
   },
   {
    "duration": 40,
    "start_time": "2025-02-27T08:46:43.547Z"
   },
   {
    "duration": 3,
    "start_time": "2025-02-27T08:48:07.909Z"
   },
   {
    "duration": 31,
    "start_time": "2025-02-27T08:48:08.413Z"
   },
   {
    "duration": 14,
    "start_time": "2025-02-27T08:48:08.445Z"
   },
   {
    "duration": 172,
    "start_time": "2025-02-27T08:48:08.476Z"
   },
   {
    "duration": 223,
    "start_time": "2025-02-27T08:48:08.650Z"
   },
   {
    "duration": 75,
    "start_time": "2025-02-27T08:48:08.875Z"
   },
   {
    "duration": 25,
    "start_time": "2025-02-27T08:48:08.952Z"
   },
   {
    "duration": 24,
    "start_time": "2025-02-27T08:48:08.978Z"
   },
   {
    "duration": 22,
    "start_time": "2025-02-27T08:48:09.006Z"
   },
   {
    "duration": 11,
    "start_time": "2025-02-27T08:48:09.030Z"
   },
   {
    "duration": 17,
    "start_time": "2025-02-27T08:48:09.043Z"
   },
   {
    "duration": 38,
    "start_time": "2025-02-27T08:48:09.062Z"
   },
   {
    "duration": 46,
    "start_time": "2025-02-27T08:48:09.104Z"
   },
   {
    "duration": 6,
    "start_time": "2025-02-27T08:48:09.151Z"
   },
   {
    "duration": 28,
    "start_time": "2025-02-27T08:48:09.159Z"
   },
   {
    "duration": 6,
    "start_time": "2025-02-27T08:48:09.190Z"
   },
   {
    "duration": 14,
    "start_time": "2025-02-27T08:48:09.198Z"
   },
   {
    "duration": 16,
    "start_time": "2025-02-27T08:48:09.214Z"
   },
   {
    "duration": 63,
    "start_time": "2025-02-27T08:48:09.232Z"
   },
   {
    "duration": 10,
    "start_time": "2025-02-27T08:48:09.297Z"
   },
   {
    "duration": 2,
    "start_time": "2025-02-27T08:48:09.310Z"
   },
   {
    "duration": 9,
    "start_time": "2025-02-27T08:48:09.314Z"
   },
   {
    "duration": 4,
    "start_time": "2025-02-27T08:48:09.324Z"
   },
   {
    "duration": 178,
    "start_time": "2025-02-27T08:48:09.329Z"
   },
   {
    "duration": 608,
    "start_time": "2025-02-27T08:48:09.509Z"
   },
   {
    "duration": 3908,
    "start_time": "2025-02-27T08:48:10.120Z"
   },
   {
    "duration": 14,
    "start_time": "2025-02-27T08:48:14.030Z"
   },
   {
    "duration": 156,
    "start_time": "2025-02-27T08:48:14.047Z"
   },
   {
    "duration": 20,
    "start_time": "2025-02-27T08:48:14.205Z"
   },
   {
    "duration": 3,
    "start_time": "2025-02-27T08:48:51.206Z"
   },
   {
    "duration": 30,
    "start_time": "2025-02-27T08:48:51.715Z"
   },
   {
    "duration": 16,
    "start_time": "2025-02-27T08:48:51.747Z"
   },
   {
    "duration": 169,
    "start_time": "2025-02-27T08:48:51.775Z"
   },
   {
    "duration": 203,
    "start_time": "2025-02-27T08:48:51.947Z"
   },
   {
    "duration": 80,
    "start_time": "2025-02-27T08:48:52.153Z"
   },
   {
    "duration": 28,
    "start_time": "2025-02-27T08:48:52.236Z"
   },
   {
    "duration": 28,
    "start_time": "2025-02-27T08:48:52.266Z"
   },
   {
    "duration": 20,
    "start_time": "2025-02-27T08:48:52.296Z"
   },
   {
    "duration": 14,
    "start_time": "2025-02-27T08:48:52.317Z"
   },
   {
    "duration": 18,
    "start_time": "2025-02-27T08:48:52.332Z"
   },
   {
    "duration": 39,
    "start_time": "2025-02-27T08:48:52.351Z"
   },
   {
    "duration": 42,
    "start_time": "2025-02-27T08:48:52.394Z"
   },
   {
    "duration": 5,
    "start_time": "2025-02-27T08:48:52.438Z"
   },
   {
    "duration": 3,
    "start_time": "2025-02-27T08:48:52.445Z"
   },
   {
    "duration": 6,
    "start_time": "2025-02-27T08:48:52.449Z"
   },
   {
    "duration": 43,
    "start_time": "2025-02-27T08:48:52.457Z"
   },
   {
    "duration": 16,
    "start_time": "2025-02-27T08:48:52.502Z"
   },
   {
    "duration": 34,
    "start_time": "2025-02-27T08:48:52.519Z"
   },
   {
    "duration": 34,
    "start_time": "2025-02-27T08:48:52.555Z"
   },
   {
    "duration": 3,
    "start_time": "2025-02-27T08:48:52.592Z"
   },
   {
    "duration": 9,
    "start_time": "2025-02-27T08:48:52.597Z"
   },
   {
    "duration": 3,
    "start_time": "2025-02-27T08:48:52.608Z"
   },
   {
    "duration": 173,
    "start_time": "2025-02-27T08:48:53.053Z"
   },
   {
    "duration": 1742,
    "start_time": "2025-02-27T08:48:53.277Z"
   },
   {
    "duration": 3425,
    "start_time": "2025-02-27T08:48:55.021Z"
   },
   {
    "duration": 15,
    "start_time": "2025-02-27T08:48:58.447Z"
   },
   {
    "duration": 56,
    "start_time": "2025-02-27T08:48:58.464Z"
   },
   {
    "duration": 24,
    "start_time": "2025-02-27T08:48:58.522Z"
   },
   {
    "duration": 4,
    "start_time": "2025-02-27T08:52:30.524Z"
   },
   {
    "duration": 29,
    "start_time": "2025-02-27T08:52:31.055Z"
   },
   {
    "duration": 14,
    "start_time": "2025-02-27T08:52:31.087Z"
   },
   {
    "duration": 186,
    "start_time": "2025-02-27T08:52:31.103Z"
   },
   {
    "duration": 456,
    "start_time": "2025-02-27T08:52:31.291Z"
   },
   {
    "duration": 74,
    "start_time": "2025-02-27T08:52:31.750Z"
   },
   {
    "duration": 24,
    "start_time": "2025-02-27T08:52:31.825Z"
   },
   {
    "duration": 25,
    "start_time": "2025-02-27T08:52:31.851Z"
   },
   {
    "duration": 21,
    "start_time": "2025-02-27T08:52:31.878Z"
   },
   {
    "duration": 14,
    "start_time": "2025-02-27T08:52:32.056Z"
   },
   {
    "duration": 16,
    "start_time": "2025-02-27T08:52:32.073Z"
   },
   {
    "duration": 16,
    "start_time": "2025-02-27T08:52:32.568Z"
   },
   {
    "duration": 47,
    "start_time": "2025-02-27T08:52:32.832Z"
   },
   {
    "duration": 6,
    "start_time": "2025-02-27T08:52:33.014Z"
   },
   {
    "duration": 3,
    "start_time": "2025-02-27T08:52:33.238Z"
   },
   {
    "duration": 6,
    "start_time": "2025-02-27T08:52:33.838Z"
   },
   {
    "duration": 15,
    "start_time": "2025-02-27T08:52:38.206Z"
   },
   {
    "duration": 16,
    "start_time": "2025-02-27T08:52:48.821Z"
   },
   {
    "duration": 37,
    "start_time": "2025-02-27T08:52:52.000Z"
   },
   {
    "duration": 23,
    "start_time": "2025-02-27T08:53:02.926Z"
   },
   {
    "duration": 2,
    "start_time": "2025-02-27T08:53:03.366Z"
   },
   {
    "duration": 8,
    "start_time": "2025-02-27T08:53:32.710Z"
   },
   {
    "duration": 3,
    "start_time": "2025-02-27T08:53:38.063Z"
   },
   {
    "duration": 11,
    "start_time": "2025-02-27T08:53:39.134Z"
   },
   {
    "duration": 2,
    "start_time": "2025-02-27T08:53:39.454Z"
   },
   {
    "duration": 127,
    "start_time": "2025-02-27T08:53:39.774Z"
   },
   {
    "duration": 86,
    "start_time": "2025-02-27T08:53:40.142Z"
   },
   {
    "duration": 9,
    "start_time": "2025-02-27T08:54:54.198Z"
   },
   {
    "duration": 2,
    "start_time": "2025-02-27T08:54:55.519Z"
   },
   {
    "duration": 61,
    "start_time": "2025-02-27T08:54:56.519Z"
   },
   {
    "duration": 561,
    "start_time": "2025-02-27T08:54:57.603Z"
   },
   {
    "duration": 2133,
    "start_time": "2025-02-27T08:54:58.381Z"
   },
   {
    "duration": 15,
    "start_time": "2025-02-27T08:55:00.516Z"
   },
   {
    "duration": 29,
    "start_time": "2025-02-27T08:55:00.615Z"
   },
   {
    "duration": 20,
    "start_time": "2025-02-27T08:55:01.854Z"
   },
   {
    "duration": 3,
    "start_time": "2025-02-27T08:56:28.863Z"
   },
   {
    "duration": 30,
    "start_time": "2025-02-27T08:56:29.357Z"
   },
   {
    "duration": 14,
    "start_time": "2025-02-27T08:56:29.388Z"
   },
   {
    "duration": 161,
    "start_time": "2025-02-27T08:56:29.435Z"
   },
   {
    "duration": 204,
    "start_time": "2025-02-27T08:56:29.598Z"
   },
   {
    "duration": 74,
    "start_time": "2025-02-27T08:56:29.804Z"
   },
   {
    "duration": 24,
    "start_time": "2025-02-27T08:56:29.881Z"
   },
   {
    "duration": 23,
    "start_time": "2025-02-27T08:56:29.907Z"
   },
   {
    "duration": 21,
    "start_time": "2025-02-27T08:56:29.932Z"
   },
   {
    "duration": 33,
    "start_time": "2025-02-27T08:56:29.954Z"
   },
   {
    "duration": 15,
    "start_time": "2025-02-27T08:56:29.989Z"
   },
   {
    "duration": 13,
    "start_time": "2025-02-27T08:56:30.006Z"
   },
   {
    "duration": 71,
    "start_time": "2025-02-27T08:56:30.022Z"
   },
   {
    "duration": 4,
    "start_time": "2025-02-27T08:56:30.095Z"
   },
   {
    "duration": 3,
    "start_time": "2025-02-27T08:56:30.101Z"
   },
   {
    "duration": 6,
    "start_time": "2025-02-27T08:56:30.106Z"
   },
   {
    "duration": 15,
    "start_time": "2025-02-27T08:56:30.113Z"
   },
   {
    "duration": 15,
    "start_time": "2025-02-27T08:56:30.129Z"
   },
   {
    "duration": 65,
    "start_time": "2025-02-27T08:56:30.146Z"
   },
   {
    "duration": 8,
    "start_time": "2025-02-27T08:56:30.214Z"
   },
   {
    "duration": 3,
    "start_time": "2025-02-27T08:56:30.818Z"
   },
   {
    "duration": 9,
    "start_time": "2025-02-27T08:56:31.567Z"
   },
   {
    "duration": 3,
    "start_time": "2025-02-27T08:56:31.887Z"
   },
   {
    "duration": 148,
    "start_time": "2025-02-27T08:56:32.214Z"
   },
   {
    "duration": 1794,
    "start_time": "2025-02-27T08:56:32.433Z"
   },
   {
    "duration": 3537,
    "start_time": "2025-02-27T08:56:34.230Z"
   },
   {
    "duration": 24,
    "start_time": "2025-02-27T08:56:37.769Z"
   },
   {
    "duration": 40,
    "start_time": "2025-02-27T08:56:37.795Z"
   },
   {
    "duration": 31,
    "start_time": "2025-02-27T08:56:37.836Z"
   },
   {
    "duration": 161,
    "start_time": "2025-04-05T17:44:59.933Z"
   },
   {
    "duration": 1054,
    "start_time": "2025-04-05T17:45:04.934Z"
   },
   {
    "duration": 4,
    "start_time": "2025-04-05T17:45:09.228Z"
   },
   {
    "duration": 4,
    "start_time": "2025-04-05T17:51:36.312Z"
   },
   {
    "duration": 3,
    "start_time": "2025-04-05T17:52:02.367Z"
   },
   {
    "duration": 3,
    "start_time": "2025-04-05T17:52:15.746Z"
   }
  ],
  "kernelspec": {
   "display_name": "Python [conda env:base] *",
   "language": "python",
   "name": "conda-base-py"
  },
  "language_info": {
   "codemirror_mode": {
    "name": "ipython",
    "version": 3
   },
   "file_extension": ".py",
   "mimetype": "text/x-python",
   "name": "python",
   "nbconvert_exporter": "python",
   "pygments_lexer": "ipython3",
   "version": "3.12.7"
  },
  "toc": {
   "base_numbering": 1,
   "nav_menu": {},
   "number_sections": true,
   "sideBar": true,
   "skip_h1_title": true,
   "title_cell": "Table of Contents",
   "title_sidebar": "Contents",
   "toc_cell": false,
   "toc_position": {},
   "toc_section_display": true,
   "toc_window_display": false
  }
 },
 "nbformat": 4,
 "nbformat_minor": 4
}
